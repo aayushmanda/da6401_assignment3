{
  "nbformat": 4,
  "nbformat_minor": 0,
  "metadata": {
    "colab": {
      "provenance": [],
      "gpuType": "T4",
      "include_colab_link": true
    },
    "kernelspec": {
      "name": "python3",
      "display_name": "Python 3"
    },
    "language_info": {
      "name": "python"
    },
    "accelerator": "GPU"
  },
  "cells": [
    {
      "cell_type": "markdown",
      "metadata": {
        "id": "view-in-github",
        "colab_type": "text"
      },
      "source": [
        "<a href=\"https://colab.research.google.com/github/aayushmanda/da6401_assignment3/blob/main/asg3_attention.ipynb\" target=\"_parent\"><img src=\"https://colab.research.google.com/assets/colab-badge.svg\" alt=\"Open In Colab\"/></a>"
      ]
    },
    {
      "cell_type": "code",
      "source": [
        "import torch\n",
        "import torch.nn as nn\n",
        "import torch.optim as optim\n",
        "from torch.utils.data import Dataset, DataLoader\n",
        "import numpy as np\n",
        "import os\n",
        "import random\n",
        "import re\n",
        "from prettytable import PrettyTable\n",
        "import matplotlib.pyplot as plt"
      ],
      "metadata": {
        "id": "wfvFlbmoMGP7"
      },
      "execution_count": null,
      "outputs": []
    },
    {
      "cell_type": "code",
      "source": [
        "!wget https://storage.googleapis.com/gresearch/dakshina/dakshina_dataset_v1.0.tar\n",
        "!tar -xvf dakshina_dataset_v1.0.tar\n"
      ],
      "metadata": {
        "colab": {
          "base_uri": "https://localhost:8080/"
        },
        "id": "omPKz-LBNGOu",
        "outputId": "598ed200-dad0-44cc-c6fe-09f6415429de"
      },
      "execution_count": null,
      "outputs": [
        {
          "output_type": "stream",
          "name": "stdout",
          "text": [
            "--2025-05-19 15:31:08--  https://storage.googleapis.com/gresearch/dakshina/dakshina_dataset_v1.0.tar\n",
            "Resolving storage.googleapis.com (storage.googleapis.com)... 142.251.2.207, 74.125.137.207, 142.250.101.207, ...\n",
            "Connecting to storage.googleapis.com (storage.googleapis.com)|142.251.2.207|:443... connected.\n",
            "HTTP request sent, awaiting response... 200 OK\n",
            "Length: 2008340480 (1.9G) [application/x-tar]\n",
            "Saving to: ‘dakshina_dataset_v1.0.tar’\n",
            "\n",
            "dakshina_dataset_v1 100%[===================>]   1.87G   240MB/s    in 14s     \n",
            "\n",
            "2025-05-19 15:31:22 (138 MB/s) - ‘dakshina_dataset_v1.0.tar’ saved [2008340480/2008340480]\n",
            "\n",
            "dakshina_dataset_v1.0/bn/\n",
            "dakshina_dataset_v1.0/bn/lexicons/\n",
            "dakshina_dataset_v1.0/bn/lexicons/bn.translit.sampled.test.tsv\n",
            "dakshina_dataset_v1.0/bn/lexicons/bn.translit.sampled.train.tsv\n",
            "dakshina_dataset_v1.0/bn/lexicons/bn.translit.sampled.dev.tsv\n",
            "dakshina_dataset_v1.0/bn/native_script_wikipedia/\n",
            "dakshina_dataset_v1.0/bn/native_script_wikipedia/bn.wiki-filt.valid.text.shuf.txt.gz\n",
            "dakshina_dataset_v1.0/bn/native_script_wikipedia/bn.wiki-full.info.sorted.tsv.gz\n",
            "dakshina_dataset_v1.0/bn/native_script_wikipedia/bn.wiki-filt.train.info.sorted.tsv.gz\n",
            "dakshina_dataset_v1.0/bn/native_script_wikipedia/bn.wiki-filt.train.text.sorted.tsv.gz\n",
            "dakshina_dataset_v1.0/bn/native_script_wikipedia/bn.wiki-filt.train.text.shuf.txt.gz\n",
            "dakshina_dataset_v1.0/bn/native_script_wikipedia/bn.wiki-full.nonblock.sections.tsv.gz\n",
            "dakshina_dataset_v1.0/bn/native_script_wikipedia/bn.wiki-full.omit_pages.txt.gz\n",
            "dakshina_dataset_v1.0/bn/native_script_wikipedia/bn.wiki-full.text.sorted.tsv.gz\n",
            "dakshina_dataset_v1.0/bn/native_script_wikipedia/bn.wiki-full.nonblock.sections.list.txt.gz\n",
            "dakshina_dataset_v1.0/bn/native_script_wikipedia/bn.wiki-full.urls.tsv.gz\n",
            "dakshina_dataset_v1.0/bn/native_script_wikipedia/bn.wiki-filt.valid.text.sorted.tsv.gz\n",
            "dakshina_dataset_v1.0/bn/native_script_wikipedia/bn.wiki-filt.valid.info.sorted.tsv.gz\n",
            "dakshina_dataset_v1.0/bn/romanized/\n",
            "dakshina_dataset_v1.0/bn/romanized/bn.romanized.rejoined.tsv\n",
            "dakshina_dataset_v1.0/bn/romanized/bn.romanized.rejoined.dev.native.txt\n",
            "dakshina_dataset_v1.0/bn/romanized/bn.romanized.split.tsv\n",
            "dakshina_dataset_v1.0/bn/romanized/bn.romanized.rejoined.dev.roman.txt\n",
            "dakshina_dataset_v1.0/bn/romanized/bn.romanized.rejoined.aligned.tsv\n",
            "dakshina_dataset_v1.0/bn/romanized/bn.romanized.split.validation.native.txt\n",
            "dakshina_dataset_v1.0/bn/romanized/bn.romanized.split.validation.edits.txt\n",
            "dakshina_dataset_v1.0/bn/romanized/bn.romanized.rejoined.aligned.cased_nopunct.tsv\n",
            "dakshina_dataset_v1.0/bn/romanized/bn.romanized.rejoined.test.roman.txt\n",
            "dakshina_dataset_v1.0/bn/romanized/bn.romanized.rejoined.test.native.txt\n",
            "dakshina_dataset_v1.0/gu/\n",
            "dakshina_dataset_v1.0/gu/lexicons/\n",
            "dakshina_dataset_v1.0/gu/lexicons/gu.translit.sampled.train.tsv\n",
            "dakshina_dataset_v1.0/gu/lexicons/gu.translit.sampled.test.tsv\n",
            "dakshina_dataset_v1.0/gu/lexicons/gu.translit.sampled.dev.tsv\n",
            "dakshina_dataset_v1.0/gu/native_script_wikipedia/\n",
            "dakshina_dataset_v1.0/gu/native_script_wikipedia/gu.wiki-filt.train.text.shuf.txt.gz\n",
            "dakshina_dataset_v1.0/gu/native_script_wikipedia/gu.wiki-full.nonblock.sections.list.txt.gz\n",
            "dakshina_dataset_v1.0/gu/native_script_wikipedia/gu.wiki-full.info.sorted.tsv.gz\n",
            "dakshina_dataset_v1.0/gu/native_script_wikipedia/gu.wiki-filt.valid.text.shuf.txt.gz\n",
            "dakshina_dataset_v1.0/gu/native_script_wikipedia/gu.wiki-filt.train.text.sorted.tsv.gz\n",
            "dakshina_dataset_v1.0/gu/native_script_wikipedia/gu.wiki-full.text.sorted.tsv.gz\n",
            "dakshina_dataset_v1.0/gu/native_script_wikipedia/gu.wiki-filt.train.info.sorted.tsv.gz\n",
            "dakshina_dataset_v1.0/gu/native_script_wikipedia/gu.wiki-full.nonblock.sections.tsv.gz\n",
            "dakshina_dataset_v1.0/gu/native_script_wikipedia/gu.wiki-full.omit_pages.txt.gz\n",
            "dakshina_dataset_v1.0/gu/native_script_wikipedia/gu.wiki-full.urls.tsv.gz\n",
            "dakshina_dataset_v1.0/gu/native_script_wikipedia/gu.wiki-filt.valid.text.sorted.tsv.gz\n",
            "dakshina_dataset_v1.0/gu/native_script_wikipedia/gu.wiki-filt.valid.info.sorted.tsv.gz\n",
            "dakshina_dataset_v1.0/gu/romanized/\n",
            "dakshina_dataset_v1.0/gu/romanized/gu.romanized.split.validation.edits.txt\n",
            "dakshina_dataset_v1.0/gu/romanized/gu.romanized.split.tsv\n",
            "dakshina_dataset_v1.0/gu/romanized/gu.romanized.rejoined.aligned.cased_nopunct.tsv\n",
            "dakshina_dataset_v1.0/gu/romanized/gu.romanized.rejoined.dev.roman.txt\n",
            "dakshina_dataset_v1.0/gu/romanized/gu.romanized.rejoined.aligned.tsv\n",
            "dakshina_dataset_v1.0/gu/romanized/gu.romanized.rejoined.test.native.txt\n",
            "dakshina_dataset_v1.0/gu/romanized/gu.romanized.rejoined.tsv\n",
            "dakshina_dataset_v1.0/gu/romanized/gu.romanized.rejoined.dev.native.txt\n",
            "dakshina_dataset_v1.0/gu/romanized/gu.romanized.rejoined.test.roman.txt\n",
            "dakshina_dataset_v1.0/gu/romanized/gu.romanized.split.validation.native.txt\n",
            "dakshina_dataset_v1.0/hi/\n",
            "dakshina_dataset_v1.0/hi/lexicons/\n",
            "dakshina_dataset_v1.0/hi/lexicons/hi.translit.sampled.dev.tsv\n",
            "dakshina_dataset_v1.0/hi/lexicons/hi.translit.sampled.train.tsv\n",
            "dakshina_dataset_v1.0/hi/lexicons/hi.translit.sampled.test.tsv\n",
            "dakshina_dataset_v1.0/hi/native_script_wikipedia/\n",
            "dakshina_dataset_v1.0/hi/native_script_wikipedia/hi.wiki-full.info.sorted.tsv.gz\n",
            "dakshina_dataset_v1.0/hi/native_script_wikipedia/hi.wiki-filt.valid.text.sorted.tsv.gz\n",
            "dakshina_dataset_v1.0/hi/native_script_wikipedia/hi.wiki-filt.train.text.sorted.tsv.gz\n",
            "dakshina_dataset_v1.0/hi/native_script_wikipedia/hi.wiki-full.urls.tsv.gz\n",
            "dakshina_dataset_v1.0/hi/native_script_wikipedia/hi.wiki-filt.valid.info.sorted.tsv.gz\n",
            "dakshina_dataset_v1.0/hi/native_script_wikipedia/hi.wiki-full.text.sorted.tsv.gz\n",
            "dakshina_dataset_v1.0/hi/native_script_wikipedia/hi.wiki-full.omit_pages.txt.gz\n",
            "dakshina_dataset_v1.0/hi/native_script_wikipedia/hi.wiki-filt.valid.text.shuf.txt.gz\n",
            "dakshina_dataset_v1.0/hi/native_script_wikipedia/hi.wiki-full.nonblock.sections.list.txt.gz\n",
            "dakshina_dataset_v1.0/hi/native_script_wikipedia/hi.wiki-filt.train.info.sorted.tsv.gz\n",
            "dakshina_dataset_v1.0/hi/native_script_wikipedia/hi.wiki-full.nonblock.sections.tsv.gz\n",
            "dakshina_dataset_v1.0/hi/native_script_wikipedia/hi.wiki-filt.train.text.shuf.txt.gz\n",
            "dakshina_dataset_v1.0/hi/romanized/\n",
            "dakshina_dataset_v1.0/hi/romanized/hi.romanized.rejoined.aligned.tsv\n",
            "dakshina_dataset_v1.0/hi/romanized/hi.romanized.split.validation.native.txt\n",
            "dakshina_dataset_v1.0/hi/romanized/hi.romanized.rejoined.tsv\n",
            "dakshina_dataset_v1.0/hi/romanized/hi.romanized.rejoined.dev.roman.txt\n",
            "dakshina_dataset_v1.0/hi/romanized/hi.romanized.rejoined.dev.native.txt\n",
            "dakshina_dataset_v1.0/hi/romanized/hi.romanized.rejoined.test.native.txt\n",
            "dakshina_dataset_v1.0/hi/romanized/hi.romanized.split.validation.edits.txt\n",
            "dakshina_dataset_v1.0/hi/romanized/hi.romanized.rejoined.test.roman.txt\n",
            "dakshina_dataset_v1.0/hi/romanized/hi.romanized.split.tsv\n",
            "dakshina_dataset_v1.0/hi/romanized/hi.romanized.rejoined.aligned.cased_nopunct.tsv\n",
            "dakshina_dataset_v1.0/kn/\n",
            "dakshina_dataset_v1.0/kn/lexicons/\n",
            "dakshina_dataset_v1.0/kn/lexicons/kn.translit.sampled.train.tsv\n",
            "dakshina_dataset_v1.0/kn/lexicons/kn.translit.sampled.dev.tsv\n",
            "dakshina_dataset_v1.0/kn/lexicons/kn.translit.sampled.test.tsv\n",
            "dakshina_dataset_v1.0/kn/native_script_wikipedia/\n",
            "dakshina_dataset_v1.0/kn/native_script_wikipedia/kn.wiki-full.text.sorted.tsv.gz\n",
            "dakshina_dataset_v1.0/kn/native_script_wikipedia/kn.wiki-filt.valid.text.shuf.txt.gz\n",
            "dakshina_dataset_v1.0/kn/native_script_wikipedia/kn.wiki-filt.valid.info.sorted.tsv.gz\n",
            "dakshina_dataset_v1.0/kn/native_script_wikipedia/kn.wiki-filt.train.text.shuf.txt.gz\n",
            "dakshina_dataset_v1.0/kn/native_script_wikipedia/kn.wiki-full.info.sorted.tsv.gz\n",
            "dakshina_dataset_v1.0/kn/native_script_wikipedia/kn.wiki-full.nonblock.sections.list.txt.gz\n",
            "dakshina_dataset_v1.0/kn/native_script_wikipedia/kn.wiki-full.urls.tsv.gz\n",
            "dakshina_dataset_v1.0/kn/native_script_wikipedia/kn.wiki-full.nonblock.sections.tsv.gz\n",
            "dakshina_dataset_v1.0/kn/native_script_wikipedia/kn.wiki-filt.valid.text.sorted.tsv.gz\n",
            "dakshina_dataset_v1.0/kn/native_script_wikipedia/kn.wiki-filt.train.text.sorted.tsv.gz\n",
            "dakshina_dataset_v1.0/kn/native_script_wikipedia/kn.wiki-filt.train.info.sorted.tsv.gz\n",
            "dakshina_dataset_v1.0/kn/native_script_wikipedia/kn.wiki-full.omit_pages.txt.gz\n",
            "dakshina_dataset_v1.0/kn/romanized/\n",
            "dakshina_dataset_v1.0/kn/romanized/kn.romanized.split.validation.edits.txt\n",
            "dakshina_dataset_v1.0/kn/romanized/kn.romanized.rejoined.dev.native.txt\n",
            "dakshina_dataset_v1.0/kn/romanized/kn.romanized.rejoined.test.roman.txt\n",
            "dakshina_dataset_v1.0/kn/romanized/kn.romanized.split.validation.native.txt\n",
            "dakshina_dataset_v1.0/kn/romanized/kn.romanized.rejoined.tsv\n",
            "dakshina_dataset_v1.0/kn/romanized/kn.romanized.rejoined.test.native.txt\n",
            "dakshina_dataset_v1.0/kn/romanized/kn.romanized.rejoined.dev.roman.txt\n",
            "dakshina_dataset_v1.0/kn/romanized/kn.romanized.rejoined.aligned.cased_nopunct.tsv\n",
            "dakshina_dataset_v1.0/kn/romanized/kn.romanized.split.tsv\n",
            "dakshina_dataset_v1.0/kn/romanized/kn.romanized.rejoined.aligned.tsv\n",
            "dakshina_dataset_v1.0/ml/\n",
            "dakshina_dataset_v1.0/ml/lexicons/\n",
            "dakshina_dataset_v1.0/ml/lexicons/ml.translit.sampled.train.tsv\n",
            "dakshina_dataset_v1.0/ml/lexicons/tmp.rom.txt\n",
            "dakshina_dataset_v1.0/ml/lexicons/tmp.tsv\n",
            "dakshina_dataset_v1.0/ml/lexicons/ml.translit.sampled.dev.tsv\n",
            "dakshina_dataset_v1.0/ml/lexicons/ml.translit.sampled.test.tsv\n",
            "dakshina_dataset_v1.0/ml/native_script_wikipedia/\n",
            "dakshina_dataset_v1.0/ml/native_script_wikipedia/ml.wiki-full.omit_pages.txt.gz\n",
            "dakshina_dataset_v1.0/ml/native_script_wikipedia/ml.wiki-filt.valid.info.sorted.tsv.gz\n",
            "dakshina_dataset_v1.0/ml/native_script_wikipedia/ml.wiki-full.info.sorted.tsv.gz\n",
            "dakshina_dataset_v1.0/ml/native_script_wikipedia/ml.wiki-filt.train.text.shuf.txt.gz\n",
            "dakshina_dataset_v1.0/ml/native_script_wikipedia/ml.wiki-full.text.sorted.tsv.gz\n",
            "dakshina_dataset_v1.0/ml/native_script_wikipedia/ml.wiki-filt.valid.text.sorted.tsv.gz\n",
            "dakshina_dataset_v1.0/ml/native_script_wikipedia/ml.wiki-full.nonblock.sections.list.txt.gz\n",
            "dakshina_dataset_v1.0/ml/native_script_wikipedia/ml.wiki-full.nonblock.sections.tsv.gz\n",
            "dakshina_dataset_v1.0/ml/native_script_wikipedia/ml.wiki-filt.train.text.sorted.tsv.gz\n",
            "dakshina_dataset_v1.0/ml/native_script_wikipedia/ml.wiki-full.urls.tsv.gz\n",
            "dakshina_dataset_v1.0/ml/native_script_wikipedia/ml.wiki-filt.valid.text.shuf.txt.gz\n",
            "dakshina_dataset_v1.0/ml/native_script_wikipedia/ml.wiki-filt.train.info.sorted.tsv.gz\n",
            "dakshina_dataset_v1.0/ml/romanized/\n",
            "dakshina_dataset_v1.0/ml/romanized/ml.romanized.rejoined.tsv\n",
            "dakshina_dataset_v1.0/ml/romanized/ml.romanized.rejoined.test.roman.txt\n",
            "dakshina_dataset_v1.0/ml/romanized/ml.romanized.split.validation.edits.txt\n",
            "dakshina_dataset_v1.0/ml/romanized/ml.romanized.rejoined.dev.roman.txt\n",
            "dakshina_dataset_v1.0/ml/romanized/ml.romanized.rejoined.test.native.txt\n",
            "dakshina_dataset_v1.0/ml/romanized/ml.romanized.rejoined.dev.native.txt\n",
            "dakshina_dataset_v1.0/ml/romanized/ml.romanized.rejoined.aligned.cased_nopunct.tsv\n",
            "dakshina_dataset_v1.0/ml/romanized/ml.romanized.split.tsv\n",
            "dakshina_dataset_v1.0/ml/romanized/ml.romanized.rejoined.aligned.tsv\n",
            "dakshina_dataset_v1.0/ml/romanized/ml.romanized.split.validation.native.txt\n",
            "dakshina_dataset_v1.0/mr/\n",
            "dakshina_dataset_v1.0/mr/lexicons/\n",
            "dakshina_dataset_v1.0/mr/lexicons/mr.translit.sampled.test.tsv\n",
            "dakshina_dataset_v1.0/mr/lexicons/mr.translit.sampled.train.tsv\n",
            "dakshina_dataset_v1.0/mr/lexicons/mr.translit.sampled.dev.tsv\n",
            "dakshina_dataset_v1.0/mr/native_script_wikipedia/\n",
            "dakshina_dataset_v1.0/mr/native_script_wikipedia/mr.wiki-full.omit_pages.txt.gz\n",
            "dakshina_dataset_v1.0/mr/native_script_wikipedia/mr.wiki-filt.train.text.sorted.tsv.gz\n",
            "dakshina_dataset_v1.0/mr/native_script_wikipedia/mr.wiki-full.nonblock.sections.list.txt.gz\n",
            "dakshina_dataset_v1.0/mr/native_script_wikipedia/mr.wiki-full.text.sorted.tsv.gz\n",
            "dakshina_dataset_v1.0/mr/native_script_wikipedia/mr.wiki-filt.valid.info.sorted.tsv.gz\n",
            "dakshina_dataset_v1.0/mr/native_script_wikipedia/mr.wiki-filt.train.text.shuf.txt.gz\n",
            "dakshina_dataset_v1.0/mr/native_script_wikipedia/mr.wiki-full.info.sorted.tsv.gz\n",
            "dakshina_dataset_v1.0/mr/native_script_wikipedia/mr.wiki-filt.valid.text.shuf.txt.gz\n",
            "dakshina_dataset_v1.0/mr/native_script_wikipedia/mr.wiki-full.urls.tsv.gz\n",
            "dakshina_dataset_v1.0/mr/native_script_wikipedia/mr.wiki-filt.valid.text.sorted.tsv.gz\n",
            "dakshina_dataset_v1.0/mr/native_script_wikipedia/mr.wiki-filt.train.info.sorted.tsv.gz\n",
            "dakshina_dataset_v1.0/mr/native_script_wikipedia/mr.wiki-full.nonblock.sections.tsv.gz\n",
            "dakshina_dataset_v1.0/mr/romanized/\n",
            "dakshina_dataset_v1.0/mr/romanized/mr.romanized.split.tsv\n",
            "dakshina_dataset_v1.0/mr/romanized/mr.romanized.rejoined.dev.roman.txt\n",
            "dakshina_dataset_v1.0/mr/romanized/mr.romanized.split.validation.native.txt\n",
            "dakshina_dataset_v1.0/mr/romanized/mr.romanized.rejoined.test.roman.txt\n",
            "dakshina_dataset_v1.0/mr/romanized/mr.romanized.rejoined.test.native.txt\n",
            "dakshina_dataset_v1.0/mr/romanized/mr.romanized.rejoined.dev.native.txt\n",
            "dakshina_dataset_v1.0/mr/romanized/mr.romanized.rejoined.tsv\n",
            "dakshina_dataset_v1.0/mr/romanized/mr.romanized.rejoined.aligned.tsv\n",
            "dakshina_dataset_v1.0/mr/romanized/mr.romanized.split.validation.edits.txt\n",
            "dakshina_dataset_v1.0/mr/romanized/mr.romanized.rejoined.aligned.cased_nopunct.tsv\n",
            "dakshina_dataset_v1.0/pa/\n",
            "dakshina_dataset_v1.0/pa/lexicons/\n",
            "dakshina_dataset_v1.0/pa/lexicons/pa.translit.sampled.dev.tsv\n",
            "dakshina_dataset_v1.0/pa/lexicons/pa.translit.sampled.test.tsv\n",
            "dakshina_dataset_v1.0/pa/lexicons/pa.translit.sampled.train.tsv\n",
            "dakshina_dataset_v1.0/pa/native_script_wikipedia/\n",
            "dakshina_dataset_v1.0/pa/native_script_wikipedia/pa.wiki-full.omit_pages.txt.gz\n",
            "dakshina_dataset_v1.0/pa/native_script_wikipedia/pa.wiki-full.text.sorted.tsv.gz\n",
            "dakshina_dataset_v1.0/pa/native_script_wikipedia/pa.wiki-filt.train.text.shuf.txt.gz\n",
            "dakshina_dataset_v1.0/pa/native_script_wikipedia/pa.wiki-filt.train.text.sorted.tsv.gz\n",
            "dakshina_dataset_v1.0/pa/native_script_wikipedia/pa.wiki-full.urls.tsv.gz\n",
            "dakshina_dataset_v1.0/pa/native_script_wikipedia/pa.wiki-full.info.sorted.tsv.gz\n",
            "dakshina_dataset_v1.0/pa/native_script_wikipedia/pa.wiki-filt.valid.info.sorted.tsv.gz\n",
            "dakshina_dataset_v1.0/pa/native_script_wikipedia/pa.wiki-filt.train.info.sorted.tsv.gz\n",
            "dakshina_dataset_v1.0/pa/native_script_wikipedia/pa.wiki-full.nonblock.sections.tsv.gz\n",
            "dakshina_dataset_v1.0/pa/native_script_wikipedia/pa.wiki-filt.valid.text.sorted.tsv.gz\n",
            "dakshina_dataset_v1.0/pa/native_script_wikipedia/pa.wiki-filt.valid.text.shuf.txt.gz\n",
            "dakshina_dataset_v1.0/pa/native_script_wikipedia/pa.wiki-full.nonblock.sections.list.txt.gz\n",
            "dakshina_dataset_v1.0/pa/romanized/\n",
            "dakshina_dataset_v1.0/pa/romanized/pa.romanized.rejoined.aligned.tsv\n",
            "dakshina_dataset_v1.0/pa/romanized/pa.romanized.rejoined.dev.roman.txt\n",
            "dakshina_dataset_v1.0/pa/romanized/pa.romanized.rejoined.test.roman.txt\n",
            "dakshina_dataset_v1.0/pa/romanized/pa.romanized.split.tsv\n",
            "dakshina_dataset_v1.0/pa/romanized/pa.romanized.rejoined.dev.native.txt\n",
            "dakshina_dataset_v1.0/pa/romanized/pa.romanized.split.validation.native.txt\n",
            "dakshina_dataset_v1.0/pa/romanized/pa.romanized.rejoined.aligned.cased_nopunct.tsv\n",
            "dakshina_dataset_v1.0/pa/romanized/pa.romanized.rejoined.tsv\n",
            "dakshina_dataset_v1.0/pa/romanized/pa.romanized.split.validation.edits.txt\n",
            "dakshina_dataset_v1.0/pa/romanized/pa.romanized.rejoined.test.native.txt\n",
            "dakshina_dataset_v1.0/sd/\n",
            "dakshina_dataset_v1.0/sd/lexicons/\n",
            "dakshina_dataset_v1.0/sd/lexicons/sd.translit.sampled.train.tsv\n",
            "dakshina_dataset_v1.0/sd/lexicons/sd.translit.sampled.test.tsv\n",
            "dakshina_dataset_v1.0/sd/lexicons/sd.translit.sampled.dev.tsv\n",
            "dakshina_dataset_v1.0/sd/native_script_wikipedia/\n",
            "dakshina_dataset_v1.0/sd/native_script_wikipedia/sd.wiki-full.nonblock.sections.tsv.gz\n",
            "dakshina_dataset_v1.0/sd/native_script_wikipedia/sd.wiki-filt.valid.text.shuf.txt.gz\n",
            "dakshina_dataset_v1.0/sd/native_script_wikipedia/sd.wiki-full.omit_pages.txt.gz\n",
            "dakshina_dataset_v1.0/sd/native_script_wikipedia/sd.wiki-filt.train.info.sorted.tsv.gz\n",
            "dakshina_dataset_v1.0/sd/native_script_wikipedia/sd.wiki-full.urls.tsv.gz\n",
            "dakshina_dataset_v1.0/sd/native_script_wikipedia/sd.wiki-filt.valid.info.sorted.tsv.gz\n",
            "dakshina_dataset_v1.0/sd/native_script_wikipedia/sd.wiki-filt.train.text.sorted.tsv.gz\n",
            "dakshina_dataset_v1.0/sd/native_script_wikipedia/sd.wiki-full.text.sorted.tsv.gz\n",
            "dakshina_dataset_v1.0/sd/native_script_wikipedia/sd.wiki-filt.train.text.shuf.txt.gz\n",
            "dakshina_dataset_v1.0/sd/native_script_wikipedia/sd.wiki-filt.valid.text.sorted.tsv.gz\n",
            "dakshina_dataset_v1.0/sd/native_script_wikipedia/sd.wiki-full.info.sorted.tsv.gz\n",
            "dakshina_dataset_v1.0/sd/native_script_wikipedia/sd.wiki-full.nonblock.sections.list.txt.gz\n",
            "dakshina_dataset_v1.0/sd/romanized/\n",
            "dakshina_dataset_v1.0/sd/romanized/sd.romanized.rejoined.dev.roman.txt\n",
            "dakshina_dataset_v1.0/sd/romanized/sd.romanized.split.tsv\n",
            "dakshina_dataset_v1.0/sd/romanized/sd.romanized.split.validation.native.txt\n",
            "dakshina_dataset_v1.0/sd/romanized/sd.romanized.rejoined.dev.native.txt\n",
            "dakshina_dataset_v1.0/sd/romanized/sd.romanized.rejoined.aligned.cased_nopunct.tsv\n",
            "dakshina_dataset_v1.0/sd/romanized/sd.romanized.rejoined.test.native.txt\n",
            "dakshina_dataset_v1.0/sd/romanized/sd.romanized.split.validation.edits.txt\n",
            "dakshina_dataset_v1.0/sd/romanized/sd.romanized.rejoined.aligned.tsv\n",
            "dakshina_dataset_v1.0/sd/romanized/sd.romanized.rejoined.test.roman.txt\n",
            "dakshina_dataset_v1.0/sd/romanized/sd.romanized.rejoined.tsv\n",
            "dakshina_dataset_v1.0/si/\n",
            "dakshina_dataset_v1.0/si/lexicons/\n",
            "dakshina_dataset_v1.0/si/lexicons/si.translit.sampled.test.tsv\n",
            "dakshina_dataset_v1.0/si/lexicons/si.translit.sampled.train.tsv\n",
            "dakshina_dataset_v1.0/si/lexicons/si.translit.sampled.dev.tsv\n",
            "dakshina_dataset_v1.0/si/native_script_wikipedia/\n",
            "dakshina_dataset_v1.0/si/native_script_wikipedia/si.wiki-full.urls.tsv.gz\n",
            "dakshina_dataset_v1.0/si/native_script_wikipedia/si.wiki-full.text.sorted.tsv.gz\n",
            "dakshina_dataset_v1.0/si/native_script_wikipedia/si.wiki-filt.train.info.sorted.tsv.gz\n",
            "dakshina_dataset_v1.0/si/native_script_wikipedia/si.wiki-full.omit_pages.txt.gz\n",
            "dakshina_dataset_v1.0/si/native_script_wikipedia/si.wiki-filt.train.text.shuf.txt.gz\n",
            "dakshina_dataset_v1.0/si/native_script_wikipedia/si.wiki-full.nonblock.sections.list.txt.gz\n",
            "dakshina_dataset_v1.0/si/native_script_wikipedia/si.wiki-filt.valid.info.sorted.tsv.gz\n",
            "dakshina_dataset_v1.0/si/native_script_wikipedia/si.wiki-full.nonblock.sections.tsv.gz\n",
            "dakshina_dataset_v1.0/si/native_script_wikipedia/si.wiki-filt.valid.text.shuf.txt.gz\n",
            "dakshina_dataset_v1.0/si/native_script_wikipedia/si.wiki-full.info.sorted.tsv.gz\n",
            "dakshina_dataset_v1.0/si/native_script_wikipedia/si.wiki-filt.train.text.sorted.tsv.gz\n",
            "dakshina_dataset_v1.0/si/native_script_wikipedia/si.wiki-filt.valid.text.sorted.tsv.gz\n",
            "dakshina_dataset_v1.0/si/romanized/\n",
            "dakshina_dataset_v1.0/si/romanized/si.romanized.split.tsv\n",
            "dakshina_dataset_v1.0/si/romanized/si.romanized.rejoined.test.native.txt\n",
            "dakshina_dataset_v1.0/si/romanized/si.romanized.rejoined.aligned.tsv\n",
            "dakshina_dataset_v1.0/si/romanized/si.romanized.rejoined.dev.native.txt\n",
            "dakshina_dataset_v1.0/si/romanized/si.romanized.rejoined.dev.roman.txt\n",
            "dakshina_dataset_v1.0/si/romanized/si.romanized.rejoined.test.roman.txt\n",
            "dakshina_dataset_v1.0/si/romanized/si.romanized.rejoined.aligned.cased_nopunct.tsv\n",
            "dakshina_dataset_v1.0/si/romanized/si.romanized.split.validation.edits.txt\n",
            "dakshina_dataset_v1.0/si/romanized/si.romanized.rejoined.tsv\n",
            "dakshina_dataset_v1.0/si/romanized/si.romanized.split.validation.native.txt\n",
            "dakshina_dataset_v1.0/ta/\n",
            "dakshina_dataset_v1.0/ta/lexicons/\n",
            "dakshina_dataset_v1.0/ta/lexicons/ta.translit.sampled.train.tsv\n",
            "dakshina_dataset_v1.0/ta/lexicons/ta.translit.sampled.dev.tsv\n",
            "dakshina_dataset_v1.0/ta/lexicons/ta.translit.sampled.test.tsv\n",
            "dakshina_dataset_v1.0/ta/native_script_wikipedia/\n",
            "dakshina_dataset_v1.0/ta/native_script_wikipedia/ta.wiki-filt.valid.text.shuf.txt.gz\n",
            "dakshina_dataset_v1.0/ta/native_script_wikipedia/ta.wiki-full.nonblock.sections.list.txt.gz\n",
            "dakshina_dataset_v1.0/ta/native_script_wikipedia/ta.wiki-filt.train.text.sorted.tsv.gz\n",
            "dakshina_dataset_v1.0/ta/native_script_wikipedia/ta.wiki-full.nonblock.sections.tsv.gz\n",
            "dakshina_dataset_v1.0/ta/native_script_wikipedia/ta.wiki-filt.valid.info.sorted.tsv.gz\n",
            "dakshina_dataset_v1.0/ta/native_script_wikipedia/ta.wiki-full.text.sorted.tsv.gz\n",
            "dakshina_dataset_v1.0/ta/native_script_wikipedia/ta.wiki-full.urls.tsv.gz\n",
            "dakshina_dataset_v1.0/ta/native_script_wikipedia/ta.wiki-filt.train.text.shuf.txt.gz\n",
            "dakshina_dataset_v1.0/ta/native_script_wikipedia/ta.wiki-filt.valid.text.sorted.tsv.gz\n",
            "dakshina_dataset_v1.0/ta/native_script_wikipedia/ta.wiki-full.info.sorted.tsv.gz\n",
            "dakshina_dataset_v1.0/ta/native_script_wikipedia/ta.wiki-full.omit_pages.txt.gz\n",
            "dakshina_dataset_v1.0/ta/native_script_wikipedia/ta.wiki-filt.train.info.sorted.tsv.gz\n",
            "dakshina_dataset_v1.0/ta/romanized/\n",
            "dakshina_dataset_v1.0/ta/romanized/ta.romanized.rejoined.aligned.tsv\n",
            "dakshina_dataset_v1.0/ta/romanized/ta.romanized.rejoined.dev.roman.txt\n",
            "dakshina_dataset_v1.0/ta/romanized/ta.romanized.rejoined.aligned.cased_nopunct.tsv\n",
            "dakshina_dataset_v1.0/ta/romanized/ta.romanized.rejoined.tsv\n",
            "dakshina_dataset_v1.0/ta/romanized/ta.romanized.split.validation.native.txt\n",
            "dakshina_dataset_v1.0/ta/romanized/ta.romanized.rejoined.test.roman.txt\n",
            "dakshina_dataset_v1.0/ta/romanized/ta.romanized.split.tsv\n",
            "dakshina_dataset_v1.0/ta/romanized/ta.romanized.rejoined.dev.native.txt\n",
            "dakshina_dataset_v1.0/ta/romanized/ta.romanized.split.validation.edits.txt\n",
            "dakshina_dataset_v1.0/ta/romanized/ta.romanized.rejoined.test.native.txt\n",
            "dakshina_dataset_v1.0/te/\n",
            "dakshina_dataset_v1.0/te/lexicons/\n",
            "dakshina_dataset_v1.0/te/lexicons/te.translit.sampled.dev.tsv\n",
            "dakshina_dataset_v1.0/te/lexicons/te.translit.sampled.test.tsv\n",
            "dakshina_dataset_v1.0/te/lexicons/te.translit.sampled.train.tsv\n",
            "dakshina_dataset_v1.0/te/native_script_wikipedia/\n",
            "dakshina_dataset_v1.0/te/native_script_wikipedia/te.wiki-full.info.sorted.tsv.gz\n",
            "dakshina_dataset_v1.0/te/native_script_wikipedia/te.wiki-filt.valid.info.sorted.tsv.gz\n",
            "dakshina_dataset_v1.0/te/native_script_wikipedia/te.wiki-full.text.sorted.tsv.gz\n",
            "dakshina_dataset_v1.0/te/native_script_wikipedia/te.wiki-filt.train.text.shuf.txt.gz\n",
            "dakshina_dataset_v1.0/te/native_script_wikipedia/te.wiki-filt.valid.text.shuf.txt.gz\n",
            "dakshina_dataset_v1.0/te/native_script_wikipedia/te.wiki-filt.train.text.sorted.tsv.gz\n",
            "dakshina_dataset_v1.0/te/native_script_wikipedia/te.wiki-full.omit_pages.txt.gz\n",
            "dakshina_dataset_v1.0/te/native_script_wikipedia/te.wiki-full.urls.tsv.gz\n",
            "dakshina_dataset_v1.0/te/native_script_wikipedia/te.wiki-full.nonblock.sections.tsv.gz\n",
            "dakshina_dataset_v1.0/te/native_script_wikipedia/te.wiki-full.nonblock.sections.list.txt.gz\n",
            "dakshina_dataset_v1.0/te/native_script_wikipedia/te.wiki-filt.train.info.sorted.tsv.gz\n",
            "dakshina_dataset_v1.0/te/native_script_wikipedia/te.wiki-filt.valid.text.sorted.tsv.gz\n",
            "dakshina_dataset_v1.0/te/romanized/\n",
            "dakshina_dataset_v1.0/te/romanized/te.romanized.rejoined.tsv\n",
            "dakshina_dataset_v1.0/te/romanized/te.romanized.rejoined.aligned.cased_nopunct.tsv\n",
            "dakshina_dataset_v1.0/te/romanized/te.romanized.rejoined.dev.roman.txt\n",
            "dakshina_dataset_v1.0/te/romanized/te.romanized.rejoined.dev.native.txt\n",
            "dakshina_dataset_v1.0/te/romanized/te.romanized.split.validation.native.txt\n",
            "dakshina_dataset_v1.0/te/romanized/te.romanized.rejoined.test.native.txt\n",
            "dakshina_dataset_v1.0/te/romanized/te.romanized.split.validation.edits.txt\n",
            "dakshina_dataset_v1.0/te/romanized/te.romanized.rejoined.aligned.tsv\n",
            "dakshina_dataset_v1.0/te/romanized/te.romanized.split.tsv\n",
            "dakshina_dataset_v1.0/te/romanized/te.romanized.rejoined.test.roman.txt\n",
            "dakshina_dataset_v1.0/ur/\n",
            "dakshina_dataset_v1.0/ur/lexicons/\n",
            "dakshina_dataset_v1.0/ur/lexicons/ur.translit.sampled.train.tsv\n",
            "dakshina_dataset_v1.0/ur/lexicons/ur.translit.sampled.test.tsv\n",
            "dakshina_dataset_v1.0/ur/lexicons/ur.translit.sampled.dev.tsv\n",
            "dakshina_dataset_v1.0/ur/native_script_wikipedia/\n",
            "dakshina_dataset_v1.0/ur/native_script_wikipedia/ur.wiki-filt.valid.text.sorted.tsv.gz\n",
            "dakshina_dataset_v1.0/ur/native_script_wikipedia/ur.wiki-full.nonblock.sections.tsv.gz\n",
            "dakshina_dataset_v1.0/ur/native_script_wikipedia/ur.wiki-full.info.sorted.tsv.gz\n",
            "dakshina_dataset_v1.0/ur/native_script_wikipedia/ur.wiki-full.text.sorted.tsv.gz\n",
            "dakshina_dataset_v1.0/ur/native_script_wikipedia/ur.wiki-full.omit_pages.txt.gz\n",
            "dakshina_dataset_v1.0/ur/native_script_wikipedia/ur.wiki-filt.train.text.sorted.tsv.gz\n",
            "dakshina_dataset_v1.0/ur/native_script_wikipedia/ur.wiki-full.urls.tsv.gz\n",
            "dakshina_dataset_v1.0/ur/native_script_wikipedia/ur.wiki-filt.train.text.shuf.txt.gz\n",
            "dakshina_dataset_v1.0/ur/native_script_wikipedia/ur.wiki-full.nonblock.sections.list.txt.gz\n",
            "dakshina_dataset_v1.0/ur/native_script_wikipedia/ur.wiki-filt.valid.info.sorted.tsv.gz\n",
            "dakshina_dataset_v1.0/ur/native_script_wikipedia/ur.wiki-filt.valid.text.shuf.txt.gz\n",
            "dakshina_dataset_v1.0/ur/native_script_wikipedia/ur.wiki-filt.train.info.sorted.tsv.gz\n",
            "dakshina_dataset_v1.0/ur/romanized/\n",
            "dakshina_dataset_v1.0/ur/romanized/ur.romanized.rejoined.tsv\n",
            "dakshina_dataset_v1.0/ur/romanized/ur.romanized.rejoined.dev.roman.txt\n",
            "dakshina_dataset_v1.0/ur/romanized/ur.romanized.split.validation.native.txt\n",
            "dakshina_dataset_v1.0/ur/romanized/ur.romanized.rejoined.aligned.cased_nopunct.tsv\n",
            "dakshina_dataset_v1.0/ur/romanized/ur.romanized.rejoined.dev.native.txt\n",
            "dakshina_dataset_v1.0/ur/romanized/ur.romanized.rejoined.test.native.txt\n",
            "dakshina_dataset_v1.0/ur/romanized/ur.romanized.split.validation.edits.txt\n",
            "dakshina_dataset_v1.0/ur/romanized/ur.romanized.rejoined.aligned.tsv\n",
            "dakshina_dataset_v1.0/ur/romanized/ur.romanized.split.tsv\n",
            "dakshina_dataset_v1.0/ur/romanized/ur.romanized.rejoined.test.roman.txt\n",
            "dakshina_dataset_v1.0/README.md\n"
          ]
        }
      ]
    },
    {
      "cell_type": "code",
      "execution_count": null,
      "metadata": {
        "id": "CEL4EVkEMCa7"
      },
      "outputs": [],
      "source": [
        "# Define a dataset class for transliteration data\n",
        "class TransliterationDataset(Dataset):\n",
        "    def __init__(self, data_path, input_lang, target_lang, max_len=50):\n",
        "        \"\"\"\n",
        "        Args:\n",
        "            data_path: Path to the data file with pairs of words\n",
        "            input_lang: The input language/script processor object\n",
        "            target_lang: The target language/script processor object\n",
        "            max_len: Maximum sequence length\n",
        "        \"\"\"\n",
        "        self.input_lang = input_lang\n",
        "        self.target_lang = target_lang\n",
        "        self.max_len = max_len\n",
        "        self.pairs = []\n",
        "\n",
        "        # Load data\n",
        "        with open(data_path, 'r', encoding='utf-8') as f:\n",
        "            for line in f:\n",
        "                parts = line.strip().split('\\t')\n",
        "                if len(parts) >= 2:\n",
        "                    # Format may vary depending on dataset\n",
        "                    latin, native = parts[0], parts[1]\n",
        "                    if latin and native and len(latin) <= max_len and len(native) <= max_len:\n",
        "                        self.pairs.append((latin, native))\n",
        "\n",
        "    def __len__(self):\n",
        "        return len(self.pairs)\n",
        "\n",
        "    def __getitem__(self, idx):\n",
        "        latin_word, native_word = self.pairs[idx]\n",
        "\n",
        "        # Convert characters to indices\n",
        "        input_tensor = self.input_lang.word_to_tensor(latin_word, self.max_len)\n",
        "        target_tensor = self.target_lang.word_to_tensor(native_word, self.max_len)\n",
        "\n",
        "        return input_tensor, target_tensor\n",
        "\n",
        "\n"
      ]
    },
    {
      "cell_type": "code",
      "source": [
        "\n",
        "# Language class to handle character-level processing\n",
        "class Lang:\n",
        "    def __init__(self, name):\n",
        "        self.name = name\n",
        "        self.char2index = {\"PAD\": 0, \"SOS\": 1, \"EOS\": 2}\n",
        "        self.char2count = {}\n",
        "        self.index2char = {0: \"PAD\", 1: \"SOS\", 2: \"EOS\"}\n",
        "        self.n_chars = 3  # Count PAD, SOS and EOS\n",
        "\n",
        "    def add_word(self, word):\n",
        "        for char in word:\n",
        "            self.add_char(char)\n",
        "\n",
        "    def add_char(self, char):\n",
        "        if char not in self.char2index:\n",
        "            self.char2index[char] = self.n_chars\n",
        "            self.char2count[char] = 1\n",
        "            self.index2char[self.n_chars] = char\n",
        "            self.n_chars += 1\n",
        "        else:\n",
        "            self.char2count[char] += 1\n",
        "\n",
        "    def word_to_tensor(self, word, max_len):\n",
        "        \"\"\"Convert a word to tensor of character indices with padding\"\"\"\n",
        "        indices = [self.char2index.get(char, 0) for char in word]\n",
        "        indices = [self.char2index[\"SOS\"]] + indices + [self.char2index[\"EOS\"]]\n",
        "\n",
        "        # Pad sequence to max_len\n",
        "        if len(indices) < max_len + 2:  # +2 for SOS and EOS\n",
        "            indices += [self.char2index[\"PAD\"]] * (max_len + 2 - len(indices))\n",
        "        else:\n",
        "            indices = indices[:max_len + 2]\n",
        "\n",
        "        return torch.tensor(indices, dtype=torch.long)\n"
      ],
      "metadata": {
        "id": "9c9EuPpUMP4w"
      },
      "execution_count": null,
      "outputs": []
    },
    {
      "cell_type": "code",
      "source": [
        "\n",
        "def count_parameters(model):\n",
        "    table = PrettyTable([\"Modules\", \"Parameters\"])\n",
        "    total_params = 0\n",
        "    for name, parameter in model.named_parameters():\n",
        "        if not parameter.requires_grad: continue\n",
        "        param = parameter.numel()\n",
        "        table.add_row([name, param])\n",
        "        total_params+=param\n",
        "    print(table)\n",
        "    print(f\"Total Trainable Params: {total_params}\")\n",
        "    return total_params"
      ],
      "metadata": {
        "id": "FrtWCR7VW4cL"
      },
      "execution_count": null,
      "outputs": []
    },
    {
      "cell_type": "code",
      "source": [
        "\n",
        "# Function to prepare data for a language pair\n",
        "def prepare_data(data_path, max_len=50, input_lang=None, output_lang=None): # Add input_lang and output_lang arguments with default None\n",
        "    if input_lang is None:  # If not provided, create new Lang objects\n",
        "        input_lang = Lang(\"latin\")\n",
        "    if output_lang is None:\n",
        "        output_lang = Lang(\"native\")\n",
        "\n",
        "    # Read data and build vocabulary\n",
        "    pairs = []\n",
        "    with open(data_path, 'r', encoding='utf-8') as f:\n",
        "        for line in f:\n",
        "            parts = line.strip().split('\\t')\n",
        "            if len(parts) >= 2:\n",
        "                latin, native = parts[0], parts[1]\n",
        "                if latin and native and len(latin) <= max_len and len(native) <= max_len:\n",
        "                    input_lang.add_word(latin)\n",
        "                    output_lang.add_word(native)\n",
        "                    pairs.append((latin, native))\n",
        "\n",
        "    print(f\"Prepared {len(pairs)} pairs\")\n",
        "    print(f\"Input vocabulary size: {input_lang.n_chars}\")\n",
        "    print(f\"Output vocabulary size: {output_lang.n_chars}\")\n",
        "\n",
        "    return input_lang, output_lang, pairs"
      ],
      "metadata": {
        "id": "b4tHyH_eMRiF"
      },
      "execution_count": null,
      "outputs": []
    },
    {
      "cell_type": "code",
      "source": [
        "class EncoderRNN(nn.Module):\n",
        "    def __init__(self, input_size, hidden_size, num_layers=1, cell_type=\"LSTM\"):\n",
        "        super(EncoderRNN, self).__init__()\n",
        "        self.hidden_size = hidden_size\n",
        "        self.num_layers = num_layers\n",
        "        self.cell_type = cell_type\n",
        "\n",
        "        self.embedding = nn.Embedding(input_size, hidden_size)\n",
        "\n",
        "        if cell_type == \"LSTM\":\n",
        "            self.rnn = nn.LSTM(hidden_size, hidden_size, num_layers, batch_first=True)\n",
        "        elif cell_type == \"GRU\":\n",
        "            self.rnn = nn.GRU(hidden_size, hidden_size, num_layers, batch_first=True)\n",
        "        else:  # Default to vanilla RNN\n",
        "            self.rnn = nn.RNN(hidden_size, hidden_size, num_layers, batch_first=True)\n",
        "\n",
        "    def forward(self, input_seq, hidden):\n",
        "        # input_seq shape: [batch_size, seq_len]\n",
        "        batch_size = input_seq.size(0)\n",
        "\n",
        "        embedded = self.embedding(input_seq)  # [batch_size, seq_len, hidden_size]\n",
        "        output, hidden = self.rnn(embedded, hidden)\n",
        "\n",
        "        return output, hidden\n",
        "\n",
        "    def init_hidden(self, batch_size, device):\n",
        "        if self.cell_type == \"LSTM\":\n",
        "            return (torch.zeros(self.num_layers, batch_size, self.hidden_size, device=device),\n",
        "                    torch.zeros(self.num_layers, batch_size, self.hidden_size, device=device))\n",
        "        else:\n",
        "            return torch.zeros(self.num_layers, batch_size, self.hidden_size, device=device)\n",
        "class AttentionDecoderRNN(nn.Module):\n",
        "    def __init__(self, hidden_size, output_size, num_layers=1, cell_type=\"LSTM\"):\n",
        "        super(AttentionDecoderRNN, self).__init__()\n",
        "        self.hidden_size = hidden_size\n",
        "        self.output_size = output_size\n",
        "        self.num_layers = num_layers\n",
        "        self.cell_type = cell_type\n",
        "\n",
        "        self.embedding = nn.Embedding(output_size, hidden_size)\n",
        "\n",
        "        # Attention layers: Wa and Ua for alignment scoring, Va for final score\n",
        "        self.Wa = nn.Linear(hidden_size, hidden_size)  # For decoder hidden state\n",
        "        self.Ua = nn.Linear(hidden_size, hidden_size)  # For encoder outputs\n",
        "        self.Va = nn.Linear(hidden_size, 1)  # Final attention score\n",
        "\n",
        "        if cell_type == \"LSTM\":\n",
        "            self.rnn = nn.LSTM(hidden_size * 2, hidden_size, num_layers, batch_first=True)  # Input size doubled due to context vector concatenation\n",
        "        elif cell_type == \"GRU\":\n",
        "            self.rnn = nn.GRU(hidden_size * 2, hidden_size, num_layers, batch_first=True)\n",
        "        else:\n",
        "            self.rnn = nn.RNN(hidden_size * 2, hidden_size, num_layers, batch_first=True)\n",
        "\n",
        "        self.out = nn.Linear(hidden_size, output_size)\n",
        "        self.softmax = nn.LogSoftmax(dim=2)\n",
        "\n",
        "    def forward(self, input_seq, hidden, encoder_outputs):\n",
        "        # input_seq shape: [batch_size, 1]\n",
        "        # encoder_outputs shape: [batch_size, seq_len, hidden_size]\n",
        "        batch_size = input_seq.size(0)\n",
        "        seq_len = encoder_outputs.size(1)\n",
        "\n",
        "        embedded = self.embedding(input_seq)  # [batch_size, 1, hidden_size]\n",
        "\n",
        "        # Get the current decoder hidden state for attention query\n",
        "        if self.cell_type == \"LSTM\":\n",
        "            query = hidden[0][-1].unsqueeze(1)  # Last layer's hidden state: [batch_size, 1, hidden_size]\n",
        "        else:\n",
        "            query = hidden[-1].unsqueeze(1)  # Last layer's hidden state for non-LSTM\n",
        "\n",
        "        # Compute attention scores\n",
        "        # Repeat query to match encoder_outputs length for scoring\n",
        "        query = query.repeat(1, seq_len, 1)  # [batch_size, seq_len, hidden_size]\n",
        "        scores = self.Va(torch.tanh(self.Wa(query) + self.Ua(encoder_outputs)))  # [batch_size, seq_len, 1]\n",
        "        scores = scores.squeeze(2).unsqueeze(1)  # [batch_size, 1, seq_len]\n",
        "\n",
        "        # Compute attention weights using softmax\n",
        "        attn_weights = torch.softmax(scores, dim=-1)  # [batch_size, 1, seq_len]\n",
        "\n",
        "        # Compute context vector as weighted sum of encoder outputs\n",
        "        context = torch.bmm(attn_weights, encoder_outputs)  # [batch_size, 1, hidden_size]\n",
        "\n",
        "        # Concatenate context with embedded input for RNN\n",
        "        rnn_input = torch.cat((embedded, context), dim=2)  # [batch_size, 1, hidden_size * 2]\n",
        "\n",
        "        # Pass through RNN\n",
        "        output, hidden = self.rnn(rnn_input, hidden)\n",
        "\n",
        "        # Compute output probabilities\n",
        "        output = self.softmax(self.out(output))  # [batch_size, 1, output_size]\n",
        "\n",
        "        return output, hidden, attn_weights\n",
        "\n",
        "\n",
        "class Seq2SeqModel(nn.Module):\n",
        "    def __init__(self, encoder, decoder, device):\n",
        "        super(Seq2SeqModel, self).__init__()\n",
        "        self.encoder = encoder\n",
        "        self.decoder = decoder\n",
        "        self.device = device\n",
        "\n",
        "    def forward(self, src, trg, teacher_forcing_ratio=0.5):\n",
        "        batch_size = src.size(0)\n",
        "        trg_len = trg.size(1)\n",
        "        trg_vocab_size = self.decoder.output_size\n",
        "\n",
        "        # Tensor to store decoder outputs\n",
        "        outputs = torch.zeros(batch_size, trg_len, trg_vocab_size).to(self.device)\n",
        "        # Tensor to store attention weights for visualization (optional)\n",
        "        attentions = torch.zeros(batch_size, trg_len, src.size(1)).to(self.device)\n",
        "\n",
        "        # Initialize encoder hidden state\n",
        "        encoder_hidden = self.encoder.init_hidden(batch_size, self.device)\n",
        "\n",
        "        # Encode the source sequence\n",
        "        encoder_outputs, encoder_hidden = self.encoder(src, encoder_hidden)\n",
        "\n",
        "        # First decoder input is the SOS token\n",
        "        decoder_input = torch.tensor([[1]] * batch_size, device=self.device)  # SOS token\n",
        "        decoder_hidden = encoder_hidden\n",
        "\n",
        "        for t in range(1, trg_len):\n",
        "            # Pass through decoder with attention over encoder_outputs\n",
        "            if isinstance(self.decoder, AttentionDecoderRNN):\n",
        "                decoder_output, decoder_hidden, attn_weights = self.decoder(decoder_input, decoder_hidden, encoder_outputs)\n",
        "                attentions[:, t:t+1, :] = attn_weights\n",
        "            else:\n",
        "                decoder_output, decoder_hidden = self.decoder(decoder_input, decoder_hidden)\n",
        "\n",
        "            # Store prediction\n",
        "            outputs[:, t:t+1, :] = decoder_output\n",
        "\n",
        "            # Decide whether to use teacher forcing\n",
        "            teacher_force = random.random() < teacher_forcing_ratio\n",
        "\n",
        "            # Get the highest predicted token\n",
        "            top1 = decoder_output.argmax(2)\n",
        "\n",
        "            # Use teacher forcing or not\n",
        "            decoder_input = trg[:, t:t+1] if teacher_force else top1\n",
        "\n",
        "        return outputs, attentions if isinstance(self.decoder, AttentionDecoderRNN) else None\n",
        "\n",
        "\n"
      ],
      "metadata": {
        "id": "HSTeWaUWMR7C"
      },
      "execution_count": null,
      "outputs": []
    },
    {
      "cell_type": "code",
      "source": [],
      "metadata": {
        "id": "WO54i7XS3j3V"
      },
      "execution_count": null,
      "outputs": []
    },
    {
      "cell_type": "code",
      "source": [
        "def train_epoch(model, dataloader, optimizer, criterion, device, train_lossi):\n",
        "    model.train()\n",
        "    epoch_loss = 0\n",
        "\n",
        "    for batch_idx, (src, trg) in enumerate(dataloader):\n",
        "        src, trg = src.to(device), trg.to(device)\n",
        "\n",
        "        optimizer.zero_grad()\n",
        "\n",
        "        # Forward pass (now returns outputs and possibly attentions)\n",
        "        output, _ = model(src, trg)\n",
        "\n",
        "        # Reshape for loss calculation\n",
        "        output_dim = output.shape[-1]\n",
        "        output = output[:, 1:].reshape(-1, output_dim)  # Skip SOS token\n",
        "        trg = trg[:, 1:].reshape(-1)  # Skip SOS token\n",
        "\n",
        "        # Calculate loss\n",
        "        loss = criterion(output, trg)\n",
        "\n",
        "        # Backward pass\n",
        "        loss.backward()\n",
        "\n",
        "        # Update parameters\n",
        "        optimizer.step()\n",
        "\n",
        "        epoch_loss += loss.item()\n",
        "        train_lossi.append(loss.item())\n",
        "\n",
        "    return epoch_loss / len(dataloader), train_lossi\n",
        "\n",
        "def evaluate(model, dataloader, criterion, device, val_lossi):\n",
        "    model.eval()\n",
        "    epoch_loss = 0\n",
        "    correct_predictions = 0\n",
        "    total_predictions = 0\n",
        "\n",
        "    with torch.no_grad():\n",
        "        for src, trg in dataloader:\n",
        "            src, trg = src.to(device), trg.to(device)\n",
        "\n",
        "            output, _ = model(src, trg, teacher_forcing_ratio=0)\n",
        "\n",
        "            # Reshape for loss calculation\n",
        "            output_dim = output.shape[-1]\n",
        "            output = output[:, 1:].reshape(-1, output_dim)  # Skip SOS token\n",
        "            trg = trg[:, 1:].reshape(-1)  # Skip SOS token\n",
        "\n",
        "            # Calculate loss\n",
        "            loss = criterion(output, trg)\n",
        "            epoch_loss += loss.item()\n",
        "            val_lossi.append(loss.item())\n",
        "\n",
        "            # Calculate accuracy\n",
        "            predictions = output.argmax(1)\n",
        "            correct_mask = (predictions == trg) & (trg != 0)  # Exclude padding\n",
        "            correct_predictions += correct_mask.sum().item()\n",
        "            total_mask = trg != 0  # Exclude padding\n",
        "            total_predictions += total_mask.sum().item()\n",
        "\n",
        "    accuracy = correct_predictions / total_predictions if total_predictions > 0 else 0\n",
        "    return epoch_loss / len(dataloader), accuracy, val_lossi\n"
      ],
      "metadata": {
        "id": "wdhEqZJCMUWP"
      },
      "execution_count": null,
      "outputs": []
    },
    {
      "cell_type": "code",
      "source": [
        "def transliterate(model, src, input_lang, output_lang, device, max_length=100):\n",
        "    model.eval()\n",
        "    with torch.no_grad():\n",
        "        # Reshape input to have batch size of 1\n",
        "        src = src.unsqueeze(0)  # Add a batch dimension\n",
        "        src = src.to(device)\n",
        "\n",
        "        # Initialize hidden state with batch_size=1\n",
        "        batch_size = 1\n",
        "        encoder_hidden = model.encoder.init_hidden(batch_size, device)\n",
        "\n",
        "        # Encoder forward pass\n",
        "        encoder_outputs, encoder_hidden = model.encoder(src, encoder_hidden)\n",
        "\n",
        "        # Decoder\n",
        "        decoder_input = torch.tensor([[1]], device=device)  # SOS token\n",
        "        decoder_hidden = encoder_hidden\n",
        "        output_chars = []\n",
        "        attentions = []\n",
        "\n",
        "        for _ in range(max_length):\n",
        "            if isinstance(model.decoder, AttentionDecoderRNN):\n",
        "                decoder_output, decoder_hidden, attn_weights = model.decoder(decoder_input, decoder_hidden, encoder_outputs)\n",
        "                attentions.append(attn_weights.squeeze(1).cpu())\n",
        "            else:\n",
        "                decoder_output, decoder_hidden = model.decoder(decoder_input, decoder_hidden)\n",
        "\n",
        "            _, topi = decoder_output.topk(1)\n",
        "            char_idx = topi.item()\n",
        "\n",
        "            if char_idx == 2:  # EOS token\n",
        "                break\n",
        "            output_chars.append(output_lang.index2char[char_idx])\n",
        "            decoder_input = torch.tensor([[char_idx]], device=device)\n",
        "\n",
        "        return ''.join(output_chars), attentions if attentions else None\n"
      ],
      "metadata": {
        "id": "3WjX7A1iS9cj"
      },
      "execution_count": null,
      "outputs": []
    },
    {
      "cell_type": "code",
      "source": [
        "def main():\n",
        "    # Parameters (same as your code)\n",
        "    batch_size = 64\n",
        "    hidden_size = 256\n",
        "    learning_rate = 0.001\n",
        "    num_epochs = 3\n",
        "    cell_type = \"LSTM\"\n",
        "    num_layers = 2\n",
        "    data_path = \"dakshina_dataset_v1.0/hi/lexicons/hi.translit.sampled.train.tsv\"\n",
        "    val_path = \"dakshina_dataset_v1.0/hi/lexicons/hi.translit.sampled.dev.tsv\"\n",
        "    test_path = \"dakshina_dataset_v1.0/hi/lexicons/hi.translit.sampled.test.tsv\"\n",
        "\n",
        "    # Set device\n",
        "    device = torch.device(\"cuda\" if torch.cuda.is_available() else \"cpu\")\n",
        "    print(f\"Using device: {device}\")\n",
        "\n",
        "    # Prepare data (same as your code)\n",
        "    input_lang, output_lang, train_pairs = prepare_data(data_path)\n",
        "    _, _, val_pairs = prepare_data(val_path, input_lang=input_lang, output_lang=output_lang)\n",
        "    _, _, test_pairs = prepare_data(test_path, input_lang=input_lang, output_lang=output_lang)\n",
        "\n",
        "    # Create datasets and dataloaders (same as your code)\n",
        "    train_dataset = TransliterationDataset(data_path, input_lang, output_lang)\n",
        "    train_loader = DataLoader(train_dataset, batch_size=batch_size, shuffle=True)\n",
        "    val_dataset = TransliterationDataset(val_path, input_lang, output_lang)\n",
        "    val_loader = DataLoader(val_dataset, batch_size=batch_size)\n",
        "    test_dataset = TransliterationDataset(test_path, input_lang, output_lang)\n",
        "    test_loader = DataLoader(test_dataset, batch_size=batch_size)\n",
        "\n",
        "    # Create model with AttentionDecoderRNN\n",
        "    encoder = EncoderRNN(input_lang.n_chars, hidden_size, num_layers, cell_type)\n",
        "    decoder = AttentionDecoderRNN(hidden_size, output_lang.n_chars, num_layers, cell_type)  # Use attention decoder\n",
        "    model = Seq2SeqModel(encoder, decoder, device).to(device)\n",
        "    count_parameters(model)\n",
        "\n",
        "    # Define loss function and optimizer (same as your code)\n",
        "    criterion = nn.NLLLoss(ignore_index=0)\n",
        "    optimizer = optim.Adam(model.parameters(), lr=learning_rate)\n",
        "\n",
        "    # Training loop (same structure, updated functions handle attention)\n",
        "    best_val_loss = float('inf')\n",
        "    train_lossi = []\n",
        "    val_lossi = []\n",
        "\n",
        "    for epoch in range(num_epochs):\n",
        "        train_loss, train_lossi = train_epoch(model, train_loader, optimizer, criterion, device, train_lossi)\n",
        "        val_loss, val_accuracy, val_lossi = evaluate(model, val_loader, criterion, device, val_lossi)\n",
        "        print(f\"Epoch: {epoch+1}/{num_epochs}\")\n",
        "        print(f\"Train Loss: {train_loss:.4f}\")\n",
        "        print(f\"Validation Loss: {val_loss:.4f}\")\n",
        "        print(f\"Validation Accuracy: {val_accuracy:.4f}\")\n",
        "\n",
        "        if val_loss < best_val_loss:\n",
        "            best_val_loss = val_loss\n",
        "            torch.save(model.state_dict(), \"best_transliteration_model.pt\")\n",
        "            print(\"Model saved!\")\n",
        "        print(\"-----\")\n",
        "\n",
        "    # Plot losses (same as your code)\n",
        "    plt.figure(figsize=(10, 5))\n",
        "    plt.plot(train_lossi, label='Training Loss')\n",
        "    plt.plot(val_lossi, label='Validation Loss')\n",
        "    plt.xlabel('Batch')\n",
        "    plt.ylabel('Loss')\n",
        "    plt.title('Per-Batch Training and Validation Loss')\n",
        "    plt.legend()\n",
        "    plt.grid(True)\n",
        "    plt.show()\n",
        "\n",
        "    # Evaluate on test set\n",
        "    model.load_state_dict(torch.load(\"attention.pt\"))\n",
        "    test_loss, test_accuracy, _ = evaluate(model, test_loader, criterion, device, [])\n",
        "    print(f\"Test Loss: {test_loss:.4f}\")\n",
        "    print(f\"Test Accuracy: {test_accuracy:.4f}\")\n",
        "\n",
        "    # Example transliteration with attention visualization\n",
        "    for i in range(min(10, len(test_dataset))):\n",
        "        src, trg = test_dataset[i]\n",
        "        src_text = ''.join([input_lang.index2char[idx.item()] for idx in src if idx.item() > 2])\n",
        "        trg_text = ''.join([output_lang.index2char[idx.item()] for idx in trg if idx.item() > 2])\n",
        "\n",
        "        pred_text, attentions = transliterate(model, src, input_lang, output_lang, device)\n",
        "\n",
        "        print(f\"Input: {src_text}\")\n",
        "        print(f\"Target: {trg_text}\")\n",
        "        print(f\"Prediction: {pred_text}\")\n",
        "        print(\"-----\")\n"
      ],
      "metadata": {
        "id": "djuN5yNqMjML"
      },
      "execution_count": null,
      "outputs": []
    },
    {
      "cell_type": "code",
      "source": [
        "main()"
      ],
      "metadata": {
        "colab": {
          "base_uri": "https://localhost:8080/",
          "height": 1000
        },
        "id": "iQCORVIbMkiw",
        "outputId": "0ba5ba5c-9593-4948-e3e4-734fee3e7772"
      },
      "execution_count": null,
      "outputs": [
        {
          "output_type": "stream",
          "name": "stdout",
          "text": [
            "Using device: cuda\n",
            "Prepared 44204 pairs\n",
            "Input vocabulary size: 66\n",
            "Output vocabulary size: 29\n",
            "Prepared 4358 pairs\n",
            "Input vocabulary size: 66\n",
            "Output vocabulary size: 29\n",
            "Prepared 4502 pairs\n",
            "Input vocabulary size: 66\n",
            "Output vocabulary size: 29\n",
            "+--------------------------+------------+\n",
            "|         Modules          | Parameters |\n",
            "+--------------------------+------------+\n",
            "| encoder.embedding.weight |   16896    |\n",
            "| encoder.rnn.weight_ih_l0 |   262144   |\n",
            "| encoder.rnn.weight_hh_l0 |   262144   |\n",
            "|  encoder.rnn.bias_ih_l0  |    1024    |\n",
            "|  encoder.rnn.bias_hh_l0  |    1024    |\n",
            "| encoder.rnn.weight_ih_l1 |   262144   |\n",
            "| encoder.rnn.weight_hh_l1 |   262144   |\n",
            "|  encoder.rnn.bias_ih_l1  |    1024    |\n",
            "|  encoder.rnn.bias_hh_l1  |    1024    |\n",
            "| decoder.embedding.weight |    7424    |\n",
            "|    decoder.Wa.weight     |   65536    |\n",
            "|     decoder.Wa.bias      |    256     |\n",
            "|    decoder.Ua.weight     |   65536    |\n",
            "|     decoder.Ua.bias      |    256     |\n",
            "|    decoder.Va.weight     |    256     |\n",
            "|     decoder.Va.bias      |     1      |\n",
            "| decoder.rnn.weight_ih_l0 |   524288   |\n",
            "| decoder.rnn.weight_hh_l0 |   262144   |\n",
            "|  decoder.rnn.bias_ih_l0  |    1024    |\n",
            "|  decoder.rnn.bias_hh_l0  |    1024    |\n",
            "| decoder.rnn.weight_ih_l1 |   262144   |\n",
            "| decoder.rnn.weight_hh_l1 |   262144   |\n",
            "|  decoder.rnn.bias_ih_l1  |    1024    |\n",
            "|  decoder.rnn.bias_hh_l1  |    1024    |\n",
            "|    decoder.out.weight    |    7424    |\n",
            "|     decoder.out.bias     |     29     |\n",
            "+--------------------------+------------+\n",
            "Total Trainable Params: 2531102\n",
            "Epoch: 1/3\n",
            "Train Loss: 1.9323\n",
            "Validation Loss: 1.0673\n",
            "Validation Accuracy: 0.6991\n",
            "Model saved!\n",
            "-----\n",
            "Epoch: 2/3\n",
            "Train Loss: 0.6876\n",
            "Validation Loss: 0.8738\n",
            "Validation Accuracy: 0.7338\n",
            "Model saved!\n",
            "-----\n",
            "Epoch: 3/3\n",
            "Train Loss: 0.5550\n",
            "Validation Loss: 0.8470\n",
            "Validation Accuracy: 0.7408\n",
            "Model saved!\n",
            "-----\n"
          ]
        },
        {
          "output_type": "display_data",
          "data": {
            "text/plain": [
              "<Figure size 1000x500 with 1 Axes>"
            ],
            "image/png": "[encoded data removed]"
          },
          "metadata": {}
        },
        {
          "output_type": "stream",
          "name": "stdout",
          "text": [
            "Test Loss: 0.8411\n",
            "Test Accuracy: 0.7446\n",
            "Input: अंक\n",
            "Target: ank\n",
            "Prediction: ank\n",
            "-----\n",
            "Input: अंक\n",
            "Target: anka\n",
            "Prediction: ank\n",
            "-----\n",
            "Input: अंकित\n",
            "Target: ankit\n",
            "Prediction: ankit\n",
            "-----\n",
            "Input: अंकों\n",
            "Target: anakon\n",
            "Prediction: ankon\n",
            "-----\n",
            "Input: अंकों\n",
            "Target: ankhon\n",
            "Prediction: ankon\n",
            "-----\n",
            "Input: अंकों\n",
            "Target: ankon\n",
            "Prediction: ankon\n",
            "-----\n",
            "Input: अंकोर\n",
            "Target: angkor\n",
            "Prediction: ankor\n",
            "-----\n",
            "Input: अंकोर\n",
            "Target: ankor\n",
            "Prediction: ankor\n",
            "-----\n",
            "Input: अंगारक\n",
            "Target: angaarak\n",
            "Prediction: angarak\n",
            "-----\n",
            "Input: अंगारक\n",
            "Target: angarak\n",
            "Prediction: angarak\n",
            "-----\n"
          ]
        }
      ]
    },
    {
      "cell_type": "code",
      "source": [
        "\n",
        "# Parameters (same as your code)\n",
        "batch_size = 64\n",
        "hidden_size = 256\n",
        "learning_rate = 0.001\n",
        "num_epochs = 5\n",
        "cell_type = \"LSTM\"\n",
        "num_layers = 2\n",
        "data_path = \"dakshina_dataset_v1.0/hi/lexicons/hi.translit.sampled.train.tsv\"\n",
        "val_path = \"dakshina_dataset_v1.0/hi/lexicons/hi.translit.sampled.dev.tsv\"\n",
        "test_path = \"dakshina_dataset_v1.0/hi/lexicons/hi.translit.sampled.test.tsv\"\n",
        "\n",
        "# Set device\n",
        "device = torch.device(\"cuda\" if torch.cuda.is_available() else \"cpu\")\n",
        "print(f\"Using device: {device}\")\n",
        "\n",
        "# Prepare data (same as your code)\n",
        "input_lang, output_lang, train_pairs = prepare_data(data_path)\n",
        "_, _, val_pairs = prepare_data(val_path, input_lang=input_lang, output_lang=output_lang)\n",
        "_, _, test_pairs = prepare_data(test_path, input_lang=input_lang, output_lang=output_lang)\n",
        "\n",
        "# Create datasets and dataloaders (same as your code)\n",
        "train_dataset = TransliterationDataset(data_path, input_lang, output_lang)\n",
        "train_loader = DataLoader(train_dataset, batch_size=batch_size, shuffle=True)\n",
        "val_dataset = TransliterationDataset(val_path, input_lang, output_lang)\n",
        "val_loader = DataLoader(val_dataset, batch_size=batch_size)\n",
        "test_dataset = TransliterationDataset(test_path, input_lang, output_lang)\n",
        "test_loader = DataLoader(test_dataset, batch_size=batch_size)\n",
        "\n",
        "# Create model with AttentionDecoderRNN\n",
        "encoder = EncoderRNN(input_lang.n_chars, hidden_size, num_layers, cell_type)\n",
        "decoder = AttentionDecoderRNN(hidden_size, output_lang.n_chars, num_layers, cell_type)  # Use attention decoder\n",
        "model = Seq2SeqModel(encoder, decoder, device).to(device)\n",
        "count_parameters(model)\n",
        "\n",
        "# Define loss function and optimizer (same as your code)\n",
        "criterion = nn.NLLLoss(ignore_index=0)\n",
        "optimizer = optim.Adam(model.parameters(), lr=learning_rate)\n",
        "\n",
        "\n",
        "\n",
        "# Evaluate on test set\n",
        "# model.load_state_dict(torch.load(\"attention.pt\"))\n",
        "model.load_state_dict(torch.load(\"attention.pt\"))\n",
        "\n"
      ],
      "metadata": {
        "colab": {
          "base_uri": "https://localhost:8080/"
        },
        "id": "Wb5HIVhL3pMi",
        "outputId": "b3f613e3-25a6-4331-c40a-797e79957d9b"
      },
      "execution_count": null,
      "outputs": [
        {
          "output_type": "stream",
          "name": "stdout",
          "text": [
            "Using device: cuda\n",
            "Prepared 44204 pairs\n",
            "Input vocabulary size: 66\n",
            "Output vocabulary size: 29\n",
            "Prepared 4358 pairs\n",
            "Input vocabulary size: 66\n",
            "Output vocabulary size: 29\n",
            "Prepared 4502 pairs\n",
            "Input vocabulary size: 66\n",
            "Output vocabulary size: 29\n",
            "+--------------------------+------------+\n",
            "|         Modules          | Parameters |\n",
            "+--------------------------+------------+\n",
            "| encoder.embedding.weight |   16896    |\n",
            "| encoder.rnn.weight_ih_l0 |   262144   |\n",
            "| encoder.rnn.weight_hh_l0 |   262144   |\n",
            "|  encoder.rnn.bias_ih_l0  |    1024    |\n",
            "|  encoder.rnn.bias_hh_l0  |    1024    |\n",
            "| encoder.rnn.weight_ih_l1 |   262144   |\n",
            "| encoder.rnn.weight_hh_l1 |   262144   |\n",
            "|  encoder.rnn.bias_ih_l1  |    1024    |\n",
            "|  encoder.rnn.bias_hh_l1  |    1024    |\n",
            "| decoder.embedding.weight |    7424    |\n",
            "|    decoder.Wa.weight     |   65536    |\n",
            "|     decoder.Wa.bias      |    256     |\n",
            "|    decoder.Ua.weight     |   65536    |\n",
            "|     decoder.Ua.bias      |    256     |\n",
            "|    decoder.Va.weight     |    256     |\n",
            "|     decoder.Va.bias      |     1      |\n",
            "| decoder.rnn.weight_ih_l0 |   524288   |\n",
            "| decoder.rnn.weight_hh_l0 |   262144   |\n",
            "|  decoder.rnn.bias_ih_l0  |    1024    |\n",
            "|  decoder.rnn.bias_hh_l0  |    1024    |\n",
            "| decoder.rnn.weight_ih_l1 |   262144   |\n",
            "| decoder.rnn.weight_hh_l1 |   262144   |\n",
            "|  decoder.rnn.bias_ih_l1  |    1024    |\n",
            "|  decoder.rnn.bias_hh_l1  |    1024    |\n",
            "|    decoder.out.weight    |    7424    |\n",
            "|     decoder.out.bias     |     29     |\n",
            "+--------------------------+------------+\n",
            "Total Trainable Params: 2531102\n"
          ]
        },
        {
          "output_type": "execute_result",
          "data": {
            "text/plain": [
              "<All keys matched successfully>"
            ]
          },
          "metadata": {},
          "execution_count": 11
        }
      ]
    },
    {
      "cell_type": "code",
      "source": [
        "!wget -O Mangal.ttf https://raw.githubusercontent.com/ovidiuch/gutenHashTag/master/fonts/mangal.ttf"
      ],
      "metadata": {
        "colab": {
          "base_uri": "https://localhost:8080/"
        },
        "id": "ckGiVUvY6hra",
        "outputId": "4a6dd38f-e1f4-4821-92e8-2b6af1969e4b"
      },
      "execution_count": null,
      "outputs": [
        {
          "output_type": "stream",
          "name": "stdout",
          "text": [
            "--2025-05-19 15:32:35--  https://raw.githubusercontent.com/ovidiuch/gutenHashTag/master/fonts/mangal.ttf\n",
            "Resolving raw.githubusercontent.com (raw.githubusercontent.com)... 185.199.108.133, 185.199.111.133, 185.199.109.133, ...\n",
            "Connecting to raw.githubusercontent.com (raw.githubusercontent.com)|185.199.108.133|:443... connected.\n",
            "HTTP request sent, awaiting response... 200 OK\n",
            "Length: 144744 (141K) [application/octet-stream]\n",
            "Saving to: ‘Mangal.ttf’\n",
            "\n",
            "\rMangal.ttf            0%[                    ]       0  --.-KB/s               \rMangal.ttf          100%[===================>] 141.35K  --.-KB/s    in 0.02s   \n",
            "\n",
            "2025-05-19 15:32:35 (6.93 MB/s) - ‘Mangal.ttf’ saved [144744/144744]\n",
            "\n"
          ]
        }
      ]
    },
    {
      "cell_type": "code",
      "source": [
        "import matplotlib.pyplot as plt\n",
        "import matplotlib.colors as mcolors\n",
        "from matplotlib import cm\n",
        "from IPython.display import HTML, display\n",
        "\n",
        "def color_attention(text, attn_weights, cmap=\"Reds\"):\n",
        "    \"\"\"\n",
        "    text: input string (list of characters)\n",
        "    attn_weights: attention weights (1D list or numpy array)\n",
        "    \"\"\"\n",
        "    norm = mcolors.Normalize(vmin=min(attn_weights), vmax=max(attn_weights))\n",
        "    color_map = cm.get_cmap(cmap)\n",
        "\n",
        "    html = \"\"\n",
        "    for char, weight in zip(text, attn_weights):\n",
        "        rgba = color_map(norm(weight))\n",
        "        color = mcolors.to_hex(rgba)\n",
        "        html += f\"<span style='background-color:{color}'>{char}</span>\"\n",
        "    return html\n"
      ],
      "metadata": {
        "id": "_AuyorCDFlNX"
      },
      "execution_count": null,
      "outputs": []
    },
    {
      "cell_type": "code",
      "source": [
        "def visualize_attention_matrix(input_chars, output_chars, attention_matrix):\n",
        "    \"\"\"\n",
        "    attention_matrix: shape (len(output_chars), len(input_chars))\n",
        "    \"\"\"\n",
        "    for i, output_char in enumerate(output_chars):\n",
        "        html = color_attention(input_chars, attention_matrix[i])\n",
        "        display(HTML(f\"<b>{output_char}</b>: {html}\"))\n"
      ],
      "metadata": {
        "id": "BtFta6jLFq0v"
      },
      "execution_count": null,
      "outputs": []
    },
    {
      "cell_type": "code",
      "source": [
        "import matplotlib.pyplot as plt\n",
        "import numpy as np\n",
        "from matplotlib.font_manager import FontProperties\n",
        "import warnings\n",
        "warnings.filterwarnings('ignore')\n",
        "\n",
        "# Load the font\n",
        "font_path = 'Mangal.ttf'\n",
        "font_prop = FontProperties(fname=font_path, size=18)\n",
        "\n",
        "for batch_idx, (src, trg) in enumerate(test_loader):\n",
        "    src, trg = src.to(device), trg.to(device)\n",
        "    # Take the first sequence in the batch\n",
        "    src_seq, trg_seq = src[0], trg[0]\n",
        "\n",
        "    # Exclude SOS (1) and EOS (2) tokens\n",
        "    src_text = ''.join([input_lang.index2char[idx.item()] for idx in src_seq if idx.item() > 2])\n",
        "    trg_text = ''.join([output_lang.index2char[idx.item()] for idx in trg_seq if idx.item() > 2])\n",
        "\n",
        "    # Run transliteration\n",
        "    pred_text, attentions = transliterate(model, src_seq, input_lang, output_lang, device)\n",
        "\n",
        "    print(f\"Input: {src_text}\")\n",
        "    print(f\"Target: {trg_text}\")\n",
        "    print(f\"Prediction: {pred_text}\")\n",
        "    attn_matrix = np.array(attentions).squeeze(1)\n",
        "    if attn_matrix.shape[1] > len(src_labels):\n",
        "      attn_matrix = attn_matrix[:, 1:-1]  # Skip SOS and EOS columns\n",
        "\n",
        "    visualize_attention_matrix(list(src_text), list(pred_text), attn_matrix[:1+len(src_text),:10+len(trg_text)])\n",
        "\n",
        "    # Convert attentions to numpy array\n",
        "    # attn_matrix = np.array([attn.squeeze(1).cpu().numpy() for attn in attentions])  # Shape: [pred_len, src_len]\n",
        "\n",
        "    # Adjust matrix to match sequence lengths (exclude SOS/EOS if needed)\n",
        "    # Assume src includes SOS/EOS, so src_len = len(src_text) + 2\n",
        "    src_labels = list(src_text)  # Devanagari characters\n",
        "    pred_labels = list(pred_text)  # Latin characters\n",
        "\n",
        "    # Plot heatmap\n",
        "    plt.matshow(attn_matrix[:len(src_text),:len(trg_text)])\n",
        "    plt.colorbar()\n",
        "\n",
        "    # # Set ticks and labels\n",
        "    plt.xticks(ticks=np.arange(len(src_labels)), labels=src_labels, fontproperties=font_prop)\n",
        "    plt.yticks(ticks=np.arange(len(pred_labels)), labels=pred_labels)\n",
        "\n",
        "    # # Set axis labels with font\n",
        "    plt.xlabel('Input Sequence (Devanagari)')\n",
        "    plt.ylabel('Output Sequence (Latin)')\n",
        "    plt.title('Attention Map')\n",
        "\n",
        "    plt.show()\n",
        "\n",
        "    print(\"-----\")\n",
        "    if batch_idx == 5:\n",
        "      break\n"
      ],
      "metadata": {
        "colab": {
          "base_uri": "https://localhost:8080/",
          "height": 1000
        },
        "id": "T2uA0uQ7BZT7",
        "outputId": "bb3ad9c4-83ea-49c9-b606-8fb9bda9f07d"
      },
      "execution_count": null,
      "outputs": [
        {
          "output_type": "stream",
          "name": "stdout",
          "text": [
            "Input: अंक\n",
            "Target: ank\n",
            "Prediction: ank\n"
          ]
        },
        {
          "output_type": "display_data",
          "data": {
            "text/plain": [
              "<IPython.core.display.HTML object>"
            ],
            "text/html": [
              "<b>a</b>: <span style='background-color:#67000d'>अ</span><span style='background-color:#8c0912'>ं</span><span style='background-color:#fff2eb'>क</span>"
            ]
          },
          "metadata": {}
        },
        {
          "output_type": "display_data",
          "data": {
            "text/plain": [
              "<IPython.core.display.HTML object>"
            ],
            "text/html": [
              "<b>n</b>: <span style='background-color:#fff4ee'>अ</span><span style='background-color:#67000d'>ं</span><span style='background-color:#b71319'>क</span>"
            ]
          },
          "metadata": {}
        },
        {
          "output_type": "display_data",
          "data": {
            "text/plain": [
              "<IPython.core.display.HTML object>"
            ],
            "text/html": [
              "<b>k</b>: <span style='background-color:#fff5f0'>अ</span><span style='background-color:#feeae1'>ं</span><span style='background-color:#67000d'>क</span>"
            ]
          },
          "metadata": {}
        },
        {
          "output_type": "display_data",
          "data": {
            "text/plain": [
              "<Figure size 480x480 with 2 Axes>"
            ],
            "image/png": "[encoded data removed]"
          },
          "metadata": {}
        },
        {
          "output_type": "stream",
          "name": "stdout",
          "text": [
            "-----\n",
            "Input: अट्टहास\n",
            "Target: atthas\n",
            "Prediction: attahas\n"
          ]
        },
        {
          "output_type": "display_data",
          "data": {
            "text/plain": [
              "<IPython.core.display.HTML object>"
            ],
            "text/html": [
              "<b>a</b>: <span style='background-color:#67000d'>अ</span><span style='background-color:#fee5d9'>ट</span><span style='background-color:#fff5f0'>्</span><span style='background-color:#fff4ef'>ट</span><span style='background-color:#fff5f0'>ह</span><span style='background-color:#fff5f0'>ा</span><span style='background-color:#fff5f0'>स</span>"
            ]
          },
          "metadata": {}
        },
        {
          "output_type": "display_data",
          "data": {
            "text/plain": [
              "<IPython.core.display.HTML object>"
            ],
            "text/html": [
              "<b>t</b>: <span style='background-color:#fff5f0'>अ</span><span style='background-color:#67000d'>ट</span><span style='background-color:#fff5f0'>्</span><span style='background-color:#fff0e8'>ट</span><span style='background-color:#fff5f0'>ह</span><span style='background-color:#fff5f0'>ा</span><span style='background-color:#fff5f0'>स</span>"
            ]
          },
          "metadata": {}
        },
        {
          "output_type": "display_data",
          "data": {
            "text/plain": [
              "<IPython.core.display.HTML object>"
            ],
            "text/html": [
              "<b>t</b>: <span style='background-color:#fff5f0'>अ</span><span style='background-color:#fcaf93'>ट</span><span style='background-color:#ffeee7'>्</span><span style='background-color:#67000d'>ट</span><span style='background-color:#ffefe8'>ह</span><span style='background-color:#fff5f0'>ा</span><span style='background-color:#fff5f0'>स</span>"
            ]
          },
          "metadata": {}
        },
        {
          "output_type": "display_data",
          "data": {
            "text/plain": [
              "<IPython.core.display.HTML object>"
            ],
            "text/html": [
              "<b>a</b>: <span style='background-color:#fff5f0'>अ</span><span style='background-color:#fff5f0'>ट</span><span style='background-color:#fff3ed'>्</span><span style='background-color:#fee6da'>ट</span><span style='background-color:#67000d'>ह</span><span style='background-color:#fc9e80'>ा</span><span style='background-color:#fee8dd'>स</span>"
            ]
          },
          "metadata": {}
        },
        {
          "output_type": "display_data",
          "data": {
            "text/plain": [
              "<IPython.core.display.HTML object>"
            ],
            "text/html": [
              "<b>h</b>: <span style='background-color:#fff5f0'>अ</span><span style='background-color:#fff5f0'>ट</span><span style='background-color:#fff5f0'>्</span><span style='background-color:#fff3ed'>ट</span><span style='background-color:#67000d'>ह</span><span style='background-color:#ed392b'>ा</span><span style='background-color:#e43027'>स</span>"
            ]
          },
          "metadata": {}
        },
        {
          "output_type": "display_data",
          "data": {
            "text/plain": [
              "<IPython.core.display.HTML object>"
            ],
            "text/html": [
              "<b>a</b>: <span style='background-color:#fff5f0'>अ</span><span style='background-color:#fff5f0'>ट</span><span style='background-color:#fff5f0'>्</span><span style='background-color:#fff5f0'>ट</span><span style='background-color:#fff2ec'>ह</span><span style='background-color:#ffeee6'>ा</span><span style='background-color:#67000d'>स</span>"
            ]
          },
          "metadata": {}
        },
        {
          "output_type": "display_data",
          "data": {
            "text/plain": [
              "<IPython.core.display.HTML object>"
            ],
            "text/html": [
              "<b>s</b>: <span style='background-color:#fff5f0'>अ</span><span style='background-color:#fff5f0'>ट</span><span style='background-color:#fff5f0'>्</span><span style='background-color:#fff5f0'>ट</span><span style='background-color:#fff5f0'>ह</span><span style='background-color:#fff4ef'>ा</span><span style='background-color:#fc8565'>स</span>"
            ]
          },
          "metadata": {}
        },
        {
          "output_type": "display_data",
          "data": {
            "text/plain": [
              "<Figure size 411.429x480 with 2 Axes>"
            ],
            "image/png": "[encoded data removed]"
          },
          "metadata": {}
        },
        {
          "output_type": "stream",
          "name": "stdout",
          "text": [
            "-----\n",
            "Input: अब्बासी\n",
            "Target: abbaasi\n",
            "Prediction: abbasi\n"
          ]
        },
        {
          "output_type": "display_data",
          "data": {
            "text/plain": [
              "<IPython.core.display.HTML object>"
            ],
            "text/html": [
              "<b>a</b>: <span style='background-color:#67000d'>अ</span><span style='background-color:#f14331'>ब</span><span style='background-color:#fff5f0'>्</span><span style='background-color:#fff2ec'>ब</span><span style='background-color:#fff5f0'>ा</span><span style='background-color:#fff5f0'>स</span><span style='background-color:#fff5f0'>ी</span>"
            ]
          },
          "metadata": {}
        },
        {
          "output_type": "display_data",
          "data": {
            "text/plain": [
              "<IPython.core.display.HTML object>"
            ],
            "text/html": [
              "<b>b</b>: <span style='background-color:#fff5f0'>अ</span><span style='background-color:#67000d'>ब</span><span style='background-color:#fff5f0'>्</span><span style='background-color:#fee6da'>ब</span><span style='background-color:#fff5f0'>ा</span><span style='background-color:#fff5f0'>स</span><span style='background-color:#fff5f0'>ी</span>"
            ]
          },
          "metadata": {}
        },
        {
          "output_type": "display_data",
          "data": {
            "text/plain": [
              "<IPython.core.display.HTML object>"
            ],
            "text/html": [
              "<b>b</b>: <span style='background-color:#fff5f0'>अ</span><span style='background-color:#fee7dc'>ब</span><span style='background-color:#fff0e9'>्</span><span style='background-color:#67000d'>ब</span><span style='background-color:#fff2eb'>ा</span><span style='background-color:#fff4ef'>स</span><span style='background-color:#fff5f0'>ी</span>"
            ]
          },
          "metadata": {}
        },
        {
          "output_type": "display_data",
          "data": {
            "text/plain": [
              "<IPython.core.display.HTML object>"
            ],
            "text/html": [
              "<b>a</b>: <span style='background-color:#fff5f0'>अ</span><span style='background-color:#fff5f0'>ब</span><span style='background-color:#fff3ed'>्</span><span style='background-color:#fee2d5'>ब</span><span style='background-color:#f5533b'>ा</span><span style='background-color:#67000d'>स</span><span style='background-color:#fff2eb'>ी</span>"
            ]
          },
          "metadata": {}
        },
        {
          "output_type": "display_data",
          "data": {
            "text/plain": [
              "<IPython.core.display.HTML object>"
            ],
            "text/html": [
              "<b>s</b>: <span style='background-color:#fff5f0'>अ</span><span style='background-color:#fff5f0'>ब</span><span style='background-color:#fff5f0'>्</span><span style='background-color:#fff4ef'>ब</span><span style='background-color:#fff2ec'>ा</span><span style='background-color:#67000d'>स</span><span style='background-color:#fcb095'>ी</span>"
            ]
          },
          "metadata": {}
        },
        {
          "output_type": "display_data",
          "data": {
            "text/plain": [
              "<IPython.core.display.HTML object>"
            ],
            "text/html": [
              "<b>i</b>: <span style='background-color:#fff5f0'>अ</span><span style='background-color:#fff5f0'>ब</span><span style='background-color:#fff5f0'>्</span><span style='background-color:#fff5f0'>ब</span><span style='background-color:#fff4ef'>ा</span><span style='background-color:#fdd2bf'>स</span><span style='background-color:#67000d'>ी</span>"
            ]
          },
          "metadata": {}
        },
        {
          "output_type": "display_data",
          "data": {
            "text/plain": [
              "<Figure size 480x480 with 2 Axes>"
            ],
            "image/png": "[encoded data removed]"
          },
          "metadata": {}
        },
        {
          "output_type": "stream",
          "name": "stdout",
          "text": [
            "-----\n",
            "Input: अली\n",
            "Target: ali\n",
            "Prediction: ali\n"
          ]
        },
        {
          "output_type": "display_data",
          "data": {
            "text/plain": [
              "<IPython.core.display.HTML object>"
            ],
            "text/html": [
              "<b>a</b>: <span style='background-color:#67000d'>अ</span><span style='background-color:#fcaa8d'>ल</span><span style='background-color:#fff3ed'>ी</span>"
            ]
          },
          "metadata": {}
        },
        {
          "output_type": "display_data",
          "data": {
            "text/plain": [
              "<IPython.core.display.HTML object>"
            ],
            "text/html": [
              "<b>l</b>: <span style='background-color:#fff5f0'>अ</span><span style='background-color:#67000d'>ल</span><span style='background-color:#ffece3'>ी</span>"
            ]
          },
          "metadata": {}
        },
        {
          "output_type": "display_data",
          "data": {
            "text/plain": [
              "<IPython.core.display.HTML object>"
            ],
            "text/html": [
              "<b>i</b>: <span style='background-color:#fff5f0'>अ</span><span style='background-color:#ffeee6'>ल</span><span style='background-color:#67000d'>ी</span>"
            ]
          },
          "metadata": {}
        },
        {
          "output_type": "display_data",
          "data": {
            "text/plain": [
              "<Figure size 480x480 with 2 Axes>"
            ],
            "image/png": "[encoded data removed]"
          },
          "metadata": {}
        },
        {
          "output_type": "stream",
          "name": "stdout",
          "text": [
            "-----\n",
            "Input: आईपीसी\n",
            "Target: ipc\n",
            "Prediction: ipc\n"
          ]
        },
        {
          "output_type": "display_data",
          "data": {
            "text/plain": [
              "<IPython.core.display.HTML object>"
            ],
            "text/html": [
              "<b>i</b>: <span style='background-color:#ffefe8'>आ</span><span style='background-color:#67000d'>ई</span><span style='background-color:#fff2ec'>प</span><span style='background-color:#ffeee7'>ी</span><span style='background-color:#fff5f0'>स</span><span style='background-color:#fff4ef'>ी</span>"
            ]
          },
          "metadata": {}
        },
        {
          "output_type": "display_data",
          "data": {
            "text/plain": [
              "<IPython.core.display.HTML object>"
            ],
            "text/html": [
              "<b>p</b>: <span style='background-color:#fff5f0'>आ</span><span style='background-color:#fff4ef'>ई</span><span style='background-color:#67000d'>प</span><span style='background-color:#fcb99f'>ी</span><span style='background-color:#fee5d9'>स</span><span style='background-color:#fdd2bf'>ी</span>"
            ]
          },
          "metadata": {}
        },
        {
          "output_type": "display_data",
          "data": {
            "text/plain": [
              "<IPython.core.display.HTML object>"
            ],
            "text/html": [
              "<b>c</b>: <span style='background-color:#fff5f0'>आ</span><span style='background-color:#fff5f0'>ई</span><span style='background-color:#fee7dc'>प</span><span style='background-color:#ffeee7'>ी</span><span style='background-color:#77040f'>स</span><span style='background-color:#67000d'>ी</span>"
            ]
          },
          "metadata": {}
        },
        {
          "output_type": "display_data",
          "data": {
            "text/plain": [
              "<Figure size 400x533.333 with 2 Axes>"
            ],
            "image/png": "[encoded data removed]"
          },
          "metadata": {}
        },
        {
          "output_type": "stream",
          "name": "stdout",
          "text": [
            "-----\n",
            "Input: आर्डर\n",
            "Target: order\n",
            "Prediction: arder\n"
          ]
        },
        {
          "output_type": "display_data",
          "data": {
            "text/plain": [
              "<IPython.core.display.HTML object>"
            ],
            "text/html": [
              "<b>a</b>: <span style='background-color:#67000d'>आ</span><span style='background-color:#ce1a1e'>र</span><span style='background-color:#fff0e8'>्</span><span style='background-color:#ffece3'>ड</span><span style='background-color:#fff5f0'>र</span>"
            ]
          },
          "metadata": {}
        },
        {
          "output_type": "display_data",
          "data": {
            "text/plain": [
              "<IPython.core.display.HTML object>"
            ],
            "text/html": [
              "<b>r</b>: <span style='background-color:#fff4ef'>आ</span><span style='background-color:#67000d'>र</span><span style='background-color:#fee5d8'>्</span><span style='background-color:#fc8a6a'>ड</span><span style='background-color:#fff4ef'>र</span>"
            ]
          },
          "metadata": {}
        },
        {
          "output_type": "display_data",
          "data": {
            "text/plain": [
              "<IPython.core.display.HTML object>"
            ],
            "text/html": [
              "<b>d</b>: <span style='background-color:#fff5f0'>आ</span><span style='background-color:#fed9c9'>र</span><span style='background-color:#fee3d7'>्</span><span style='background-color:#67000d'>ड</span><span style='background-color:#fff4ee'>र</span>"
            ]
          },
          "metadata": {}
        },
        {
          "output_type": "display_data",
          "data": {
            "text/plain": [
              "<IPython.core.display.HTML object>"
            ],
            "text/html": [
              "<b>e</b>: <span style='background-color:#fff5f0'>आ</span><span style='background-color:#fff5f0'>र</span><span style='background-color:#fff3ed'>्</span><span style='background-color:#d11e1f'>ड</span><span style='background-color:#67000d'>र</span>"
            ]
          },
          "metadata": {}
        },
        {
          "output_type": "display_data",
          "data": {
            "text/plain": [
              "<IPython.core.display.HTML object>"
            ],
            "text/html": [
              "<b>r</b>: <span style='background-color:#fff5f0'>आ</span><span style='background-color:#fff5f0'>र</span><span style='background-color:#fff5f0'>्</span><span style='background-color:#ffeee7'>ड</span><span style='background-color:#67000d'>र</span>"
            ]
          },
          "metadata": {}
        },
        {
          "output_type": "display_data",
          "data": {
            "text/plain": [
              "<Figure size 480x480 with 2 Axes>"
            ],
            "image/png": "[encoded data removed]"
          },
          "metadata": {}
        },
        {
          "output_type": "stream",
          "name": "stdout",
          "text": [
            "-----\n"
          ]
        }
      ]
    },
    {
      "cell_type": "code",
      "source": [
        "import matplotlib.pyplot as plt\n",
        "import matplotlib.colors as mcolors\n",
        "from matplotlib import cm\n",
        "from IPython.display import HTML, display\n",
        "\n",
        "def color_attention(text, attn_weights, cmap=\"Reds\"):\n",
        "    \"\"\"\n",
        "    text: input string (list of characters)\n",
        "    attn_weights: attention weights (1D list or numpy array)\n",
        "    \"\"\"\n",
        "    norm = mcolors.Normalize(vmin=min(attn_weights), vmax=max(attn_weights))\n",
        "    color_map = cm.get_cmap(cmap)\n",
        "\n",
        "    html = \"\"\n",
        "    for char, weight in zip(text, attn_weights):\n",
        "        rgba = color_map(norm(weight))\n",
        "        color = mcolors.to_hex(rgba)\n",
        "        html += f\"<span style='background-color:{color}'>{char}</span>\"\n",
        "    return html\n"
      ],
      "metadata": {
        "id": "64rT2-UlRtuS"
      },
      "execution_count": null,
      "outputs": []
    },
    {
      "cell_type": "code",
      "source": [
        "def visualize_attention_matrix(input_chars, output_chars, attention_matrix):\n",
        "    \"\"\"\n",
        "    attention_matrix: shape (len(output_chars), len(input_chars))\n",
        "    \"\"\"\n",
        "    for i, output_char in enumerate(output_chars):\n",
        "        html = color_attention(input_chars, attention_matrix[i])\n",
        "        display(HTML(f\"<b>{output_char}</b>: {html}\"))\n"
      ],
      "metadata": {
        "id": "kD5LzkNXMp92"
      },
      "execution_count": null,
      "outputs": []
    },
    {
      "cell_type": "code",
      "source": [
        "input_text = list(\"mushroom\")  # source word\n",
        "output_text = list(\"मशरूम\")   # predicted target word\n",
        "\n",
        "# Fake attention weights for illustration\n",
        "import numpy as np\n",
        "attention_matrix = np.random.rand(len(output_text), len(input_text))\n",
        "\n",
        "visualize_attention_matrix(input_text, output_text, attention_matrix)\n"
      ],
      "metadata": {
        "colab": {
          "base_uri": "https://localhost:8080/",
          "height": 160
        },
        "id": "ranTlaU4kbOP",
        "outputId": "1f62e3f4-2b7e-41da-dc63-5ed3d0d2bb98"
      },
      "execution_count": null,
      "outputs": [
        {
          "output_type": "stream",
          "name": "stderr",
          "text": [
            "<ipython-input-1-d44c1dc99661>:12: MatplotlibDeprecationWarning: The get_cmap function was deprecated in Matplotlib 3.7 and will be removed in 3.11. Use ``matplotlib.colormaps[name]`` or ``matplotlib.colormaps.get_cmap()`` or ``pyplot.get_cmap()`` instead.\n",
            "  color_map = cm.get_cmap(cmap)\n"
          ]
        },
        {
          "output_type": "display_data",
          "data": {
            "text/plain": [
              "<IPython.core.display.HTML object>"
            ],
            "text/html": [
              "<b>म</b>: <span style='background-color:#fff5f0'>m</span><span style='background-color:#67000d'>u</span><span style='background-color:#f6563d'>s</span><span style='background-color:#feeae0'>h</span><span style='background-color:#800610'>r</span><span style='background-color:#940b13'>o</span><span style='background-color:#fff4ee'>o</span><span style='background-color:#f96044'>m</span>"
            ]
          },
          "metadata": {}
        },
        {
          "output_type": "display_data",
          "data": {
            "text/plain": [
              "<IPython.core.display.HTML object>"
            ],
            "text/html": [
              "<b>श</b>: <span style='background-color:#fb7b5b'>m</span><span style='background-color:#af1117'>u</span><span style='background-color:#9c0d14'>s</span><span style='background-color:#67000d'>h</span><span style='background-color:#fedaca'>r</span><span style='background-color:#fff5f0'>o</span><span style='background-color:#71020e'>o</span><span style='background-color:#f85d42'>m</span>"
            ]
          },
          "metadata": {}
        },
        {
          "output_type": "display_data",
          "data": {
            "text/plain": [
              "<IPython.core.display.HTML object>"
            ],
            "text/html": [
              "<b>र</b>: <span style='background-color:#fff2eb'>m</span><span style='background-color:#fcab8f'>u</span><span style='background-color:#fff5f0'>s</span><span style='background-color:#fff4ef'>h</span><span style='background-color:#fff4ee'>r</span><span style='background-color:#67000d'>o</span><span style='background-color:#fcb499'>o</span><span style='background-color:#f5533b'>m</span>"
            ]
          },
          "metadata": {}
        },
        {
          "output_type": "display_data",
          "data": {
            "text/plain": [
              "<IPython.core.display.HTML object>"
            ],
            "text/html": [
              "<b>ू</b>: <span style='background-color:#67000d'>m</span><span style='background-color:#fc8d6d'>u</span><span style='background-color:#fff5f0'>s</span><span style='background-color:#d82422'>h</span><span style='background-color:#9f0e14'>r</span><span style='background-color:#fc9777'>o</span><span style='background-color:#f14130'>o</span><span style='background-color:#fc9d7f'>m</span>"
            ]
          },
          "metadata": {}
        },
        {
          "output_type": "display_data",
          "data": {
            "text/plain": [
              "<IPython.core.display.HTML object>"
            ],
            "text/html": [
              "<b>म</b>: <span style='background-color:#ad1117'>m</span><span style='background-color:#de2b25'>u</span><span style='background-color:#fcc2aa'>s</span><span style='background-color:#fb7a5a'>h</span><span style='background-color:#fff5f0'>r</span><span style='background-color:#f44d38'>o</span><span style='background-color:#c3161b'>o</span><span style='background-color:#67000d'>m</span>"
            ]
          },
          "metadata": {}
        }
      ]
    },
    {
      "cell_type": "code",
      "source": [
        "!pip install --upgrade wandb"
      ],
      "metadata": {
        "id": "HNd_2QN-BGLS",
        "colab": {
          "base_uri": "https://localhost:8080/"
        },
        "outputId": "cff168b6-c4f7-4bcb-be56-8a04ba0b367b"
      },
      "execution_count": null,
      "outputs": [
        {
          "output_type": "stream",
          "name": "stdout",
          "text": [
            "Requirement already satisfied: wandb in /usr/local/lib/python3.11/dist-packages (0.19.11)\n",
            "Requirement already satisfied: click!=8.0.0,>=7.1 in /usr/local/lib/python3.11/dist-packages (from wandb) (8.2.0)\n",
            "Requirement already satisfied: docker-pycreds>=0.4.0 in /usr/local/lib/python3.11/dist-packages (from wandb) (0.4.0)\n",
            "Requirement already satisfied: gitpython!=3.1.29,>=1.0.0 in /usr/local/lib/python3.11/dist-packages (from wandb) (3.1.44)\n",
            "Requirement already satisfied: platformdirs in /usr/local/lib/python3.11/dist-packages (from wandb) (4.3.8)\n",
            "Requirement already satisfied: protobuf!=4.21.0,!=5.28.0,<7,>=3.19.0 in /usr/local/lib/python3.11/dist-packages (from wandb) (5.29.4)\n",
            "Requirement already satisfied: psutil>=5.0.0 in /usr/local/lib/python3.11/dist-packages (from wandb) (5.9.5)\n",
            "Requirement already satisfied: pydantic<3 in /usr/local/lib/python3.11/dist-packages (from wandb) (2.11.4)\n",
            "Requirement already satisfied: pyyaml in /usr/local/lib/python3.11/dist-packages (from wandb) (6.0.2)\n",
            "Requirement already satisfied: requests<3,>=2.0.0 in /usr/local/lib/python3.11/dist-packages (from wandb) (2.32.3)\n",
            "Requirement already satisfied: sentry-sdk>=2.0.0 in /usr/local/lib/python3.11/dist-packages (from wandb) (2.28.0)\n",
            "Requirement already satisfied: setproctitle in /usr/local/lib/python3.11/dist-packages (from wandb) (1.3.6)\n",
            "Requirement already satisfied: setuptools in /usr/local/lib/python3.11/dist-packages (from wandb) (75.2.0)\n",
            "Requirement already satisfied: typing-extensions<5,>=4.4 in /usr/local/lib/python3.11/dist-packages (from wandb) (4.13.2)\n",
            "Requirement already satisfied: six>=1.4.0 in /usr/local/lib/python3.11/dist-packages (from docker-pycreds>=0.4.0->wandb) (1.17.0)\n",
            "Requirement already satisfied: gitdb<5,>=4.0.1 in /usr/local/lib/python3.11/dist-packages (from gitpython!=3.1.29,>=1.0.0->wandb) (4.0.12)\n",
            "Requirement already satisfied: annotated-types>=0.6.0 in /usr/local/lib/python3.11/dist-packages (from pydantic<3->wandb) (0.7.0)\n",
            "Requirement already satisfied: pydantic-core==2.33.2 in /usr/local/lib/python3.11/dist-packages (from pydantic<3->wandb) (2.33.2)\n",
            "Requirement already satisfied: typing-inspection>=0.4.0 in /usr/local/lib/python3.11/dist-packages (from pydantic<3->wandb) (0.4.0)\n",
            "Requirement already satisfied: charset-normalizer<4,>=2 in /usr/local/lib/python3.11/dist-packages (from requests<3,>=2.0.0->wandb) (3.4.2)\n",
            "Requirement already satisfied: idna<4,>=2.5 in /usr/local/lib/python3.11/dist-packages (from requests<3,>=2.0.0->wandb) (3.10)\n",
            "Requirement already satisfied: urllib3<3,>=1.21.1 in /usr/local/lib/python3.11/dist-packages (from requests<3,>=2.0.0->wandb) (2.4.0)\n",
            "Requirement already satisfied: certifi>=2017.4.17 in /usr/local/lib/python3.11/dist-packages (from requests<3,>=2.0.0->wandb) (2025.4.26)\n",
            "Requirement already satisfied: smmap<6,>=3.0.1 in /usr/local/lib/python3.11/dist-packages (from gitdb<5,>=4.0.1->gitpython!=3.1.29,>=1.0.0->wandb) (5.0.2)\n"
          ]
        }
      ]
    },
    {
      "cell_type": "markdown",
      "source": [
        "#Sweep"
      ],
      "metadata": {
        "id": "wJu9-VecLUgq"
      }
    },
    {
      "cell_type": "code",
      "source": [
        "class EncoderRNN(nn.Module):\n",
        "    def __init__(self, input_size, hidden_size, num_layers=1, cell_type=\"LSTM\",  dropout=0.0):\n",
        "        super(EncoderRNN, self).__init__()\n",
        "        self.hidden_size = hidden_size\n",
        "        self.num_layers = num_layers\n",
        "        self.cell_type = cell_type\n",
        "\n",
        "        self.embedding = nn.Embedding(input_size, hidden_size)\n",
        "\n",
        "        if cell_type == \"LSTM\":\n",
        "            self.rnn = nn.LSTM(hidden_size, hidden_size, num_layers,\n",
        "                               dropout=dropout if num_layers > 1 else 0.0, batch_first=True)\n",
        "        elif cell_type == \"GRU\":\n",
        "            self.rnn = nn.GRU(hidden_size, hidden_size, num_layers,\n",
        "                              dropout=dropout if num_layers > 1 else 0.0, batch_first=True)\n",
        "        else:\n",
        "            self.rnn = nn.RNN(hidden_size, hidden_size, num_layers,\n",
        "                              dropout=dropout if num_layers > 1 else 0.0, batch_first=True)\n",
        "\n",
        "    def forward(self, input_seq, hidden):\n",
        "        # input_seq shape: [batch_size, seq_len]\n",
        "        batch_size = input_seq.size(0)\n",
        "\n",
        "        embedded = self.embedding(input_seq)  # [batch_size, seq_len, hidden_size]\n",
        "        output, hidden = self.rnn(embedded, hidden)\n",
        "\n",
        "        return output, hidden\n",
        "\n",
        "    def init_hidden(self, batch_size, device):\n",
        "        if self.cell_type == \"LSTM\":\n",
        "            return (torch.zeros(self.num_layers, batch_size, self.hidden_size, device=device),\n",
        "                    torch.zeros(self.num_layers, batch_size, self.hidden_size, device=device))\n",
        "        else:\n",
        "            return torch.zeros(self.num_layers, batch_size, self.hidden_size, device=device)\n",
        "class AttentionDecoderRNN(nn.Module):\n",
        "    def __init__(self, hidden_size, output_size, num_layers=1, cell_type=\"LSTM\", dropout = 0.0):\n",
        "        super(AttentionDecoderRNN, self).__init__()\n",
        "        self.hidden_size = hidden_size\n",
        "        self.output_size = output_size\n",
        "        self.num_layers = num_layers\n",
        "        self.cell_type = cell_type\n",
        "\n",
        "        self.embedding = nn.Embedding(output_size, hidden_size)\n",
        "\n",
        "        # Attention layers: Wa and Ua for alignment scoring, Va for final score\n",
        "        self.Wa = nn.Linear(hidden_size, hidden_size)  # For decoder hidden state\n",
        "        self.Ua = nn.Linear(hidden_size, hidden_size)  # For encoder outputs\n",
        "        self.Va = nn.Linear(hidden_size, 1)  # Final attention score\n",
        "\n",
        "        if cell_type == \"LSTM\":\n",
        "            self.rnn = nn.LSTM(hidden_size*2, hidden_size, num_layers,\n",
        "                               dropout=dropout if num_layers > 1 else 0.0, batch_first=True)\n",
        "        elif cell_type == \"GRU\":\n",
        "            self.rnn = nn.GRU(hidden_size*2, hidden_size, num_layers,\n",
        "                              dropout=dropout if num_layers > 1 else 0.0, batch_first=True)\n",
        "        else:\n",
        "            self.rnn = nn.RNN(hidden_size*2, hidden_size, num_layers,\n",
        "                              dropout=dropout if num_layers > 1 else 0.0, batch_first=True)\n",
        "\n",
        "        self.out = nn.Linear(hidden_size, output_size)\n",
        "        self.softmax = nn.LogSoftmax(dim=2)\n",
        "\n",
        "    def forward(self, input_seq, hidden, encoder_outputs):\n",
        "        # input_seq shape: [batch_size, 1]\n",
        "        # encoder_outputs shape: [batch_size, seq_len, hidden_size]\n",
        "        batch_size = input_seq.size(0)\n",
        "        seq_len = encoder_outputs.size(1)\n",
        "\n",
        "        embedded = self.embedding(input_seq)  # [batch_size, 1, hidden_size]\n",
        "\n",
        "        # Get the current decoder hidden state for attention query\n",
        "        if self.cell_type == \"LSTM\":\n",
        "            query = hidden[0][-1].unsqueeze(1)  # Last layer's hidden state: [batch_size, 1, hidden_size]\n",
        "        else:\n",
        "            query = hidden[-1].unsqueeze(1)  # Last layer's hidden state for non-LSTM\n",
        "\n",
        "        # Compute attention scores\n",
        "        # Repeat query to match encoder_outputs length for scoring\n",
        "        query = query.repeat(1, seq_len, 1)  # [batch_size, seq_len, hidden_size]\n",
        "        scores = self.Va(torch.tanh(self.Wa(query) + self.Ua(encoder_outputs)))  # [batch_size, seq_len, 1]\n",
        "        scores = scores.squeeze(2).unsqueeze(1)  # [batch_size, 1, seq_len]\n",
        "\n",
        "        # Compute attention weights using softmax\n",
        "        attn_weights = torch.softmax(scores, dim=-1)  # [batch_size, 1, seq_len]\n",
        "\n",
        "        # Compute context vector as weighted sum of encoder outputs\n",
        "        context = torch.bmm(attn_weights, encoder_outputs)  # [batch_size, 1, hidden_size]\n",
        "\n",
        "        # Concatenate context with embedded input for RNN\n",
        "        rnn_input = torch.cat((embedded, context), dim=2)  # [batch_size, 1, hidden_size * 2]\n",
        "\n",
        "        # Pass through RNN\n",
        "        output, hidden = self.rnn(rnn_input, hidden)\n",
        "\n",
        "        # Compute output probabilities\n",
        "        output = self.softmax(self.out(output))  # [batch_size, 1, output_size]\n",
        "\n",
        "        return output, hidden, attn_weights\n",
        "\n",
        "\n",
        "class Seq2SeqModel(nn.Module):\n",
        "    def __init__(self, encoder, decoder, device):\n",
        "        super(Seq2SeqModel, self).__init__()\n",
        "        self.encoder = encoder\n",
        "        self.decoder = decoder\n",
        "        self.device = device\n",
        "\n",
        "    def forward(self, src, trg, teacher_forcing_ratio=0.5):\n",
        "        batch_size = src.size(0)\n",
        "        trg_len = trg.size(1)\n",
        "        trg_vocab_size = self.decoder.output_size\n",
        "\n",
        "        # Tensor to store decoder outputs\n",
        "        outputs = torch.zeros(batch_size, trg_len, trg_vocab_size).to(self.device)\n",
        "        # Tensor to store attention weights for visualization (optional)\n",
        "        attentions = torch.zeros(batch_size, trg_len, src.size(1)).to(self.device)\n",
        "\n",
        "        # Initialize encoder hidden state\n",
        "        encoder_hidden = self.encoder.init_hidden(batch_size, self.device)\n",
        "\n",
        "        # Encode the source sequence\n",
        "        encoder_outputs, encoder_hidden = self.encoder(src, encoder_hidden)\n",
        "\n",
        "        # First decoder input is the SOS token\n",
        "        decoder_input = torch.tensor([[1]] * batch_size, device=self.device)  # SOS token\n",
        "        decoder_hidden = encoder_hidden\n",
        "\n",
        "        for t in range(1, trg_len):\n",
        "            # Pass through decoder with attention over encoder_outputs\n",
        "            if isinstance(self.decoder, AttentionDecoderRNN):\n",
        "                decoder_output, decoder_hidden, attn_weights = self.decoder(decoder_input, decoder_hidden, encoder_outputs)\n",
        "                attentions[:, t:t+1, :] = attn_weights\n",
        "            else:\n",
        "                decoder_output, decoder_hidden = self.decoder(decoder_input, decoder_hidden)\n",
        "\n",
        "            # Store prediction\n",
        "            outputs[:, t:t+1, :] = decoder_output\n",
        "\n",
        "            # Decide whether to use teacher forcing\n",
        "            teacher_force = random.random() < teacher_forcing_ratio\n",
        "\n",
        "            # Get the highest predicted token\n",
        "            top1 = decoder_output.argmax(2)\n",
        "\n",
        "            # Use teacher forcing or not\n",
        "            decoder_input = trg[:, t:t+1] if teacher_force else top1\n",
        "\n",
        "        return outputs, attentions if isinstance(self.decoder, AttentionDecoderRNN) else None\n",
        "\n",
        "\n"
      ],
      "metadata": {
        "id": "DT3IUVvqNGWt"
      },
      "execution_count": null,
      "outputs": []
    },
    {
      "cell_type": "code",
      "source": [
        "# Define the training function to be used by wandb.agent\n",
        "def sweep():\n",
        "    # wandb.init() is called by wandb.agent for each run\n",
        "    wandb.init(project=\"attention-sweep\") # Initialize a new run within the sweep\n",
        "\n",
        "    config = wandb.config # Access the hyperparameters for this run\n",
        "    wandb.run.name = f\"{config.cell_type}_hs{config.hidden_size}_nl{config.num_layers}_bs{config.batch_size}_lr{config.learning_rate}_do{config.dropout}\"\n",
        "\n",
        "\n",
        "    device = torch.device(\"cuda\" if torch.cuda.is_available() else \"cpu\")\n",
        "    print(f\"Using device: {device}\")\n",
        "\n",
        "    # Data paths (can be hardcoded or potentially moved to config if needed)\n",
        "    data_path = \"dakshina_dataset_v1.0/hi/lexicons/hi.translit.sampled.train.tsv\"\n",
        "    val_path = \"dakshina_dataset_v1.0/hi/lexicons/hi.translit.sampled.dev.tsv\"\n",
        "    test_path = \"dakshina_dataset_v1.0/hi/lexicons/hi.translit.sampled.test.tsv\"\n",
        "\n",
        "\n",
        "    # Prepare data\n",
        "    input_lang, output_lang, train_pairs = prepare_data(data_path)\n",
        "    # Reuse input_lang and output_lang for validation and test sets\n",
        "    _, _, val_pairs = prepare_data(val_path, input_lang=input_lang, output_lang=output_lang)\n",
        "    _, _, test_pairs = prepare_data(test_path, input_lang=input_lang, output_lang=output_lang)\n",
        "\n",
        "\n",
        "    # Create datasets and dataloaders\n",
        "    train_dataset = TransliterationDataset(data_path, input_lang, output_lang)\n",
        "    train_loader = DataLoader(train_dataset, batch_size=config.batch_size, shuffle=True) # Use config for batch size\n",
        "    val_dataset = TransliterationDataset(val_path, input_lang, output_lang)\n",
        "    val_loader = DataLoader(val_dataset, batch_size=config.batch_size) # Use config for batch size\n",
        "    test_dataset = TransliterationDataset(test_path, input_lang, output_lang)\n",
        "    test_loader = DataLoader(test_dataset, batch_size=config.batch_size) # Use config for batch size\n",
        "\n",
        "\n",
        "    # Create model with AttentionDecoderRNN\n",
        "    encoder = EncoderRNN(\n",
        "        input_lang.n_chars,\n",
        "        hidden_size=config.hidden_size,\n",
        "        num_layers=config.num_layers,\n",
        "        cell_type=config.cell_type,\n",
        "        dropout=config.dropout # Pass dropout from config\n",
        "    )\n",
        "\n",
        "    decoder = AttentionDecoderRNN(\n",
        "        hidden_size=config.hidden_size,\n",
        "        output_size=output_lang.n_chars,\n",
        "        num_layers=config.num_layers,\n",
        "        cell_type=config.cell_type,\n",
        "        dropout=config.dropout # Pass dropout from config\n",
        "    )\n",
        "\n",
        "    model = Seq2SeqModel(encoder, decoder, device).to(device)\n",
        "    # count_parameters(model) # Optional: log parameter count if needed\n",
        "\n",
        "    # Define loss function and optimizer\n",
        "    criterion = nn.NLLLoss(ignore_index=0)\n",
        "    optimizer = optim.Adam(model.parameters(), lr=config.learning_rate)\n",
        "\n",
        "    # Training loop\n",
        "    best_val_loss = float('inf')\n",
        "    train_lossi = []\n",
        "    val_lossi = []\n",
        "\n",
        "    for epoch in range(config.num_epochs): # Use config for number of epochs\n",
        "        train_loss, train_lossi = train_epoch(model, train_loader, optimizer, criterion, device, train_lossi)\n",
        "        val_loss, val_accuracy, val_lossi = evaluate(model, val_loader, criterion, device, val_lossi)\n",
        "\n",
        "        print(f\"Epoch: {epoch+1}/{config.num_epochs}\")\n",
        "        print(f\"Train Loss: {train_loss:.4f}\")\n",
        "        print(f\"Validation Loss: {val_loss:.4f}\")\n",
        "        print(f\"Validation Accuracy: {val_accuracy:.4f}\")\n",
        "\n",
        "        # Log metrics to wandb\n",
        "        wandb.log({\n",
        "            \"train_loss\": train_loss,\n",
        "            \"val_loss\": val_loss,\n",
        "            \"val_accuracy\": val_accuracy,\n",
        "            \"epoch\": epoch\n",
        "        })\n",
        "        print(\"-----\")\n"
      ],
      "metadata": {
        "id": "VkiFyVpXLWSV"
      },
      "execution_count": null,
      "outputs": []
    },
    {
      "cell_type": "code",
      "source": [
        "import wandb\n",
        "#  Sweep configuration\n",
        "sweep_config = {\n",
        "    'method': 'bayes',\n",
        "    'metric': {\n",
        "        'name': 'val_accuracy',\n",
        "        'goal': 'maximize'\n",
        "    },\n",
        "    'parameters': {\n",
        "        'embedding_size': {\n",
        "            'values': [16, 32, 64, 256]\n",
        "        },\n",
        "        'hidden_size': {\n",
        "            'values': [16, 32, 64, 256]\n",
        "        },\n",
        "        'num_layers': {\n",
        "            'values': [1, 2, 3]\n",
        "        },\n",
        "        'cell_type': {\n",
        "            'values': ['RNN', 'GRU', 'LSTM']\n",
        "        },\n",
        "        'dropout': {\n",
        "            'values': [0.2, 0.3]\n",
        "        },\n",
        "        'batch_size': {\n",
        "            'values': [32, 64, 128]\n",
        "        },\n",
        "        'learning_rate': {\n",
        "            'values': [0.001, 0.0005, 0.0001]\n",
        "        },\n",
        "        'num_epochs': {\n",
        "            'value': 5\n",
        "        }\n",
        "    }\n",
        "}\n",
        "\n",
        "# Run the sweep\n",
        "wandb.login(key=\"e6b43dd118f9a14e83fe12c597ad8d06bdfed432\")  # Replace this with safer auth if needed\n",
        "sweep_id = wandb.sweep(sweep_config, project=\"da6401-assignment3_attention\")\n",
        "wandb.agent(sweep_id, sweep, count=20)\n",
        "wandb.finish()"
      ],
      "metadata": {
        "id": "o08Nq3neHmV-",
        "colab": {
          "base_uri": "https://localhost:8080/",
          "height": 710
        },
        "outputId": "6d87533a-9c96-41e4-acf7-9ec27a479d5e"
      },
      "execution_count": null,
      "outputs": [
        {
          "output_type": "stream",
          "name": "stderr",
          "text": [
            "\u001b[34m\u001b[1mwandb\u001b[0m: \u001b[33mWARNING\u001b[0m If you're specifying your api key in code, ensure this code is not shared publicly.\n",
            "\u001b[34m\u001b[1mwandb\u001b[0m: \u001b[33mWARNING\u001b[0m Consider setting the WANDB_API_KEY environment variable, or running `wandb login` from the command line.\n",
            "\u001b[34m\u001b[1mwandb\u001b[0m: No netrc file found, creating one.\n",
            "\u001b[34m\u001b[1mwandb\u001b[0m: Appending key for api.wandb.ai to your netrc file: /root/.netrc\n",
            "\u001b[34m\u001b[1mwandb\u001b[0m: Currently logged in as: \u001b[33mda24s016\u001b[0m (\u001b[33mda24s016-indian-institute-of-technology-madras\u001b[0m) to \u001b[32mhttps://api.wandb.ai\u001b[0m. Use \u001b[1m`wandb login --relogin`\u001b[0m to force relogin\n"
          ]
        },
        {
          "output_type": "stream",
          "name": "stdout",
          "text": [
            "Create sweep with ID: 9mw3okow\n",
            "Sweep URL: https://wandb.ai/da24s016-indian-institute-of-technology-madras/da6401-assignment3_attention/sweeps/9mw3okow\n"
          ]
        },
        {
          "output_type": "stream",
          "name": "stderr",
          "text": [
            "\u001b[34m\u001b[1mwandb\u001b[0m: Agent Starting Run: lzr91j84 with config:\n",
            "\u001b[34m\u001b[1mwandb\u001b[0m: \tbatch_size: 128\n",
            "\u001b[34m\u001b[1mwandb\u001b[0m: \tcell_type: GRU\n",
            "\u001b[34m\u001b[1mwandb\u001b[0m: \tdropout: 0.3\n",
            "\u001b[34m\u001b[1mwandb\u001b[0m: \tembedding_size: 256\n",
            "\u001b[34m\u001b[1mwandb\u001b[0m: \thidden_size: 16\n",
            "\u001b[34m\u001b[1mwandb\u001b[0m: \tlearning_rate: 0.001\n",
            "\u001b[34m\u001b[1mwandb\u001b[0m: \tnum_epochs: 5\n",
            "\u001b[34m\u001b[1mwandb\u001b[0m: \tnum_layers: 3\n"
          ]
        },
        {
          "output_type": "display_data",
          "data": {
            "text/plain": [
              "<IPython.core.display.HTML object>"
            ],
            "text/html": [
              "Ignoring project 'attention-sweep' when running a sweep."
            ]
          },
          "metadata": {}
        },
        {
          "output_type": "display_data",
          "data": {
            "text/plain": [
              "<IPython.core.display.HTML object>"
            ],
            "text/html": [
              "Tracking run with wandb version 0.19.11"
            ]
          },
          "metadata": {}
        },
        {
          "output_type": "display_data",
          "data": {
            "text/plain": [
              "<IPython.core.display.HTML object>"
            ],
            "text/html": [
              "Run data is saved locally in <code>/content/wandb/run-20250519_153257-lzr91j84</code>"
            ]
          },
          "metadata": {}
        },
        {
          "output_type": "display_data",
          "data": {
            "text/plain": [
              "<IPython.core.display.HTML object>"
            ],
            "text/html": [
              "Syncing run <strong><a href='https://wandb.ai/da24s016-indian-institute-of-technology-madras/da6401-assignment3_attention/runs/lzr91j84' target=\"_blank\">dandy-sweep-1</a></strong> to <a href='https://wandb.ai/da24s016-indian-institute-of-technology-madras/da6401-assignment3_attention' target=\"_blank\">Weights & Biases</a> (<a href='https://wandb.me/developer-guide' target=\"_blank\">docs</a>)<br>Sweep page: <a href='https://wandb.ai/da24s016-indian-institute-of-technology-madras/da6401-assignment3_attention/sweeps/9mw3okow' target=\"_blank\">https://wandb.ai/da24s016-indian-institute-of-technology-madras/da6401-assignment3_attention/sweeps/9mw3okow</a>"
            ]
          },
          "metadata": {}
        },
        {
          "output_type": "display_data",
          "data": {
            "text/plain": [
              "<IPython.core.display.HTML object>"
            ],
            "text/html": [
              " View project at <a href='https://wandb.ai/da24s016-indian-institute-of-technology-madras/da6401-assignment3_attention' target=\"_blank\">https://wandb.ai/da24s016-indian-institute-of-technology-madras/da6401-assignment3_attention</a>"
            ]
          },
          "metadata": {}
        },
        {
          "output_type": "display_data",
          "data": {
            "text/plain": [
              "<IPython.core.display.HTML object>"
            ],
            "text/html": [
              " View sweep at <a href='https://wandb.ai/da24s016-indian-institute-of-technology-madras/da6401-assignment3_attention/sweeps/9mw3okow' target=\"_blank\">https://wandb.ai/da24s016-indian-institute-of-technology-madras/da6401-assignment3_attention/sweeps/9mw3okow</a>"
            ]
          },
          "metadata": {}
        },
        {
          "output_type": "display_data",
          "data": {
            "text/plain": [
              "<IPython.core.display.HTML object>"
            ],
            "text/html": [
              " View run at <a href='https://wandb.ai/da24s016-indian-institute-of-technology-madras/da6401-assignment3_attention/runs/lzr91j84' target=\"_blank\">https://wandb.ai/da24s016-indian-institute-of-technology-madras/da6401-assignment3_attention/runs/lzr91j84</a>"
            ]
          },
          "metadata": {}
        },
        {
          "output_type": "stream",
          "name": "stdout",
          "text": [
            "Using device: cuda\n",
            "Prepared 44204 pairs\n",
            "Input vocabulary size: 66\n",
            "Output vocabulary size: 29\n",
            "Prepared 4358 pairs\n",
            "Input vocabulary size: 66\n",
            "Output vocabulary size: 29\n",
            "Prepared 4502 pairs\n",
            "Input vocabulary size: 66\n",
            "Output vocabulary size: 29\n",
            "Epoch: 1/5\n",
            "Train Loss: 2.8128\n",
            "Validation Loss: 2.6593\n",
            "Validation Accuracy: 0.2604\n",
            "-----\n"
          ]
        }
      ]
    },
    {
      "cell_type": "code",
      "source": [],
      "metadata": {
        "id": "udhSOPcILeHz"
      },
      "execution_count": null,
      "outputs": []
    }
  ]
}