{
  "nbformat": 4,
  "nbformat_minor": 0,
  "metadata": {
    "colab": {
      "provenance": [],
      "gpuType": "T4",
      "include_colab_link": true
    },
    "kernelspec": {
      "name": "python3",
      "display_name": "Python 3"
    },
    "language_info": {
      "name": "python"
    },
    "accelerator": "GPU"
  },
  "cells": [
    {
      "cell_type": "markdown",
      "metadata": {
        "id": "view-in-github",
        "colab_type": "text"
      },
      "source": [
        "<a href=\"https://colab.research.google.com/github/aayushmanda/da6401_assignment3/blob/main/asg3.ipynb\" target=\"_parent\"><img src=\"https://colab.research.google.com/assets/colab-badge.svg\" alt=\"Open In Colab\"/></a>"
      ]
    },
    {
      "cell_type": "code",
      "source": [
        "import torch\n",
        "import torch.nn as nn\n",
        "import torch.optim as optim\n",
        "from torch.utils.data import Dataset, DataLoader\n",
        "import numpy as np\n",
        "import os\n",
        "import random\n",
        "import re\n",
        "from prettytable import PrettyTable\n",
        "import matplotlib.pyplot as plt"
      ],
      "metadata": {
        "id": "wfvFlbmoMGP7"
      },
      "execution_count": null,
      "outputs": []
    },
    {
      "cell_type": "code",
      "source": [
        "!wget https://storage.googleapis.com/gresearch/dakshina/dakshina_dataset_v1.0.tar\n",
        "!tar -xvf dakshina_dataset_v1.0.tar\n"
      ],
      "metadata": {
        "colab": {
          "base_uri": "https://localhost:8080/"
        },
        "id": "omPKz-LBNGOu",
        "outputId": "5fd81347-4a99-4add-fe3e-f2650985862c"
      },
      "execution_count": null,
      "outputs": [
        {
          "output_type": "stream",
          "name": "stdout",
          "text": [
            "--2025-05-19 13:55:03--  https://storage.googleapis.com/gresearch/dakshina/dakshina_dataset_v1.0.tar\n",
            "Resolving storage.googleapis.com (storage.googleapis.com)... 74.125.134.207, 74.125.139.207, 173.194.210.207, ...\n",
            "Connecting to storage.googleapis.com (storage.googleapis.com)|74.125.134.207|:443... connected.\n",
            "HTTP request sent, awaiting response... 200 OK\n",
            "Length: 2008340480 (1.9G) [application/x-tar]\n",
            "Saving to: ‘dakshina_dataset_v1.0.tar’\n",
            "\n",
            "dakshina_dataset_v1 100%[===================>]   1.87G  99.7MB/s    in 11s     \n",
            "\n",
            "2025-05-19 13:55:14 (173 MB/s) - ‘dakshina_dataset_v1.0.tar’ saved [2008340480/2008340480]\n",
            "\n",
            "dakshina_dataset_v1.0/bn/\n",
            "dakshina_dataset_v1.0/bn/lexicons/\n",
            "dakshina_dataset_v1.0/bn/lexicons/bn.translit.sampled.test.tsv\n",
            "dakshina_dataset_v1.0/bn/lexicons/bn.translit.sampled.train.tsv\n",
            "dakshina_dataset_v1.0/bn/lexicons/bn.translit.sampled.dev.tsv\n",
            "dakshina_dataset_v1.0/bn/native_script_wikipedia/\n",
            "dakshina_dataset_v1.0/bn/native_script_wikipedia/bn.wiki-filt.valid.text.shuf.txt.gz\n",
            "dakshina_dataset_v1.0/bn/native_script_wikipedia/bn.wiki-full.info.sorted.tsv.gz\n",
            "dakshina_dataset_v1.0/bn/native_script_wikipedia/bn.wiki-filt.train.info.sorted.tsv.gz\n",
            "dakshina_dataset_v1.0/bn/native_script_wikipedia/bn.wiki-filt.train.text.sorted.tsv.gz\n",
            "dakshina_dataset_v1.0/bn/native_script_wikipedia/bn.wiki-filt.train.text.shuf.txt.gz\n",
            "dakshina_dataset_v1.0/bn/native_script_wikipedia/bn.wiki-full.nonblock.sections.tsv.gz\n",
            "dakshina_dataset_v1.0/bn/native_script_wikipedia/bn.wiki-full.omit_pages.txt.gz\n",
            "dakshina_dataset_v1.0/bn/native_script_wikipedia/bn.wiki-full.text.sorted.tsv.gz\n",
            "dakshina_dataset_v1.0/bn/native_script_wikipedia/bn.wiki-full.nonblock.sections.list.txt.gz\n",
            "dakshina_dataset_v1.0/bn/native_script_wikipedia/bn.wiki-full.urls.tsv.gz\n",
            "dakshina_dataset_v1.0/bn/native_script_wikipedia/bn.wiki-filt.valid.text.sorted.tsv.gz\n",
            "dakshina_dataset_v1.0/bn/native_script_wikipedia/bn.wiki-filt.valid.info.sorted.tsv.gz\n",
            "dakshina_dataset_v1.0/bn/romanized/\n",
            "dakshina_dataset_v1.0/bn/romanized/bn.romanized.rejoined.tsv\n",
            "dakshina_dataset_v1.0/bn/romanized/bn.romanized.rejoined.dev.native.txt\n",
            "dakshina_dataset_v1.0/bn/romanized/bn.romanized.split.tsv\n",
            "dakshina_dataset_v1.0/bn/romanized/bn.romanized.rejoined.dev.roman.txt\n",
            "dakshina_dataset_v1.0/bn/romanized/bn.romanized.rejoined.aligned.tsv\n",
            "dakshina_dataset_v1.0/bn/romanized/bn.romanized.split.validation.native.txt\n",
            "dakshina_dataset_v1.0/bn/romanized/bn.romanized.split.validation.edits.txt\n",
            "dakshina_dataset_v1.0/bn/romanized/bn.romanized.rejoined.aligned.cased_nopunct.tsv\n",
            "dakshina_dataset_v1.0/bn/romanized/bn.romanized.rejoined.test.roman.txt\n",
            "dakshina_dataset_v1.0/bn/romanized/bn.romanized.rejoined.test.native.txt\n",
            "dakshina_dataset_v1.0/gu/\n",
            "dakshina_dataset_v1.0/gu/lexicons/\n",
            "dakshina_dataset_v1.0/gu/lexicons/gu.translit.sampled.train.tsv\n",
            "dakshina_dataset_v1.0/gu/lexicons/gu.translit.sampled.test.tsv\n",
            "dakshina_dataset_v1.0/gu/lexicons/gu.translit.sampled.dev.tsv\n",
            "dakshina_dataset_v1.0/gu/native_script_wikipedia/\n",
            "dakshina_dataset_v1.0/gu/native_script_wikipedia/gu.wiki-filt.train.text.shuf.txt.gz\n",
            "dakshina_dataset_v1.0/gu/native_script_wikipedia/gu.wiki-full.nonblock.sections.list.txt.gz\n",
            "dakshina_dataset_v1.0/gu/native_script_wikipedia/gu.wiki-full.info.sorted.tsv.gz\n",
            "dakshina_dataset_v1.0/gu/native_script_wikipedia/gu.wiki-filt.valid.text.shuf.txt.gz\n",
            "dakshina_dataset_v1.0/gu/native_script_wikipedia/gu.wiki-filt.train.text.sorted.tsv.gz\n",
            "dakshina_dataset_v1.0/gu/native_script_wikipedia/gu.wiki-full.text.sorted.tsv.gz\n",
            "dakshina_dataset_v1.0/gu/native_script_wikipedia/gu.wiki-filt.train.info.sorted.tsv.gz\n",
            "dakshina_dataset_v1.0/gu/native_script_wikipedia/gu.wiki-full.nonblock.sections.tsv.gz\n",
            "dakshina_dataset_v1.0/gu/native_script_wikipedia/gu.wiki-full.omit_pages.txt.gz\n",
            "dakshina_dataset_v1.0/gu/native_script_wikipedia/gu.wiki-full.urls.tsv.gz\n",
            "dakshina_dataset_v1.0/gu/native_script_wikipedia/gu.wiki-filt.valid.text.sorted.tsv.gz\n",
            "dakshina_dataset_v1.0/gu/native_script_wikipedia/gu.wiki-filt.valid.info.sorted.tsv.gz\n",
            "dakshina_dataset_v1.0/gu/romanized/\n",
            "dakshina_dataset_v1.0/gu/romanized/gu.romanized.split.validation.edits.txt\n",
            "dakshina_dataset_v1.0/gu/romanized/gu.romanized.split.tsv\n",
            "dakshina_dataset_v1.0/gu/romanized/gu.romanized.rejoined.aligned.cased_nopunct.tsv\n",
            "dakshina_dataset_v1.0/gu/romanized/gu.romanized.rejoined.dev.roman.txt\n",
            "dakshina_dataset_v1.0/gu/romanized/gu.romanized.rejoined.aligned.tsv\n",
            "dakshina_dataset_v1.0/gu/romanized/gu.romanized.rejoined.test.native.txt\n",
            "dakshina_dataset_v1.0/gu/romanized/gu.romanized.rejoined.tsv\n",
            "dakshina_dataset_v1.0/gu/romanized/gu.romanized.rejoined.dev.native.txt\n",
            "dakshina_dataset_v1.0/gu/romanized/gu.romanized.rejoined.test.roman.txt\n",
            "dakshina_dataset_v1.0/gu/romanized/gu.romanized.split.validation.native.txt\n",
            "dakshina_dataset_v1.0/hi/\n",
            "dakshina_dataset_v1.0/hi/lexicons/\n",
            "dakshina_dataset_v1.0/hi/lexicons/hi.translit.sampled.dev.tsv\n",
            "dakshina_dataset_v1.0/hi/lexicons/hi.translit.sampled.train.tsv\n",
            "dakshina_dataset_v1.0/hi/lexicons/hi.translit.sampled.test.tsv\n",
            "dakshina_dataset_v1.0/hi/native_script_wikipedia/\n",
            "dakshina_dataset_v1.0/hi/native_script_wikipedia/hi.wiki-full.info.sorted.tsv.gz\n",
            "dakshina_dataset_v1.0/hi/native_script_wikipedia/hi.wiki-filt.valid.text.sorted.tsv.gz\n",
            "dakshina_dataset_v1.0/hi/native_script_wikipedia/hi.wiki-filt.train.text.sorted.tsv.gz\n",
            "dakshina_dataset_v1.0/hi/native_script_wikipedia/hi.wiki-full.urls.tsv.gz\n",
            "dakshina_dataset_v1.0/hi/native_script_wikipedia/hi.wiki-filt.valid.info.sorted.tsv.gz\n",
            "dakshina_dataset_v1.0/hi/native_script_wikipedia/hi.wiki-full.text.sorted.tsv.gz\n",
            "dakshina_dataset_v1.0/hi/native_script_wikipedia/hi.wiki-full.omit_pages.txt.gz\n",
            "dakshina_dataset_v1.0/hi/native_script_wikipedia/hi.wiki-filt.valid.text.shuf.txt.gz\n",
            "dakshina_dataset_v1.0/hi/native_script_wikipedia/hi.wiki-full.nonblock.sections.list.txt.gz\n",
            "dakshina_dataset_v1.0/hi/native_script_wikipedia/hi.wiki-filt.train.info.sorted.tsv.gz\n",
            "dakshina_dataset_v1.0/hi/native_script_wikipedia/hi.wiki-full.nonblock.sections.tsv.gz\n",
            "dakshina_dataset_v1.0/hi/native_script_wikipedia/hi.wiki-filt.train.text.shuf.txt.gz\n",
            "dakshina_dataset_v1.0/hi/romanized/\n",
            "dakshina_dataset_v1.0/hi/romanized/hi.romanized.rejoined.aligned.tsv\n",
            "dakshina_dataset_v1.0/hi/romanized/hi.romanized.split.validation.native.txt\n",
            "dakshina_dataset_v1.0/hi/romanized/hi.romanized.rejoined.tsv\n",
            "dakshina_dataset_v1.0/hi/romanized/hi.romanized.rejoined.dev.roman.txt\n",
            "dakshina_dataset_v1.0/hi/romanized/hi.romanized.rejoined.dev.native.txt\n",
            "dakshina_dataset_v1.0/hi/romanized/hi.romanized.rejoined.test.native.txt\n",
            "dakshina_dataset_v1.0/hi/romanized/hi.romanized.split.validation.edits.txt\n",
            "dakshina_dataset_v1.0/hi/romanized/hi.romanized.rejoined.test.roman.txt\n",
            "dakshina_dataset_v1.0/hi/romanized/hi.romanized.split.tsv\n",
            "dakshina_dataset_v1.0/hi/romanized/hi.romanized.rejoined.aligned.cased_nopunct.tsv\n",
            "dakshina_dataset_v1.0/kn/\n",
            "dakshina_dataset_v1.0/kn/lexicons/\n",
            "dakshina_dataset_v1.0/kn/lexicons/kn.translit.sampled.train.tsv\n",
            "dakshina_dataset_v1.0/kn/lexicons/kn.translit.sampled.dev.tsv\n",
            "dakshina_dataset_v1.0/kn/lexicons/kn.translit.sampled.test.tsv\n",
            "dakshina_dataset_v1.0/kn/native_script_wikipedia/\n",
            "dakshina_dataset_v1.0/kn/native_script_wikipedia/kn.wiki-full.text.sorted.tsv.gz\n",
            "dakshina_dataset_v1.0/kn/native_script_wikipedia/kn.wiki-filt.valid.text.shuf.txt.gz\n",
            "dakshina_dataset_v1.0/kn/native_script_wikipedia/kn.wiki-filt.valid.info.sorted.tsv.gz\n",
            "dakshina_dataset_v1.0/kn/native_script_wikipedia/kn.wiki-filt.train.text.shuf.txt.gz\n",
            "dakshina_dataset_v1.0/kn/native_script_wikipedia/kn.wiki-full.info.sorted.tsv.gz\n",
            "dakshina_dataset_v1.0/kn/native_script_wikipedia/kn.wiki-full.nonblock.sections.list.txt.gz\n",
            "dakshina_dataset_v1.0/kn/native_script_wikipedia/kn.wiki-full.urls.tsv.gz\n",
            "dakshina_dataset_v1.0/kn/native_script_wikipedia/kn.wiki-full.nonblock.sections.tsv.gz\n",
            "dakshina_dataset_v1.0/kn/native_script_wikipedia/kn.wiki-filt.valid.text.sorted.tsv.gz\n",
            "dakshina_dataset_v1.0/kn/native_script_wikipedia/kn.wiki-filt.train.text.sorted.tsv.gz\n",
            "dakshina_dataset_v1.0/kn/native_script_wikipedia/kn.wiki-filt.train.info.sorted.tsv.gz\n",
            "dakshina_dataset_v1.0/kn/native_script_wikipedia/kn.wiki-full.omit_pages.txt.gz\n",
            "dakshina_dataset_v1.0/kn/romanized/\n",
            "dakshina_dataset_v1.0/kn/romanized/kn.romanized.split.validation.edits.txt\n",
            "dakshina_dataset_v1.0/kn/romanized/kn.romanized.rejoined.dev.native.txt\n",
            "dakshina_dataset_v1.0/kn/romanized/kn.romanized.rejoined.test.roman.txt\n",
            "dakshina_dataset_v1.0/kn/romanized/kn.romanized.split.validation.native.txt\n",
            "dakshina_dataset_v1.0/kn/romanized/kn.romanized.rejoined.tsv\n",
            "dakshina_dataset_v1.0/kn/romanized/kn.romanized.rejoined.test.native.txt\n",
            "dakshina_dataset_v1.0/kn/romanized/kn.romanized.rejoined.dev.roman.txt\n",
            "dakshina_dataset_v1.0/kn/romanized/kn.romanized.rejoined.aligned.cased_nopunct.tsv\n",
            "dakshina_dataset_v1.0/kn/romanized/kn.romanized.split.tsv\n",
            "dakshina_dataset_v1.0/kn/romanized/kn.romanized.rejoined.aligned.tsv\n",
            "dakshina_dataset_v1.0/ml/\n",
            "dakshina_dataset_v1.0/ml/lexicons/\n",
            "dakshina_dataset_v1.0/ml/lexicons/ml.translit.sampled.train.tsv\n",
            "dakshina_dataset_v1.0/ml/lexicons/tmp.rom.txt\n",
            "dakshina_dataset_v1.0/ml/lexicons/tmp.tsv\n",
            "dakshina_dataset_v1.0/ml/lexicons/ml.translit.sampled.dev.tsv\n",
            "dakshina_dataset_v1.0/ml/lexicons/ml.translit.sampled.test.tsv\n",
            "dakshina_dataset_v1.0/ml/native_script_wikipedia/\n",
            "dakshina_dataset_v1.0/ml/native_script_wikipedia/ml.wiki-full.omit_pages.txt.gz\n",
            "dakshina_dataset_v1.0/ml/native_script_wikipedia/ml.wiki-filt.valid.info.sorted.tsv.gz\n",
            "dakshina_dataset_v1.0/ml/native_script_wikipedia/ml.wiki-full.info.sorted.tsv.gz\n",
            "dakshina_dataset_v1.0/ml/native_script_wikipedia/ml.wiki-filt.train.text.shuf.txt.gz\n",
            "dakshina_dataset_v1.0/ml/native_script_wikipedia/ml.wiki-full.text.sorted.tsv.gz\n",
            "dakshina_dataset_v1.0/ml/native_script_wikipedia/ml.wiki-filt.valid.text.sorted.tsv.gz\n",
            "dakshina_dataset_v1.0/ml/native_script_wikipedia/ml.wiki-full.nonblock.sections.list.txt.gz\n",
            "dakshina_dataset_v1.0/ml/native_script_wikipedia/ml.wiki-full.nonblock.sections.tsv.gz\n",
            "dakshina_dataset_v1.0/ml/native_script_wikipedia/ml.wiki-filt.train.text.sorted.tsv.gz\n",
            "dakshina_dataset_v1.0/ml/native_script_wikipedia/ml.wiki-full.urls.tsv.gz\n",
            "dakshina_dataset_v1.0/ml/native_script_wikipedia/ml.wiki-filt.valid.text.shuf.txt.gz\n",
            "dakshina_dataset_v1.0/ml/native_script_wikipedia/ml.wiki-filt.train.info.sorted.tsv.gz\n",
            "dakshina_dataset_v1.0/ml/romanized/\n",
            "dakshina_dataset_v1.0/ml/romanized/ml.romanized.rejoined.tsv\n",
            "dakshina_dataset_v1.0/ml/romanized/ml.romanized.rejoined.test.roman.txt\n",
            "dakshina_dataset_v1.0/ml/romanized/ml.romanized.split.validation.edits.txt\n",
            "dakshina_dataset_v1.0/ml/romanized/ml.romanized.rejoined.dev.roman.txt\n",
            "dakshina_dataset_v1.0/ml/romanized/ml.romanized.rejoined.test.native.txt\n",
            "dakshina_dataset_v1.0/ml/romanized/ml.romanized.rejoined.dev.native.txt\n",
            "dakshina_dataset_v1.0/ml/romanized/ml.romanized.rejoined.aligned.cased_nopunct.tsv\n",
            "dakshina_dataset_v1.0/ml/romanized/ml.romanized.split.tsv\n",
            "dakshina_dataset_v1.0/ml/romanized/ml.romanized.rejoined.aligned.tsv\n",
            "dakshina_dataset_v1.0/ml/romanized/ml.romanized.split.validation.native.txt\n",
            "dakshina_dataset_v1.0/mr/\n",
            "dakshina_dataset_v1.0/mr/lexicons/\n",
            "dakshina_dataset_v1.0/mr/lexicons/mr.translit.sampled.test.tsv\n",
            "dakshina_dataset_v1.0/mr/lexicons/mr.translit.sampled.train.tsv\n",
            "dakshina_dataset_v1.0/mr/lexicons/mr.translit.sampled.dev.tsv\n",
            "dakshina_dataset_v1.0/mr/native_script_wikipedia/\n",
            "dakshina_dataset_v1.0/mr/native_script_wikipedia/mr.wiki-full.omit_pages.txt.gz\n",
            "dakshina_dataset_v1.0/mr/native_script_wikipedia/mr.wiki-filt.train.text.sorted.tsv.gz\n",
            "dakshina_dataset_v1.0/mr/native_script_wikipedia/mr.wiki-full.nonblock.sections.list.txt.gz\n",
            "dakshina_dataset_v1.0/mr/native_script_wikipedia/mr.wiki-full.text.sorted.tsv.gz\n",
            "dakshina_dataset_v1.0/mr/native_script_wikipedia/mr.wiki-filt.valid.info.sorted.tsv.gz\n",
            "dakshina_dataset_v1.0/mr/native_script_wikipedia/mr.wiki-filt.train.text.shuf.txt.gz\n",
            "dakshina_dataset_v1.0/mr/native_script_wikipedia/mr.wiki-full.info.sorted.tsv.gz\n",
            "dakshina_dataset_v1.0/mr/native_script_wikipedia/mr.wiki-filt.valid.text.shuf.txt.gz\n",
            "dakshina_dataset_v1.0/mr/native_script_wikipedia/mr.wiki-full.urls.tsv.gz\n",
            "dakshina_dataset_v1.0/mr/native_script_wikipedia/mr.wiki-filt.valid.text.sorted.tsv.gz\n",
            "dakshina_dataset_v1.0/mr/native_script_wikipedia/mr.wiki-filt.train.info.sorted.tsv.gz\n",
            "dakshina_dataset_v1.0/mr/native_script_wikipedia/mr.wiki-full.nonblock.sections.tsv.gz\n",
            "dakshina_dataset_v1.0/mr/romanized/\n",
            "dakshina_dataset_v1.0/mr/romanized/mr.romanized.split.tsv\n",
            "dakshina_dataset_v1.0/mr/romanized/mr.romanized.rejoined.dev.roman.txt\n",
            "dakshina_dataset_v1.0/mr/romanized/mr.romanized.split.validation.native.txt\n",
            "dakshina_dataset_v1.0/mr/romanized/mr.romanized.rejoined.test.roman.txt\n",
            "dakshina_dataset_v1.0/mr/romanized/mr.romanized.rejoined.test.native.txt\n",
            "dakshina_dataset_v1.0/mr/romanized/mr.romanized.rejoined.dev.native.txt\n",
            "dakshina_dataset_v1.0/mr/romanized/mr.romanized.rejoined.tsv\n",
            "dakshina_dataset_v1.0/mr/romanized/mr.romanized.rejoined.aligned.tsv\n",
            "dakshina_dataset_v1.0/mr/romanized/mr.romanized.split.validation.edits.txt\n",
            "dakshina_dataset_v1.0/mr/romanized/mr.romanized.rejoined.aligned.cased_nopunct.tsv\n",
            "dakshina_dataset_v1.0/pa/\n",
            "dakshina_dataset_v1.0/pa/lexicons/\n",
            "dakshina_dataset_v1.0/pa/lexicons/pa.translit.sampled.dev.tsv\n",
            "dakshina_dataset_v1.0/pa/lexicons/pa.translit.sampled.test.tsv\n",
            "dakshina_dataset_v1.0/pa/lexicons/pa.translit.sampled.train.tsv\n",
            "dakshina_dataset_v1.0/pa/native_script_wikipedia/\n",
            "dakshina_dataset_v1.0/pa/native_script_wikipedia/pa.wiki-full.omit_pages.txt.gz\n",
            "dakshina_dataset_v1.0/pa/native_script_wikipedia/pa.wiki-full.text.sorted.tsv.gz\n",
            "dakshina_dataset_v1.0/pa/native_script_wikipedia/pa.wiki-filt.train.text.shuf.txt.gz\n",
            "dakshina_dataset_v1.0/pa/native_script_wikipedia/pa.wiki-filt.train.text.sorted.tsv.gz\n",
            "dakshina_dataset_v1.0/pa/native_script_wikipedia/pa.wiki-full.urls.tsv.gz\n",
            "dakshina_dataset_v1.0/pa/native_script_wikipedia/pa.wiki-full.info.sorted.tsv.gz\n",
            "dakshina_dataset_v1.0/pa/native_script_wikipedia/pa.wiki-filt.valid.info.sorted.tsv.gz\n",
            "dakshina_dataset_v1.0/pa/native_script_wikipedia/pa.wiki-filt.train.info.sorted.tsv.gz\n",
            "dakshina_dataset_v1.0/pa/native_script_wikipedia/pa.wiki-full.nonblock.sections.tsv.gz\n",
            "dakshina_dataset_v1.0/pa/native_script_wikipedia/pa.wiki-filt.valid.text.sorted.tsv.gz\n",
            "dakshina_dataset_v1.0/pa/native_script_wikipedia/pa.wiki-filt.valid.text.shuf.txt.gz\n",
            "dakshina_dataset_v1.0/pa/native_script_wikipedia/pa.wiki-full.nonblock.sections.list.txt.gz\n",
            "dakshina_dataset_v1.0/pa/romanized/\n",
            "dakshina_dataset_v1.0/pa/romanized/pa.romanized.rejoined.aligned.tsv\n",
            "dakshina_dataset_v1.0/pa/romanized/pa.romanized.rejoined.dev.roman.txt\n",
            "dakshina_dataset_v1.0/pa/romanized/pa.romanized.rejoined.test.roman.txt\n",
            "dakshina_dataset_v1.0/pa/romanized/pa.romanized.split.tsv\n",
            "dakshina_dataset_v1.0/pa/romanized/pa.romanized.rejoined.dev.native.txt\n",
            "dakshina_dataset_v1.0/pa/romanized/pa.romanized.split.validation.native.txt\n",
            "dakshina_dataset_v1.0/pa/romanized/pa.romanized.rejoined.aligned.cased_nopunct.tsv\n",
            "dakshina_dataset_v1.0/pa/romanized/pa.romanized.rejoined.tsv\n",
            "dakshina_dataset_v1.0/pa/romanized/pa.romanized.split.validation.edits.txt\n",
            "dakshina_dataset_v1.0/pa/romanized/pa.romanized.rejoined.test.native.txt\n",
            "dakshina_dataset_v1.0/sd/\n",
            "dakshina_dataset_v1.0/sd/lexicons/\n",
            "dakshina_dataset_v1.0/sd/lexicons/sd.translit.sampled.train.tsv\n",
            "dakshina_dataset_v1.0/sd/lexicons/sd.translit.sampled.test.tsv\n",
            "dakshina_dataset_v1.0/sd/lexicons/sd.translit.sampled.dev.tsv\n",
            "dakshina_dataset_v1.0/sd/native_script_wikipedia/\n",
            "dakshina_dataset_v1.0/sd/native_script_wikipedia/sd.wiki-full.nonblock.sections.tsv.gz\n",
            "dakshina_dataset_v1.0/sd/native_script_wikipedia/sd.wiki-filt.valid.text.shuf.txt.gz\n",
            "dakshina_dataset_v1.0/sd/native_script_wikipedia/sd.wiki-full.omit_pages.txt.gz\n",
            "dakshina_dataset_v1.0/sd/native_script_wikipedia/sd.wiki-filt.train.info.sorted.tsv.gz\n",
            "dakshina_dataset_v1.0/sd/native_script_wikipedia/sd.wiki-full.urls.tsv.gz\n",
            "dakshina_dataset_v1.0/sd/native_script_wikipedia/sd.wiki-filt.valid.info.sorted.tsv.gz\n",
            "dakshina_dataset_v1.0/sd/native_script_wikipedia/sd.wiki-filt.train.text.sorted.tsv.gz\n",
            "dakshina_dataset_v1.0/sd/native_script_wikipedia/sd.wiki-full.text.sorted.tsv.gz\n",
            "dakshina_dataset_v1.0/sd/native_script_wikipedia/sd.wiki-filt.train.text.shuf.txt.gz\n",
            "dakshina_dataset_v1.0/sd/native_script_wikipedia/sd.wiki-filt.valid.text.sorted.tsv.gz\n",
            "dakshina_dataset_v1.0/sd/native_script_wikipedia/sd.wiki-full.info.sorted.tsv.gz\n",
            "dakshina_dataset_v1.0/sd/native_script_wikipedia/sd.wiki-full.nonblock.sections.list.txt.gz\n",
            "dakshina_dataset_v1.0/sd/romanized/\n",
            "dakshina_dataset_v1.0/sd/romanized/sd.romanized.rejoined.dev.roman.txt\n",
            "dakshina_dataset_v1.0/sd/romanized/sd.romanized.split.tsv\n",
            "dakshina_dataset_v1.0/sd/romanized/sd.romanized.split.validation.native.txt\n",
            "dakshina_dataset_v1.0/sd/romanized/sd.romanized.rejoined.dev.native.txt\n",
            "dakshina_dataset_v1.0/sd/romanized/sd.romanized.rejoined.aligned.cased_nopunct.tsv\n",
            "dakshina_dataset_v1.0/sd/romanized/sd.romanized.rejoined.test.native.txt\n",
            "dakshina_dataset_v1.0/sd/romanized/sd.romanized.split.validation.edits.txt\n",
            "dakshina_dataset_v1.0/sd/romanized/sd.romanized.rejoined.aligned.tsv\n",
            "dakshina_dataset_v1.0/sd/romanized/sd.romanized.rejoined.test.roman.txt\n",
            "dakshina_dataset_v1.0/sd/romanized/sd.romanized.rejoined.tsv\n",
            "dakshina_dataset_v1.0/si/\n",
            "dakshina_dataset_v1.0/si/lexicons/\n",
            "dakshina_dataset_v1.0/si/lexicons/si.translit.sampled.test.tsv\n",
            "dakshina_dataset_v1.0/si/lexicons/si.translit.sampled.train.tsv\n",
            "dakshina_dataset_v1.0/si/lexicons/si.translit.sampled.dev.tsv\n",
            "dakshina_dataset_v1.0/si/native_script_wikipedia/\n",
            "dakshina_dataset_v1.0/si/native_script_wikipedia/si.wiki-full.urls.tsv.gz\n",
            "dakshina_dataset_v1.0/si/native_script_wikipedia/si.wiki-full.text.sorted.tsv.gz\n",
            "dakshina_dataset_v1.0/si/native_script_wikipedia/si.wiki-filt.train.info.sorted.tsv.gz\n",
            "dakshina_dataset_v1.0/si/native_script_wikipedia/si.wiki-full.omit_pages.txt.gz\n",
            "dakshina_dataset_v1.0/si/native_script_wikipedia/si.wiki-filt.train.text.shuf.txt.gz\n",
            "dakshina_dataset_v1.0/si/native_script_wikipedia/si.wiki-full.nonblock.sections.list.txt.gz\n",
            "dakshina_dataset_v1.0/si/native_script_wikipedia/si.wiki-filt.valid.info.sorted.tsv.gz\n",
            "dakshina_dataset_v1.0/si/native_script_wikipedia/si.wiki-full.nonblock.sections.tsv.gz\n",
            "dakshina_dataset_v1.0/si/native_script_wikipedia/si.wiki-filt.valid.text.shuf.txt.gz\n",
            "dakshina_dataset_v1.0/si/native_script_wikipedia/si.wiki-full.info.sorted.tsv.gz\n",
            "dakshina_dataset_v1.0/si/native_script_wikipedia/si.wiki-filt.train.text.sorted.tsv.gz\n",
            "dakshina_dataset_v1.0/si/native_script_wikipedia/si.wiki-filt.valid.text.sorted.tsv.gz\n",
            "dakshina_dataset_v1.0/si/romanized/\n",
            "dakshina_dataset_v1.0/si/romanized/si.romanized.split.tsv\n",
            "dakshina_dataset_v1.0/si/romanized/si.romanized.rejoined.test.native.txt\n",
            "dakshina_dataset_v1.0/si/romanized/si.romanized.rejoined.aligned.tsv\n",
            "dakshina_dataset_v1.0/si/romanized/si.romanized.rejoined.dev.native.txt\n",
            "dakshina_dataset_v1.0/si/romanized/si.romanized.rejoined.dev.roman.txt\n",
            "dakshina_dataset_v1.0/si/romanized/si.romanized.rejoined.test.roman.txt\n",
            "dakshina_dataset_v1.0/si/romanized/si.romanized.rejoined.aligned.cased_nopunct.tsv\n",
            "dakshina_dataset_v1.0/si/romanized/si.romanized.split.validation.edits.txt\n",
            "dakshina_dataset_v1.0/si/romanized/si.romanized.rejoined.tsv\n",
            "dakshina_dataset_v1.0/si/romanized/si.romanized.split.validation.native.txt\n",
            "dakshina_dataset_v1.0/ta/\n",
            "dakshina_dataset_v1.0/ta/lexicons/\n",
            "dakshina_dataset_v1.0/ta/lexicons/ta.translit.sampled.train.tsv\n",
            "dakshina_dataset_v1.0/ta/lexicons/ta.translit.sampled.dev.tsv\n",
            "dakshina_dataset_v1.0/ta/lexicons/ta.translit.sampled.test.tsv\n",
            "dakshina_dataset_v1.0/ta/native_script_wikipedia/\n",
            "dakshina_dataset_v1.0/ta/native_script_wikipedia/ta.wiki-filt.valid.text.shuf.txt.gz\n",
            "dakshina_dataset_v1.0/ta/native_script_wikipedia/ta.wiki-full.nonblock.sections.list.txt.gz\n",
            "dakshina_dataset_v1.0/ta/native_script_wikipedia/ta.wiki-filt.train.text.sorted.tsv.gz\n",
            "dakshina_dataset_v1.0/ta/native_script_wikipedia/ta.wiki-full.nonblock.sections.tsv.gz\n",
            "dakshina_dataset_v1.0/ta/native_script_wikipedia/ta.wiki-filt.valid.info.sorted.tsv.gz\n",
            "dakshina_dataset_v1.0/ta/native_script_wikipedia/ta.wiki-full.text.sorted.tsv.gz\n",
            "dakshina_dataset_v1.0/ta/native_script_wikipedia/ta.wiki-full.urls.tsv.gz\n",
            "dakshina_dataset_v1.0/ta/native_script_wikipedia/ta.wiki-filt.train.text.shuf.txt.gz\n",
            "dakshina_dataset_v1.0/ta/native_script_wikipedia/ta.wiki-filt.valid.text.sorted.tsv.gz\n",
            "dakshina_dataset_v1.0/ta/native_script_wikipedia/ta.wiki-full.info.sorted.tsv.gz\n",
            "dakshina_dataset_v1.0/ta/native_script_wikipedia/ta.wiki-full.omit_pages.txt.gz\n",
            "dakshina_dataset_v1.0/ta/native_script_wikipedia/ta.wiki-filt.train.info.sorted.tsv.gz\n",
            "dakshina_dataset_v1.0/ta/romanized/\n",
            "dakshina_dataset_v1.0/ta/romanized/ta.romanized.rejoined.aligned.tsv\n",
            "dakshina_dataset_v1.0/ta/romanized/ta.romanized.rejoined.dev.roman.txt\n",
            "dakshina_dataset_v1.0/ta/romanized/ta.romanized.rejoined.aligned.cased_nopunct.tsv\n",
            "dakshina_dataset_v1.0/ta/romanized/ta.romanized.rejoined.tsv\n",
            "dakshina_dataset_v1.0/ta/romanized/ta.romanized.split.validation.native.txt\n",
            "dakshina_dataset_v1.0/ta/romanized/ta.romanized.rejoined.test.roman.txt\n",
            "dakshina_dataset_v1.0/ta/romanized/ta.romanized.split.tsv\n",
            "dakshina_dataset_v1.0/ta/romanized/ta.romanized.rejoined.dev.native.txt\n",
            "dakshina_dataset_v1.0/ta/romanized/ta.romanized.split.validation.edits.txt\n",
            "dakshina_dataset_v1.0/ta/romanized/ta.romanized.rejoined.test.native.txt\n",
            "dakshina_dataset_v1.0/te/\n",
            "dakshina_dataset_v1.0/te/lexicons/\n",
            "dakshina_dataset_v1.0/te/lexicons/te.translit.sampled.dev.tsv\n",
            "dakshina_dataset_v1.0/te/lexicons/te.translit.sampled.test.tsv\n",
            "dakshina_dataset_v1.0/te/lexicons/te.translit.sampled.train.tsv\n",
            "dakshina_dataset_v1.0/te/native_script_wikipedia/\n",
            "dakshina_dataset_v1.0/te/native_script_wikipedia/te.wiki-full.info.sorted.tsv.gz\n",
            "dakshina_dataset_v1.0/te/native_script_wikipedia/te.wiki-filt.valid.info.sorted.tsv.gz\n",
            "dakshina_dataset_v1.0/te/native_script_wikipedia/te.wiki-full.text.sorted.tsv.gz\n",
            "dakshina_dataset_v1.0/te/native_script_wikipedia/te.wiki-filt.train.text.shuf.txt.gz\n",
            "dakshina_dataset_v1.0/te/native_script_wikipedia/te.wiki-filt.valid.text.shuf.txt.gz\n",
            "dakshina_dataset_v1.0/te/native_script_wikipedia/te.wiki-filt.train.text.sorted.tsv.gz\n",
            "dakshina_dataset_v1.0/te/native_script_wikipedia/te.wiki-full.omit_pages.txt.gz\n",
            "dakshina_dataset_v1.0/te/native_script_wikipedia/te.wiki-full.urls.tsv.gz\n",
            "dakshina_dataset_v1.0/te/native_script_wikipedia/te.wiki-full.nonblock.sections.tsv.gz\n",
            "dakshina_dataset_v1.0/te/native_script_wikipedia/te.wiki-full.nonblock.sections.list.txt.gz\n",
            "dakshina_dataset_v1.0/te/native_script_wikipedia/te.wiki-filt.train.info.sorted.tsv.gz\n",
            "dakshina_dataset_v1.0/te/native_script_wikipedia/te.wiki-filt.valid.text.sorted.tsv.gz\n",
            "dakshina_dataset_v1.0/te/romanized/\n",
            "dakshina_dataset_v1.0/te/romanized/te.romanized.rejoined.tsv\n",
            "dakshina_dataset_v1.0/te/romanized/te.romanized.rejoined.aligned.cased_nopunct.tsv\n",
            "dakshina_dataset_v1.0/te/romanized/te.romanized.rejoined.dev.roman.txt\n",
            "dakshina_dataset_v1.0/te/romanized/te.romanized.rejoined.dev.native.txt\n",
            "dakshina_dataset_v1.0/te/romanized/te.romanized.split.validation.native.txt\n",
            "dakshina_dataset_v1.0/te/romanized/te.romanized.rejoined.test.native.txt\n",
            "dakshina_dataset_v1.0/te/romanized/te.romanized.split.validation.edits.txt\n",
            "dakshina_dataset_v1.0/te/romanized/te.romanized.rejoined.aligned.tsv\n",
            "dakshina_dataset_v1.0/te/romanized/te.romanized.split.tsv\n",
            "dakshina_dataset_v1.0/te/romanized/te.romanized.rejoined.test.roman.txt\n",
            "dakshina_dataset_v1.0/ur/\n",
            "dakshina_dataset_v1.0/ur/lexicons/\n",
            "dakshina_dataset_v1.0/ur/lexicons/ur.translit.sampled.train.tsv\n",
            "dakshina_dataset_v1.0/ur/lexicons/ur.translit.sampled.test.tsv\n",
            "dakshina_dataset_v1.0/ur/lexicons/ur.translit.sampled.dev.tsv\n",
            "dakshina_dataset_v1.0/ur/native_script_wikipedia/\n",
            "dakshina_dataset_v1.0/ur/native_script_wikipedia/ur.wiki-filt.valid.text.sorted.tsv.gz\n",
            "dakshina_dataset_v1.0/ur/native_script_wikipedia/ur.wiki-full.nonblock.sections.tsv.gz\n",
            "dakshina_dataset_v1.0/ur/native_script_wikipedia/ur.wiki-full.info.sorted.tsv.gz\n",
            "dakshina_dataset_v1.0/ur/native_script_wikipedia/ur.wiki-full.text.sorted.tsv.gz\n",
            "dakshina_dataset_v1.0/ur/native_script_wikipedia/ur.wiki-full.omit_pages.txt.gz\n",
            "dakshina_dataset_v1.0/ur/native_script_wikipedia/ur.wiki-filt.train.text.sorted.tsv.gz\n",
            "dakshina_dataset_v1.0/ur/native_script_wikipedia/ur.wiki-full.urls.tsv.gz\n",
            "dakshina_dataset_v1.0/ur/native_script_wikipedia/ur.wiki-filt.train.text.shuf.txt.gz\n",
            "dakshina_dataset_v1.0/ur/native_script_wikipedia/ur.wiki-full.nonblock.sections.list.txt.gz\n",
            "dakshina_dataset_v1.0/ur/native_script_wikipedia/ur.wiki-filt.valid.info.sorted.tsv.gz\n",
            "dakshina_dataset_v1.0/ur/native_script_wikipedia/ur.wiki-filt.valid.text.shuf.txt.gz\n",
            "dakshina_dataset_v1.0/ur/native_script_wikipedia/ur.wiki-filt.train.info.sorted.tsv.gz\n",
            "dakshina_dataset_v1.0/ur/romanized/\n",
            "dakshina_dataset_v1.0/ur/romanized/ur.romanized.rejoined.tsv\n",
            "dakshina_dataset_v1.0/ur/romanized/ur.romanized.rejoined.dev.roman.txt\n",
            "dakshina_dataset_v1.0/ur/romanized/ur.romanized.split.validation.native.txt\n",
            "dakshina_dataset_v1.0/ur/romanized/ur.romanized.rejoined.aligned.cased_nopunct.tsv\n",
            "dakshina_dataset_v1.0/ur/romanized/ur.romanized.rejoined.dev.native.txt\n",
            "dakshina_dataset_v1.0/ur/romanized/ur.romanized.rejoined.test.native.txt\n",
            "dakshina_dataset_v1.0/ur/romanized/ur.romanized.split.validation.edits.txt\n",
            "dakshina_dataset_v1.0/ur/romanized/ur.romanized.rejoined.aligned.tsv\n",
            "dakshina_dataset_v1.0/ur/romanized/ur.romanized.split.tsv\n",
            "dakshina_dataset_v1.0/ur/romanized/ur.romanized.rejoined.test.roman.txt\n",
            "dakshina_dataset_v1.0/README.md\n"
          ]
        }
      ]
    },
    {
      "cell_type": "code",
      "execution_count": null,
      "metadata": {
        "id": "CEL4EVkEMCa7"
      },
      "outputs": [],
      "source": [
        "# Define a dataset class for transliteration data\n",
        "class TransliterationDataset(Dataset):\n",
        "    def __init__(self, data_path, input_lang, target_lang, max_len=50):\n",
        "        \"\"\"\n",
        "        Args:\n",
        "            data_path: Path to the data file with pairs of words\n",
        "            input_lang: The input language/script processor object\n",
        "            target_lang: The target language/script processor object\n",
        "            max_len: Maximum sequence length\n",
        "        \"\"\"\n",
        "        self.input_lang = input_lang\n",
        "        self.target_lang = target_lang\n",
        "        self.max_len = max_len\n",
        "        self.pairs = []\n",
        "\n",
        "        # Load data\n",
        "        with open(data_path, 'r', encoding='utf-8') as f:\n",
        "            for line in f:\n",
        "                parts = line.strip().split('\\t')\n",
        "                if len(parts) >= 2:\n",
        "                    # Format may vary depending on dataset\n",
        "                    latin, native = parts[0], parts[1]\n",
        "                    if latin and native and len(latin) <= max_len and len(native) <= max_len:\n",
        "                        self.pairs.append((latin, native))\n",
        "\n",
        "    def __len__(self):\n",
        "        return len(self.pairs)\n",
        "\n",
        "    def __getitem__(self, idx):\n",
        "        latin_word, native_word = self.pairs[idx]\n",
        "\n",
        "        # Convert characters to indices\n",
        "        input_tensor = self.input_lang.word_to_tensor(latin_word, self.max_len)\n",
        "        target_tensor = self.target_lang.word_to_tensor(native_word, self.max_len)\n",
        "\n",
        "        return input_tensor, target_tensor\n",
        "\n",
        "\n"
      ]
    },
    {
      "cell_type": "code",
      "source": [
        "\n",
        "# Language class to handle character-level processing\n",
        "class Lang:\n",
        "    def __init__(self, name):\n",
        "        self.name = name\n",
        "        self.char2index = {\"PAD\": 0, \"SOS\": 1, \"EOS\": 2}\n",
        "        self.char2count = {}\n",
        "        self.index2char = {0: \"PAD\", 1: \"SOS\", 2: \"EOS\"}\n",
        "        self.n_chars = 3  # Count PAD, SOS and EOS\n",
        "\n",
        "    def add_word(self, word):\n",
        "        for char in word:\n",
        "            self.add_char(char)\n",
        "\n",
        "    def add_char(self, char):\n",
        "        if char not in self.char2index:\n",
        "            self.char2index[char] = self.n_chars\n",
        "            self.char2count[char] = 1\n",
        "            self.index2char[self.n_chars] = char\n",
        "            self.n_chars += 1\n",
        "        else:\n",
        "            self.char2count[char] += 1\n",
        "\n",
        "    def word_to_tensor(self, word, max_len):\n",
        "        \"\"\"Convert a word to tensor of character indices with padding\"\"\"\n",
        "        indices = [self.char2index.get(char, 0) for char in word]\n",
        "        indices = [self.char2index[\"SOS\"]] + indices + [self.char2index[\"EOS\"]]\n",
        "\n",
        "        # Pad sequence to max_len\n",
        "        if len(indices) < max_len + 2:  # +2 for SOS and EOS\n",
        "            indices += [self.char2index[\"PAD\"]] * (max_len + 2 - len(indices))\n",
        "        else:\n",
        "            indices = indices[:max_len + 2]\n",
        "\n",
        "        return torch.tensor(indices, dtype=torch.long)\n"
      ],
      "metadata": {
        "id": "9c9EuPpUMP4w"
      },
      "execution_count": null,
      "outputs": []
    },
    {
      "cell_type": "code",
      "source": [
        "\n",
        "def count_parameters(model):\n",
        "    table = PrettyTable([\"Modules\", \"Parameters\"])\n",
        "    total_params = 0\n",
        "    for name, parameter in model.named_parameters():\n",
        "        if not parameter.requires_grad: continue\n",
        "        param = parameter.numel()\n",
        "        table.add_row([name, param])\n",
        "        total_params+=param\n",
        "    print(table)\n",
        "    print(f\"Total Trainable Params: {total_params}\")\n",
        "    return total_params"
      ],
      "metadata": {
        "id": "FrtWCR7VW4cL"
      },
      "execution_count": null,
      "outputs": []
    },
    {
      "cell_type": "code",
      "source": [
        "# Function to prepare data for a language pair\n",
        "def prepare_data(data_path, max_len=50, input_lang=None, output_lang=None): # Add input_lang and output_lang arguments with default None\n",
        "    if input_lang is None:  # If not provided, create new Lang objects\n",
        "        input_lang = Lang(\"latin\")\n",
        "    if output_lang is None:\n",
        "        output_lang = Lang(\"native\")\n",
        "\n",
        "    # Read data and build vocabulary\n",
        "    pairs = []\n",
        "    with open(data_path, 'r', encoding='utf-8') as f:\n",
        "        for line in f:\n",
        "            parts = line.strip().split('\\t')\n",
        "            if len(parts) >= 2:\n",
        "                latin, native = parts[0], parts[1]\n",
        "                if latin and native and len(latin) <= max_len and len(native) <= max_len:\n",
        "                    input_lang.add_word(latin)\n",
        "                    output_lang.add_word(native)\n",
        "                    pairs.append((latin, native))\n",
        "\n",
        "    print(f\"Prepared {len(pairs)} pairs\")\n",
        "    print(f\"Input vocabulary size: {input_lang.n_chars}\")\n",
        "    print(f\"Output vocabulary size: {output_lang.n_chars}\")\n",
        "\n",
        "    return input_lang, output_lang, pairs"
      ],
      "metadata": {
        "id": "b4tHyH_eMRiF"
      },
      "execution_count": null,
      "outputs": []
    },
    {
      "cell_type": "code",
      "source": [
        "class EncoderRNN(nn.Module):\n",
        "    def __init__(self, input_size, hidden_size, num_layers=1, cell_type=\"LSTM\"):\n",
        "        super(EncoderRNN, self).__init__()\n",
        "        self.hidden_size = hidden_size\n",
        "        self.num_layers = num_layers\n",
        "        self.cell_type = cell_type\n",
        "\n",
        "        self.embedding = nn.Embedding(input_size, hidden_size)\n",
        "\n",
        "        if cell_type == \"LSTM\":\n",
        "            self.rnn = nn.LSTM(hidden_size, hidden_size, num_layers, batch_first=True)\n",
        "        elif cell_type == \"GRU\":\n",
        "            self.rnn = nn.GRU(hidden_size, hidden_size, num_layers, batch_first=True)\n",
        "        else:  # Default to vanilla RNN\n",
        "            self.rnn = nn.RNN(hidden_size, hidden_size, num_layers, batch_first=True)\n",
        "\n",
        "    def forward(self, input_seq, hidden):\n",
        "        # input_seq shape: [batch_size, seq_len]\n",
        "        batch_size = input_seq.size(0)\n",
        "\n",
        "        embedded = self.embedding(input_seq)  # [batch_size, seq_len, hidden_size]\n",
        "        output, hidden = self.rnn(embedded, hidden)\n",
        "\n",
        "        return output, hidden\n",
        "\n",
        "    def init_hidden(self, batch_size, device):\n",
        "        if self.cell_type == \"LSTM\":\n",
        "            return (torch.zeros(self.num_layers, batch_size, self.hidden_size, device=device),\n",
        "                    torch.zeros(self.num_layers, batch_size, self.hidden_size, device=device))\n",
        "        else:\n",
        "            return torch.zeros(self.num_layers, batch_size, self.hidden_size, device=device)\n",
        "\n",
        "class DecoderRNN(nn.Module):\n",
        "    def __init__(self, hidden_size, output_size, num_layers=1, cell_type=\"LSTM\"):\n",
        "        super(DecoderRNN, self).__init__()\n",
        "        self.hidden_size = hidden_size\n",
        "        self.output_size = output_size\n",
        "        self.num_layers = num_layers\n",
        "        self.cell_type = cell_type\n",
        "\n",
        "        self.embedding = nn.Embedding(output_size, hidden_size)\n",
        "\n",
        "        if cell_type == \"LSTM\":\n",
        "            self.rnn = nn.LSTM(hidden_size, hidden_size, num_layers, batch_first=True)\n",
        "        elif cell_type == \"GRU\":\n",
        "            self.rnn = nn.GRU(hidden_size, hidden_size, num_layers, batch_first=True)\n",
        "        else:  # Default to vanilla RNN\n",
        "            self.rnn = nn.RNN(hidden_size, hidden_size, num_layers, batch_first=True)\n",
        "\n",
        "        self.out = nn.Linear(hidden_size, output_size)\n",
        "        self.softmax = nn.LogSoftmax(dim=2)\n",
        "\n",
        "    def forward(self, input_seq, hidden):\n",
        "        # input_seq shape: [batch_size, 1]\n",
        "        batch_size = input_seq.size(0)\n",
        "\n",
        "        embedded = self.embedding(input_seq)  # [batch_size, 1, hidden_size]\n",
        "        output, hidden = self.rnn(embedded, hidden)\n",
        "\n",
        "        output = self.softmax(self.out(output))\n",
        "        return output, hidden\n",
        "\n",
        "class Seq2SeqModel(nn.Module):\n",
        "    def __init__(self, encoder, decoder, device):\n",
        "        super(Seq2SeqModel, self).__init__()\n",
        "        self.encoder = encoder\n",
        "        self.decoder = decoder\n",
        "        self.device = device\n",
        "\n",
        "    def forward(self, src, trg, teacher_forcing_ratio=0.5):\n",
        "        batch_size = src.size(0)\n",
        "        trg_len = trg.size(1)\n",
        "        trg_vocab_size = self.decoder.output_size\n",
        "\n",
        "        # Tensor to store decoder outputs\n",
        "        outputs = torch.zeros(batch_size, trg_len, trg_vocab_size).to(self.device)\n",
        "\n",
        "        # Initialize encoder hidden state\n",
        "        encoder_hidden = self.encoder.init_hidden(batch_size, self.device)\n",
        "\n",
        "        # Encode the source sequence\n",
        "        encoder_outputs, encoder_hidden = self.encoder(src, encoder_hidden)\n",
        "\n",
        "        # First decoder input is the SOS token\n",
        "        decoder_input = src[:, 0:1]  # Use batch_size SOS tokens\n",
        "        decoder_hidden = encoder_hidden\n",
        "\n",
        "        for t in range(1, trg_len):\n",
        "            # Pass through decoder\n",
        "            decoder_output, decoder_hidden = self.decoder(decoder_input, decoder_hidden)\n",
        "\n",
        "            # Store prediction\n",
        "            outputs[:, t:t+1, :] = decoder_output\n",
        "\n",
        "            # Decide whether to use teacher forcing\n",
        "            teacher_force = random.random() < teacher_forcing_ratio\n",
        "\n",
        "            # Get the highest predicted token\n",
        "            top1 = decoder_output.argmax(2)\n",
        "\n",
        "            # Use teacher forcing or not\n",
        "            decoder_input = trg[:, t:t+1] if teacher_force else top1\n",
        "\n",
        "        return outputs\n"
      ],
      "metadata": {
        "id": "HSTeWaUWMR7C"
      },
      "execution_count": null,
      "outputs": []
    },
    {
      "cell_type": "code",
      "source": [],
      "metadata": {
        "id": "WO54i7XS3j3V"
      },
      "execution_count": null,
      "outputs": []
    },
    {
      "cell_type": "code",
      "source": [
        "def train_epoch(model, dataloader, optimizer, criterion, device, train_lossi):\n",
        "    model.train()\n",
        "    epoch_loss = 0\n",
        "\n",
        "    for batch_idx, (src, trg) in enumerate(dataloader):\n",
        "        src, trg = src.to(device), trg.to(device)\n",
        "\n",
        "        optimizer.zero_grad()\n",
        "\n",
        "        # Forward pass\n",
        "        output = model(src, trg)\n",
        "\n",
        "        # Reshape for loss calculation\n",
        "        output_dim = output.shape[-1]\n",
        "        output = output[:, 1:].reshape(-1, output_dim)  # Skip SOS token\n",
        "        trg = trg[:, 1:].reshape(-1)  # Skip SOS token\n",
        "\n",
        "        # Calculate loss\n",
        "        loss = criterion(output, trg)\n",
        "\n",
        "        # Backward pass\n",
        "        loss.backward()\n",
        "\n",
        "        # Update parameters\n",
        "        optimizer.step()\n",
        "\n",
        "        epoch_loss += loss.item()\n",
        "        train_lossi.append(loss.item())\n",
        "\n",
        "    return epoch_loss / len(dataloader), train_lossi\n",
        "\n",
        "# Updated evaluate\n",
        "def evaluate(model, dataloader, criterion, device, val_lossi):\n",
        "    model.eval()\n",
        "    epoch_loss = 0\n",
        "    correct_predictions = 0\n",
        "    total_predictions = 0\n",
        "\n",
        "    with torch.no_grad():\n",
        "        for src, trg in dataloader:\n",
        "            src, trg = src.to(device), trg.to(device)\n",
        "\n",
        "            output = model(src, trg, teacher_forcing_ratio=0)\n",
        "\n",
        "            # Reshape for loss calculation\n",
        "            output_dim = output.shape[-1]\n",
        "            output = output[:, 1:].reshape(-1, output_dim)  # Skip SOS token\n",
        "            trg = trg[:, 1:].reshape(-1)  # Skip SOS token\n",
        "\n",
        "            # Calculate loss\n",
        "            loss = criterion(output, trg)\n",
        "            epoch_loss += loss.item()\n",
        "            val_lossi.append(loss.item())\n",
        "\n",
        "            # Calculate accuracy\n",
        "            predictions = output.argmax(1)\n",
        "            correct_mask = (predictions == trg) & (trg != 0)  # Exclude padding\n",
        "            correct_predictions += correct_mask.sum().item()\n",
        "            total_mask = trg != 0  # Exclude padding\n",
        "            total_predictions += total_mask.sum().item()\n",
        "\n",
        "    accuracy = correct_predictions / total_predictions if total_predictions > 0 else 0\n",
        "    return epoch_loss / len(dataloader), accuracy, val_lossi\n"
      ],
      "metadata": {
        "id": "wdhEqZJCMUWP"
      },
      "execution_count": null,
      "outputs": []
    },
    {
      "cell_type": "code",
      "source": [
        "def transliterate(model, src, input_lang, output_lang, device, max_length=30):\n",
        "    model.eval()\n",
        "    with torch.no_grad():\n",
        "        # Reshape input to have batch size of 1: (seq_len, batch_size=1)\n",
        "        src = src.unsqueeze(0)  # Add a batch dimension\n",
        "\n",
        "        # Move to device\n",
        "        src = src.to(device)\n",
        "\n",
        "        # Initialize hidden state with batch_size=1\n",
        "        batch_size = 1  # Explicitly set batch size to 1\n",
        "        encoder_hidden = model.encoder.init_hidden(batch_size, device)  # Shape: (num_layers, 1, hidden_size)\n",
        "\n",
        "        # Encoder forward pass\n",
        "        encoder_outputs, encoder_hidden = model.encoder(src, encoder_hidden)\n",
        "\n",
        "        # Decoder\n",
        "        decoder_input = torch.tensor([[1]], device=device)  # SOS token\n",
        "        decoder_hidden = encoder_hidden  # Shape: (num_layers, 1, hidden_size)\n",
        "        output_chars = []\n",
        "\n",
        "        for _ in range(max_length):\n",
        "            decoder_output, decoder_hidden = model.decoder(decoder_input, decoder_hidden)\n",
        "            _, topi = decoder_output.topk(1)\n",
        "            char_idx = topi.item()\n",
        "\n",
        "            if char_idx == 2:  # EOS token\n",
        "                break\n",
        "\n",
        "            output_chars.append(output_lang.index2char[char_idx])\n",
        "            decoder_input = torch.tensor([[char_idx]], device=device)\n",
        "\n",
        "        return ''.join(output_chars)"
      ],
      "metadata": {
        "id": "3WjX7A1iS9cj"
      },
      "execution_count": null,
      "outputs": []
    },
    {
      "cell_type": "code",
      "source": [
        "\n",
        "# Updated main function\n",
        "def main():\n",
        "    # Parameters\n",
        "    batch_size = 64\n",
        "    hidden_size = 256\n",
        "    learning_rate = 0.001\n",
        "    num_epochs = 5\n",
        "    cell_type = \"LSTM\"\n",
        "    num_layers = 2\n",
        "    data_path = \"dakshina_dataset_v1.0/hi/lexicons/hi.translit.sampled.train.tsv\"\n",
        "    val_path = \"dakshina_dataset_v1.0/hi/lexicons/hi.translit.sampled.dev.tsv\"\n",
        "    test_path = \"dakshina_dataset_v1.0/hi/lexicons/hi.translit.sampled.test.tsv\"\n",
        "\n",
        "    # Set device\n",
        "    device = torch.device(\"cuda\" if torch.cuda.is_available() else \"cpu\")\n",
        "    print(f\"Using device: {device}\")\n",
        "\n",
        "    # Prepare data\n",
        "    input_lang, output_lang, train_pairs = prepare_data(data_path)\n",
        "    _, _, val_pairs = prepare_data(val_path, input_lang=input_lang, output_lang=output_lang)\n",
        "    _, _, test_pairs = prepare_data(test_path, input_lang=input_lang, output_lang=output_lang)\n",
        "\n",
        "    # Create datasets and dataloaders\n",
        "    train_dataset = TransliterationDataset(data_path, input_lang, output_lang)\n",
        "    train_loader = DataLoader(train_dataset, batch_size=batch_size, shuffle=True)\n",
        "\n",
        "    val_dataset = TransliterationDataset(val_path, input_lang, output_lang)\n",
        "    val_loader = DataLoader(val_dataset, batch_size=batch_size)\n",
        "\n",
        "    test_dataset = TransliterationDataset(test_path, input_lang, output_lang)\n",
        "    test_loader = DataLoader(test_dataset, batch_size=batch_size)\n",
        "\n",
        "    # Create model\n",
        "    encoder = EncoderRNN(input_lang.n_chars, hidden_size, num_layers, cell_type)\n",
        "    decoder = DecoderRNN(hidden_size, output_lang.n_chars, num_layers, cell_type)\n",
        "    model = Seq2SeqModel(encoder, decoder, device).to(device)\n",
        "    count_parameters(model)\n",
        "\n",
        "    # Define loss function and optimizer\n",
        "    criterion = nn.NLLLoss(ignore_index=0)\n",
        "    optimizer = optim.Adam(model.parameters(), lr=learning_rate)\n",
        "\n",
        "    # Training loop\n",
        "    best_val_loss = float('inf')\n",
        "    train_lossi = []  # Per-batch training losses\n",
        "    val_lossi = []    # Per-batch validation losses\n",
        "\n",
        "    for epoch in range(num_epochs):\n",
        "        # Train\n",
        "        train_loss, train_lossi = train_epoch(model, train_loader, optimizer, criterion, device, train_lossi)\n",
        "        # Validate\n",
        "        val_loss, val_accuracy, val_lossi = evaluate(model, val_loader, criterion, device, val_lossi)\n",
        "\n",
        "        print(f\"Epoch: {epoch+1}/{num_epochs}\")\n",
        "        print(f\"Train Loss: {train_loss:.4f}\")\n",
        "        print(f\"Validation Loss: {val_loss:.4f}\")\n",
        "        print(f\"Validation Accuracy: {val_accuracy:.4f}\")\n",
        "\n",
        "        # Save best model\n",
        "        if val_loss < best_val_loss:\n",
        "            best_val_loss = val_loss\n",
        "            torch.save(model.state_dict(), \"best_transliteration_model.pt\")\n",
        "            print(\"Model saved!\")\n",
        "\n",
        "        print(\"-----\")\n",
        "\n",
        "    # Plot per-batch training and validation losses\n",
        "    plt.figure(figsize=(10, 5))\n",
        "    plt.plot(train_lossi, label='Training Loss ')\n",
        "    plt.plot(val_lossi, label='Validation Loss ')\n",
        "    plt.xlabel('Batch')\n",
        "    plt.ylabel('Loss')\n",
        "    plt.title('Per-Batch Training and Validation Loss')\n",
        "    plt.legend()\n",
        "    plt.grid(True)\n",
        "    plt.show()\n",
        "\n",
        "    # Evaluate on test set\n",
        "    model.load_state_dict(torch.load(\"best_transliteration_model.pt\"))\n",
        "    test_loss, test_accuracy, _ = evaluate(model, test_loader, criterion, device, [])\n",
        "    print(f\"Test Loss: {test_loss:.4f}\")\n",
        "    print(f\"Test Accuracy: {test_accuracy:.4f}\")\n",
        "\n",
        "    # Example transliteration\n",
        "    for i in range(min(10, len(test_dataset))):\n",
        "        src, trg = test_dataset[i]\n",
        "        src_text = ''.join([input_lang.index2char[idx.item()] for idx in src if idx.item() > 2])\n",
        "        trg_text = ''.join([output_lang.index2char[idx.item()] for idx in trg if idx.item() > 2])\n",
        "\n",
        "        pred_text = transliterate(model, src, input_lang, output_lang, device)\n",
        "\n",
        "        print(f\"Input: {src_text}\")\n",
        "        print(f\"Target: {trg_text}\")\n",
        "        print(f\"Prediction: {pred_text}\")\n",
        "        print(\"-----\")\n",
        "\n",
        "\n"
      ],
      "metadata": {
        "id": "djuN5yNqMjML"
      },
      "execution_count": null,
      "outputs": []
    },
    {
      "cell_type": "code",
      "source": [
        "main()"
      ],
      "metadata": {
        "colab": {
          "base_uri": "https://localhost:8080/",
          "height": 1000
        },
        "id": "iQCORVIbMkiw",
        "outputId": "2450046d-6494-4ccd-bd37-001ecb88e14a"
      },
      "execution_count": null,
      "outputs": [
        {
          "output_type": "stream",
          "name": "stdout",
          "text": [
            "Using device: cuda\n",
            "Prepared 44204 pairs\n",
            "Input vocabulary size: 66\n",
            "Output vocabulary size: 29\n",
            "Prepared 4358 pairs\n",
            "Input vocabulary size: 66\n",
            "Output vocabulary size: 29\n",
            "Prepared 4502 pairs\n",
            "Input vocabulary size: 66\n",
            "Output vocabulary size: 29\n",
            "+--------------------------+------------+\n",
            "|         Modules          | Parameters |\n",
            "+--------------------------+------------+\n",
            "| encoder.embedding.weight |   16896    |\n",
            "| encoder.rnn.weight_ih_l0 |   262144   |\n",
            "| encoder.rnn.weight_hh_l0 |   262144   |\n",
            "|  encoder.rnn.bias_ih_l0  |    1024    |\n",
            "|  encoder.rnn.bias_hh_l0  |    1024    |\n",
            "| encoder.rnn.weight_ih_l1 |   262144   |\n",
            "| encoder.rnn.weight_hh_l1 |   262144   |\n",
            "|  encoder.rnn.bias_ih_l1  |    1024    |\n",
            "|  encoder.rnn.bias_hh_l1  |    1024    |\n",
            "| decoder.embedding.weight |    7424    |\n",
            "| decoder.rnn.weight_ih_l0 |   262144   |\n",
            "| decoder.rnn.weight_hh_l0 |   262144   |\n",
            "|  decoder.rnn.bias_ih_l0  |    1024    |\n",
            "|  decoder.rnn.bias_hh_l0  |    1024    |\n",
            "| decoder.rnn.weight_ih_l1 |   262144   |\n",
            "| decoder.rnn.weight_hh_l1 |   262144   |\n",
            "|  decoder.rnn.bias_ih_l1  |    1024    |\n",
            "|  decoder.rnn.bias_hh_l1  |    1024    |\n",
            "|    decoder.out.weight    |    7424    |\n",
            "|     decoder.out.bias     |     29     |\n",
            "+--------------------------+------------+\n",
            "Total Trainable Params: 2137117\n",
            "Epoch: 1/5\n",
            "Train Loss: 2.3991\n",
            "Validation Loss: 2.3098\n",
            "Validation Accuracy: 0.3202\n",
            "Model saved!\n",
            "-----\n",
            "Epoch: 2/5\n",
            "Train Loss: 1.8762\n",
            "Validation Loss: 1.8749\n",
            "Validation Accuracy: 0.4227\n",
            "Model saved!\n",
            "-----\n",
            "Epoch: 3/5\n",
            "Train Loss: 1.4835\n",
            "Validation Loss: 1.5220\n",
            "Validation Accuracy: 0.5337\n",
            "Model saved!\n",
            "-----\n",
            "Epoch: 4/5\n",
            "Train Loss: 1.1056\n",
            "Validation Loss: 1.2062\n",
            "Validation Accuracy: 0.6186\n",
            "Model saved!\n",
            "-----\n",
            "Epoch: 5/5\n",
            "Train Loss: 0.8522\n",
            "Validation Loss: 1.0480\n",
            "Validation Accuracy: 0.6593\n",
            "Model saved!\n",
            "-----\n"
          ]
        },
        {
          "output_type": "display_data",
          "data": {
            "text/plain": [
              "<Figure size 1000x500 with 1 Axes>"
            ],
            "image/png": "[encoded data removed]"
          },
          "metadata": {}
        },
        {
          "output_type": "stream",
          "name": "stdout",
          "text": [
            "Test Loss: 1.0341\n",
            "Test Accuracy: 0.6630\n",
            "Input: अंक\n",
            "Target: ank\n",
            "Prediction: ank\n",
            "-----\n",
            "Input: अंक\n",
            "Target: anka\n",
            "Prediction: ank\n",
            "-----\n",
            "Input: अंकित\n",
            "Target: ankit\n",
            "Prediction: ankit\n",
            "-----\n",
            "Input: अंकों\n",
            "Target: anakon\n",
            "Prediction: ankon\n",
            "-----\n",
            "Input: अंकों\n",
            "Target: ankhon\n",
            "Prediction: ankon\n",
            "-----\n",
            "Input: अंकों\n",
            "Target: ankon\n",
            "Prediction: ankon\n",
            "-----\n",
            "Input: अंकोर\n",
            "Target: angkor\n",
            "Prediction: ankor\n",
            "-----\n",
            "Input: अंकोर\n",
            "Target: ankor\n",
            "Prediction: ankor\n",
            "-----\n",
            "Input: अंगारक\n",
            "Target: angaarak\n",
            "Prediction: angark\n",
            "-----\n",
            "Input: अंगारक\n",
            "Target: angarak\n",
            "Prediction: angark\n",
            "-----\n"
          ]
        }
      ]
    },
    {
      "cell_type": "code",
      "source": [
        "for batch_idx, (src, trg) in enumerate(train_loader):\n",
        "  src, trg = src.to(device), trg.to(device)\n",
        "\n",
        "\n",
        "\n",
        "  print(src.shape)\n",
        "  print(trg.shape)\n",
        "  # Forward pass\n",
        "  output = model(src, trg)\n",
        "\n",
        "  # Reshape for loss calculation\n",
        "  output_dim = output.shape[-1]\n",
        "  output = output[:, 1:].reshape(-1, output_dim)  # Skip SOS token\n",
        "  trg = trg[:, 1:].reshape(-1)  # Skip SOS token\n",
        "  break"
      ],
      "metadata": {
        "colab": {
          "base_uri": "https://localhost:8080/"
        },
        "id": "Wb5HIVhL3pMi",
        "outputId": "d73febd6-b100-4036-e63e-2d78fa705991"
      },
      "execution_count": null,
      "outputs": [
        {
          "output_type": "stream",
          "name": "stdout",
          "text": [
            "torch.Size([64, 52])\n",
            "torch.Size([64, 52])\n"
          ]
        }
      ]
    },
    {
      "cell_type": "code",
      "source": [
        "src[1]"
      ],
      "metadata": {
        "colab": {
          "base_uri": "https://localhost:8080/"
        },
        "id": "ckGiVUvY6hra",
        "outputId": "9b408dd3-03b4-4feb-f098-6d7e4713d09b"
      },
      "execution_count": null,
      "outputs": [
        {
          "output_type": "execute_result",
          "data": {
            "text/plain": [
              "tensor([ 1, 31, 16,  2,  0,  0,  0,  0,  0,  0,  0,  0,  0,  0,  0,  0,  0,  0,\n",
              "         0,  0,  0,  0,  0,  0,  0,  0,  0,  0,  0,  0,  0,  0,  0,  0,  0,  0,\n",
              "         0,  0,  0,  0,  0,  0,  0,  0,  0,  0,  0,  0,  0,  0,  0,  0],\n",
              "       device='cuda:0')"
            ]
          },
          "metadata": {},
          "execution_count": 28
        }
      ]
    },
    {
      "cell_type": "code",
      "source": [
        "\n",
        "# Parameters\n",
        "batch_size = 64\n",
        "hidden_size = 256\n",
        "learning_rate = 0.001\n",
        "num_epochs = 5\n",
        "cell_type = \"LSTM\"  # \"RNN\", \"GRU\", or \"LSTM\"\n",
        "num_layers = 2\n",
        "data_path = \"dakshina_dataset_v1.0/hi/lexicons/hi.translit.sampled.train.tsv\"\n",
        "val_path = \"dakshina_dataset_v1.0/hi/lexicons/hi.translit.sampled.dev.tsv\"\n",
        "test_path = \"dakshina_dataset_v1.0/hi/lexicons/hi.translit.sampled.test.tsv\"\n",
        "\n",
        "# Set device\n",
        "device = torch.device(\"cuda\" if torch.cuda.is_available() else \"cpu\")\n",
        "print(f\"Using device: {device}\")\n",
        "\n",
        "# Prepare data\n",
        "print(\"Train\")\n",
        "input_lang, output_lang, train_pairs = prepare_data(data_path)\n",
        "print(\"Val\")\n",
        "_, _, val_pairs = prepare_data(val_path, input_lang=input_lang, output_lang=output_lang) # Pass existing Lang objects to prepare_data\n",
        "print(\"Test\")\n",
        "_, _, test_pairs = prepare_data(test_path, input_lang=input_lang, output_lang=output_lang) # Pass existing Lang objects to prepare_data\n",
        "\n",
        "# Create datasets and dataloaders\n",
        "train_dataset = TransliterationDataset(data_path, input_lang, output_lang)\n",
        "train_loader = DataLoader(train_dataset, batch_size=batch_size, shuffle=True)\n",
        "\n",
        "val_dataset = TransliterationDataset(val_path, input_lang, output_lang)\n",
        "val_loader = DataLoader(val_dataset, batch_size=batch_size)\n",
        "\n",
        "test_dataset = TransliterationDataset(test_path, input_lang, output_lang)\n",
        "test_loader = DataLoader(test_dataset, batch_size=batch_size)\n",
        "\n",
        "# Create model\n",
        "encoder = EncoderRNN(input_lang.n_chars, hidden_size, num_layers, cell_type)\n",
        "decoder = DecoderRNN(hidden_size, output_lang.n_chars, num_layers, cell_type)\n",
        "model = Seq2SeqModel(encoder, decoder, device).to(device)\n",
        "\n",
        "# Define loss function and optimizer\n",
        "criterion = nn.NLLLoss(ignore_index=0)  # Ignore padding index (0)\n",
        "\n",
        "\n",
        "\n",
        "\n",
        "# Evaluate on test set\n",
        "model.load_state_dict(torch.load(\"best_transliteration_model.pt\"))\n",
        "test_loss, test_accuracy, val_lossi = evaluate(model, test_loader, criterion, device, []) # Pass an empty list for val_lossi\n",
        "print(f\"Test Loss: {test_loss:.4f}\")\n",
        "print(f\"Test Accuracy: {test_accuracy:.4f}\")\n",
        "\n",
        "# Example transliteration\n",
        "# Example transliteration\n",
        "for i in range(10):\n",
        "    src, trg = test_dataset[i]\n",
        "    src_text = ''.join([input_lang.index2char[idx.item()] for idx in src if idx.item() > 2])\n",
        "    trg_text = ''.join([output_lang.index2char[idx.item()] for idx in trg if idx.item() > 2])\n",
        "\n",
        "    pred_text = transliterate(model, src, input_lang, output_lang, device)\n",
        "\n",
        "    print(f\"Input: {src_text}\")\n",
        "    print(f\"Target: {trg_text}\")\n",
        "    print(f\"Prediction: {pred_text}\")\n",
        "    print(\"-----\")\n",
        "\n",
        "\n"
      ],
      "metadata": {
        "colab": {
          "base_uri": "https://localhost:8080/"
        },
        "id": "64rT2-UlRtuS",
        "outputId": "a5190719-7601-4360-f622-13732ecff425"
      },
      "execution_count": null,
      "outputs": [
        {
          "output_type": "stream",
          "name": "stdout",
          "text": [
            "Using device: cuda\n",
            "Train\n",
            "Prepared 44204 pairs\n",
            "Input vocabulary size: 66\n",
            "Output vocabulary size: 29\n",
            "Val\n",
            "Prepared 4358 pairs\n",
            "Input vocabulary size: 66\n",
            "Output vocabulary size: 29\n",
            "Test\n",
            "Prepared 4502 pairs\n",
            "Input vocabulary size: 66\n",
            "Output vocabulary size: 29\n",
            "Test Loss: 1.2253\n",
            "Test Accuracy: 0.6080\n",
            "Input: अंक\n",
            "Target: ank\n",
            "Prediction: ank\n",
            "-----\n",
            "Input: अंक\n",
            "Target: anka\n",
            "Prediction: ank\n",
            "-----\n",
            "Input: अंकित\n",
            "Target: ankit\n",
            "Prediction: anutt\n",
            "-----\n",
            "Input: अंकों\n",
            "Target: anakon\n",
            "Prediction: ankon\n",
            "-----\n",
            "Input: अंकों\n",
            "Target: ankhon\n",
            "Prediction: ankon\n",
            "-----\n",
            "Input: अंकों\n",
            "Target: ankon\n",
            "Prediction: ankon\n",
            "-----\n",
            "Input: अंकोर\n",
            "Target: angkor\n",
            "Prediction: anuur\n",
            "-----\n",
            "Input: अंकोर\n",
            "Target: ankor\n",
            "Prediction: anuur\n",
            "-----\n",
            "Input: अंगारक\n",
            "Target: angaarak\n",
            "Prediction: anjaaka\n",
            "-----\n",
            "Input: अंगारक\n",
            "Target: angarak\n",
            "Prediction: anjaaka\n",
            "-----\n"
          ]
        }
      ]
    },
    {
      "cell_type": "markdown",
      "source": [
        "#Sweep"
      ],
      "metadata": {
        "id": "11mZmbCvWLCT"
      }
    },
    {
      "cell_type": "code",
      "source": [
        "import torch\n",
        "import torch.nn as nn\n",
        "import torch.optim as optim\n",
        "from torch.utils.data import DataLoader\n",
        "import random\n",
        "import wandb\n",
        "\n",
        "class EncoderRNN(nn.Module):\n",
        "    def __init__(self, input_size, hidden_size, num_layers=1, cell_type=\"LSTM\", dropout=0.0):\n",
        "        super(EncoderRNN, self).__init__()\n",
        "        self.hidden_size = hidden_size\n",
        "        self.num_layers = num_layers\n",
        "        self.cell_type = cell_type\n",
        "\n",
        "        self.embedding = nn.Embedding(input_size, hidden_size)\n",
        "\n",
        "        if cell_type == \"LSTM\":\n",
        "            self.rnn = nn.LSTM(hidden_size, hidden_size, num_layers,\n",
        "                             batch_first=True, dropout=dropout if num_layers > 1 else 0)\n",
        "        elif cell_type == \"GRU\":\n",
        "            self.rnn = nn.GRU(hidden_size, hidden_size, num_layers,\n",
        "                            batch_first=True, dropout=dropout if num_layers > 1 else 0)\n",
        "        else:\n",
        "            self.rnn = nn.RNN(hidden_size, hidden_size, num_layers,\n",
        "                            batch_first=True, dropout=dropout if num_layers > 1 else 0)\n",
        "\n",
        "    def forward(self, input_seq, hidden):\n",
        "        embedded = self.embedding(input_seq)\n",
        "        output, hidden = self.rnn(embedded, hidden)\n",
        "        return output, hidden\n",
        "\n",
        "    def init_hidden(self, batch_size, device):\n",
        "        if self.cell_type == \"LSTM\":\n",
        "            return (torch.zeros(self.num_layers, batch_size, self.hidden_size, device=device),\n",
        "                    torch.zeros(self.num_layers, batch_size, self.hidden_size, device=device))\n",
        "        return torch.zeros(self.num_layers, batch_size, self.hidden_size, device=device)\n",
        "\n",
        "class DecoderRNN(nn.Module):\n",
        "    def __init__(self, hidden_size, output_size, num_layers=1, cell_type=\"LSTM\", dropout=0.0):\n",
        "        super(DecoderRNN, self).__init__()\n",
        "        self.hidden_size = hidden_size\n",
        "        self.output_size = output_size\n",
        "        self.num_layers = num_layers\n",
        "        self.cell_type = cell_type\n",
        "\n",
        "        self.embedding = nn.Embedding(output_size, hidden_size)\n",
        "\n",
        "        if cell_type == \"LSTM\":\n",
        "            self.rnn = nn.LSTM(hidden_size, hidden_size, num_layers,\n",
        "                             batch_first=True, dropout=dropout if num_layers > 1 else 0)\n",
        "        elif cell_type == \"GRU\":\n",
        "            self.rnn = nn.GRU(hidden_size, hidden_size, num_layers,\n",
        "                            batch_first=True, dropout=dropout if num_layers > 1 else 0)\n",
        "        else:\n",
        "            self.rnn = nn.RNN(hidden_size, hidden_size, num_layers,\n",
        "                            batch_first=True, dropout=dropout if num_layers > 1 else 0)\n",
        "\n",
        "        self.out = nn.Linear(hidden_size, output_size)\n",
        "        self.softmax = nn.LogSoftmax(dim=2)\n",
        "\n",
        "    def forward(self, input_seq, hidden):\n",
        "        embedded = self.embedding(input_seq)\n",
        "        output, hidden = self.rnn(embedded, hidden)\n",
        "        output = self.softmax(self.out(output))\n",
        "        return output, hidden\n",
        "\n",
        "class Seq2SeqModel(nn.Module):\n",
        "    def __init__(self, encoder, decoder, device):\n",
        "        super(Seq2SeqModel, self).__init__()\n",
        "        self.encoder = encoder\n",
        "        self.decoder = decoder\n",
        "        self.device = device\n",
        "\n",
        "    def forward(self, src, trg, teacher_forcing_ratio=0.5):\n",
        "        batch_size = src.size(0)\n",
        "        trg_len = trg.size(1)\n",
        "        trg_vocab_size = self.decoder.output_size\n",
        "\n",
        "        outputs = torch.zeros(batch_size, trg_len, trg_vocab_size).to(self.device)\n",
        "        encoder_hidden = self.encoder.init_hidden(batch_size, self.device)\n",
        "        _, encoder_hidden = self.encoder(src, encoder_hidden)\n",
        "\n",
        "        decoder_input = src[:, 0:1]\n",
        "        decoder_hidden = encoder_hidden\n",
        "\n",
        "        for t in range(1, trg_len):\n",
        "            decoder_output, decoder_hidden = self.decoder(decoder_input, decoder_hidden)\n",
        "            outputs[:, t:t+1, :] = decoder_output\n",
        "            teacher_force = random.random() < teacher_forcing_ratio\n",
        "            top1 = decoder_output.argmax(2)\n",
        "            decoder_input = trg[:, t:t+1] if teacher_force else top1\n",
        "\n",
        "        return outputs\n",
        "\n",
        "\n"
      ],
      "metadata": {
        "id": "RivtMmLN4IF9"
      },
      "execution_count": null,
      "outputs": []
    },
    {
      "cell_type": "code",
      "source": [
        "def sweep():\n",
        "    # Initialize W&B run (automatically handles sweep config)\n",
        "    wandb.init(project=\"transliteration-sweep\")\n",
        "    config = wandb.config\n",
        "    wandb.run.name = f\"{config.cell_type}_hs{config.hidden_size}_nl{config.num_layers}_bs{config.batch_size}_lr{config.learning_rate}_do{config.dropout}\"\n",
        "\n",
        "    # Device configuration\n",
        "    device = torch.device(\"cuda\" if torch.cuda.is_available() else \"cpu\")\n",
        "    print(f\"Using device: {device}\")\n",
        "\n",
        "    # Data paths (consider moving to config if variable between environments)\n",
        "    data_path = \"dakshina_dataset_v1.0/hi/lexicons/hi.translit.sampled.train.tsv\"\n",
        "    val_path = \"dakshina_dataset_v1.0/hi/lexicons/hi.translit.sampled.dev.tsv\"\n",
        "    test_path = \"dakshina_dataset_v1.0/hi/lexicons/hi.translit.sampled.test.tsv\"\n",
        "\n",
        "\n",
        "    # Prepare data\n",
        "    input_lang, output_lang, train_pairs = prepare_data(data_path)\n",
        "    # Reuse input_lang and output_lang for validation and test sets\n",
        "    _, _, val_pairs = prepare_data(val_path, input_lang=input_lang, output_lang=output_lang)\n",
        "    _, _, test_pairs = prepare_data(test_path, input_lang=input_lang, output_lang=output_lang)\n",
        "\n",
        "\n",
        "    # Create datasets and dataloaders\n",
        "    train_dataset = TransliterationDataset(data_path, input_lang, output_lang)\n",
        "    train_loader = DataLoader(train_dataset, batch_size=config.batch_size, shuffle=True) # Use config for batch size\n",
        "    val_dataset = TransliterationDataset(val_path, input_lang, output_lang)\n",
        "    val_loader = DataLoader(val_dataset, batch_size=config.batch_size) # Use config for batch size\n",
        "    test_dataset = TransliterationDataset(test_path, input_lang, output_lang)\n",
        "    test_loader = DataLoader(test_dataset, batch_size=config.batch_size) # Use config for batch size\n",
        "\n",
        "\n",
        "    encoder = EncoderRNN(\n",
        "        input_lang.n_chars,\n",
        "        hidden_size=config.hidden_size,\n",
        "        num_layers=config.num_layers,\n",
        "        cell_type=config.cell_type,\n",
        "        dropout=config.dropout # Pass dropout from config\n",
        "    )\n",
        "\n",
        "    decoder = DecoderRNN(\n",
        "        hidden_size=config.hidden_size,\n",
        "        output_size=output_lang.n_chars,\n",
        "        num_layers=config.num_layers,\n",
        "        cell_type=config.cell_type,\n",
        "        dropout=config.dropout # Pass dropout from config\n",
        "    )\n",
        "\n",
        "\n",
        "    model = Seq2SeqModel(encoder, decoder, device).to(device)\n",
        "\n",
        "    # Log model architecture\n",
        "    wandb.watch(model, log=\"all\", log_freq=100)\n",
        "\n",
        "    # Optimization setup\n",
        "    optimizer = optim.Adam(model.parameters(), lr=config.learning_rate)\n",
        "    criterion = nn.NLLLoss(ignore_index=0)\n",
        "\n",
        "\n",
        "    # Training lifecycle\n",
        "    best_val_loss = float('inf')\n",
        "    train_lossi = []\n",
        "    val_lossi = []\n",
        "\n",
        "    for epoch in range(config.num_epochs):\n",
        "        # Train & validate\n",
        "        train_loss, train_lossi = train_epoch(model, train_loader, optimizer, criterion, device, train_lossi)\n",
        "        val_loss, val_accuracy, val_lossi = evaluate(model, val_loader, criterion, device, val_lossi)\n",
        "\n",
        "        # Log metrics\n",
        "        wandb.log({\n",
        "            \"epoch\": epoch,\n",
        "            \"train_loss\": train_loss,\n",
        "            \"val_loss\": val_loss,\n",
        "            \"val_accuracy\": val_accuracy,\n",
        "            \"learning_rate\": config.learning_rate\n",
        "        })\n",
        "\n",
        "\n",
        "\n",
        "        # Console reporting\n",
        "        print(f\"\\nEpoch {epoch+1}/{config.num_epochs}\")\n",
        "        print(f\"Train Loss: {train_loss:.4f} | Val Loss: {val_loss:.4f}\")\n",
        "        print(f\"Val Accuracy: {val_accuracy:.2f}%\")\n",
        "    test_lossi = []\n",
        "    # Final test evaluation (optional)\n",
        "    test_loss, test_accuracy, test_lossi = evaluate(model, test_loader, criterion, device, test_lossi)\n",
        "    wandb.log({\"final_test_accuracy\": test_accuracy, \"final_test_loss\": test_loss})\n",
        "    print(f\"\\nFinal Test Accuracy: {test_accuracy:.2f}%\")\n"
      ],
      "metadata": {
        "id": "fd6-wvP8V3xD"
      },
      "execution_count": null,
      "outputs": []
    },
    {
      "cell_type": "code",
      "source": [
        "import wandb\n",
        "# Sweep configuration\n",
        "sweep_config = {\n",
        "    'method': 'bayes',\n",
        "    'metric': {\n",
        "        'name': 'val_accuracy',\n",
        "        'goal': 'maximize'\n",
        "    },\n",
        "    'parameters': {\n",
        "        'embedding_size': {\n",
        "            'values': [16, 32, 64, 256]\n",
        "        },\n",
        "        'hidden_size': {\n",
        "            'values': [16, 32, 64, 256]\n",
        "        },\n",
        "        'num_layers': {\n",
        "            'values': [1, 2, 3]\n",
        "        },\n",
        "        'cell_type': {\n",
        "            'values': ['RNN', 'GRU', 'LSTM']\n",
        "        },\n",
        "        'dropout': {\n",
        "            'values': [0.2, 0.3]\n",
        "        },\n",
        "        'batch_size': {\n",
        "            'values': [32, 64, 128]\n",
        "        },\n",
        "        'learning_rate': {\n",
        "            'values': [0.001, 0.0005, 0.0001]\n",
        "        },\n",
        "        'num_epochs': {\n",
        "            'value': 5\n",
        "        }\n",
        "    }\n",
        "}\n",
        "\n",
        "# ✅ Run the sweep\n",
        "wandb.login(key=\"e6b43dd118f9a14e83fe12c597ad8d06bdfed432\")  # Replace this with safer auth if needed\n",
        "sweep_id = wandb.sweep(sweep_config, project=\"da6401-assignment3_vanilla\")\n",
        "wandb.agent(sweep_id, sweep, count=20)\n",
        "wandb.finish()"
      ],
      "metadata": {
        "colab": {
          "base_uri": "https://localhost:8080/",
          "height": 1000
        },
        "id": "tdN3ZNaaWSJ3",
        "outputId": "63a2ba38-ed9a-4ce1-ab2a-1f387793d42c"
      },
      "execution_count": null,
      "outputs": [
        {
          "output_type": "stream",
          "name": "stderr",
          "text": [
            "\u001b[34m\u001b[1mwandb\u001b[0m: \u001b[33mWARNING\u001b[0m If you're specifying your api key in code, ensure this code is not shared publicly.\n",
            "\u001b[34m\u001b[1mwandb\u001b[0m: \u001b[33mWARNING\u001b[0m Consider setting the WANDB_API_KEY environment variable, or running `wandb login` from the command line.\n",
            "\u001b[34m\u001b[1mwandb\u001b[0m: Appending key for api.wandb.ai to your netrc file: /root/.netrc\n"
          ]
        },
        {
          "output_type": "stream",
          "name": "stdout",
          "text": [
            "Create sweep with ID: 64v5oiu0\n",
            "Sweep URL: https://wandb.ai/da24s016-indian-institute-of-technology-madras/da6401-assignment3_vanilla/sweeps/64v5oiu0\n"
          ]
        },
        {
          "output_type": "stream",
          "name": "stderr",
          "text": [
            "\u001b[34m\u001b[1mwandb\u001b[0m: Agent Starting Run: grfoc0su with config:\n",
            "\u001b[34m\u001b[1mwandb\u001b[0m: \tbatch_size: 128\n",
            "\u001b[34m\u001b[1mwandb\u001b[0m: \tcell_type: GRU\n",
            "\u001b[34m\u001b[1mwandb\u001b[0m: \tdropout: 0.3\n",
            "\u001b[34m\u001b[1mwandb\u001b[0m: \tembedding_size: 32\n",
            "\u001b[34m\u001b[1mwandb\u001b[0m: \thidden_size: 256\n",
            "\u001b[34m\u001b[1mwandb\u001b[0m: \tlearning_rate: 0.0005\n",
            "\u001b[34m\u001b[1mwandb\u001b[0m: \tnum_epochs: 5\n",
            "\u001b[34m\u001b[1mwandb\u001b[0m: \tnum_layers: 1\n"
          ]
        },
        {
          "output_type": "display_data",
          "data": {
            "text/plain": [
              "<IPython.core.display.HTML object>"
            ],
            "text/html": [
              "Ignoring project 'transliteration-sweep' when running a sweep."
            ]
          },
          "metadata": {}
        },
        {
          "output_type": "display_data",
          "data": {
            "text/plain": [
              "<IPython.core.display.HTML object>"
            ],
            "text/html": [
              "Tracking run with wandb version 0.19.11"
            ]
          },
          "metadata": {}
        },
        {
          "output_type": "display_data",
          "data": {
            "text/plain": [
              "<IPython.core.display.HTML object>"
            ],
            "text/html": [
              "Run data is saved locally in <code>/content/wandb/run-20250519_142905-grfoc0su</code>"
            ]
          },
          "metadata": {}
        },
        {
          "output_type": "display_data",
          "data": {
            "text/plain": [
              "<IPython.core.display.HTML object>"
            ],
            "text/html": [
              "Syncing run <strong><a href='https://wandb.ai/da24s016-indian-institute-of-technology-madras/da6401-assignment3_vanilla/runs/grfoc0su' target=\"_blank\">silvery-sweep-1</a></strong> to <a href='https://wandb.ai/da24s016-indian-institute-of-technology-madras/da6401-assignment3_vanilla' target=\"_blank\">Weights & Biases</a> (<a href='https://wandb.me/developer-guide' target=\"_blank\">docs</a>)<br>Sweep page: <a href='https://wandb.ai/da24s016-indian-institute-of-technology-madras/da6401-assignment3_vanilla/sweeps/64v5oiu0' target=\"_blank\">https://wandb.ai/da24s016-indian-institute-of-technology-madras/da6401-assignment3_vanilla/sweeps/64v5oiu0</a>"
            ]
          },
          "metadata": {}
        },
        {
          "output_type": "display_data",
          "data": {
            "text/plain": [
              "<IPython.core.display.HTML object>"
            ],
            "text/html": [
              " View project at <a href='https://wandb.ai/da24s016-indian-institute-of-technology-madras/da6401-assignment3_vanilla' target=\"_blank\">https://wandb.ai/da24s016-indian-institute-of-technology-madras/da6401-assignment3_vanilla</a>"
            ]
          },
          "metadata": {}
        },
        {
          "output_type": "display_data",
          "data": {
            "text/plain": [
              "<IPython.core.display.HTML object>"
            ],
            "text/html": [
              " View sweep at <a href='https://wandb.ai/da24s016-indian-institute-of-technology-madras/da6401-assignment3_vanilla/sweeps/64v5oiu0' target=\"_blank\">https://wandb.ai/da24s016-indian-institute-of-technology-madras/da6401-assignment3_vanilla/sweeps/64v5oiu0</a>"
            ]
          },
          "metadata": {}
        },
        {
          "output_type": "display_data",
          "data": {
            "text/plain": [
              "<IPython.core.display.HTML object>"
            ],
            "text/html": [
              " View run at <a href='https://wandb.ai/da24s016-indian-institute-of-technology-madras/da6401-assignment3_vanilla/runs/grfoc0su' target=\"_blank\">https://wandb.ai/da24s016-indian-institute-of-technology-madras/da6401-assignment3_vanilla/runs/grfoc0su</a>"
            ]
          },
          "metadata": {}
        },
        {
          "output_type": "stream",
          "name": "stdout",
          "text": [
            "Using device: cuda\n",
            "Prepared 44204 pairs\n",
            "Input vocabulary size: 66\n",
            "Output vocabulary size: 29\n",
            "Prepared 4358 pairs\n",
            "Input vocabulary size: 66\n",
            "Output vocabulary size: 29\n",
            "Prepared 4502 pairs\n",
            "Input vocabulary size: 66\n",
            "Output vocabulary size: 29\n",
            "\n",
            "Epoch 1/5\n",
            "Train Loss: 2.3947 | Val Loss: 2.0206\n",
            "Val Accuracy: 0.40%\n",
            "\n",
            "Epoch 2/5\n",
            "Train Loss: 1.4479 | Val Loss: 1.3757\n",
            "Val Accuracy: 0.55%\n",
            "\n",
            "Epoch 3/5\n",
            "Train Loss: 1.0467 | Val Loss: 1.1506\n",
            "Val Accuracy: 0.62%\n",
            "\n",
            "Epoch 4/5\n",
            "Train Loss: 0.8813 | Val Loss: 1.0643\n",
            "Val Accuracy: 0.65%\n",
            "\n",
            "Epoch 5/5\n",
            "Train Loss: 0.7913 | Val Loss: 1.0028\n",
            "Val Accuracy: 0.67%\n",
            "\n",
            "Final Test Accuracy: 0.67%\n"
          ]
        },
        {
          "output_type": "display_data",
          "data": {
            "text/plain": [
              "<IPython.core.display.HTML object>"
            ],
            "text/html": []
          },
          "metadata": {}
        },
        {
          "output_type": "display_data",
          "data": {
            "text/plain": [
              "<IPython.core.display.HTML object>"
            ],
            "text/html": [
              "<br>    <style><br>        .wandb-row {<br>            display: flex;<br>            flex-direction: row;<br>            flex-wrap: wrap;<br>            justify-content: flex-start;<br>            width: 100%;<br>        }<br>        .wandb-col {<br>            display: flex;<br>            flex-direction: column;<br>            flex-basis: 100%;<br>            flex: 1;<br>            padding: 10px;<br>        }<br>    </style><br><div class=\"wandb-row\"><div class=\"wandb-col\"><h3>Run history:</h3><br/><table class=\"wandb\"><tr><td>epoch</td><td>▁▃▅▆█</td></tr><tr><td>final_test_accuracy</td><td>▁</td></tr><tr><td>final_test_loss</td><td>▁</td></tr><tr><td>learning_rate</td><td>▁▁▁▁▁</td></tr><tr><td>train_loss</td><td>█▄▂▁▁</td></tr><tr><td>val_accuracy</td><td>▁▅▇▇█</td></tr><tr><td>val_loss</td><td>█▄▂▁▁</td></tr></table><br/></div><div class=\"wandb-col\"><h3>Run summary:</h3><br/><table class=\"wandb\"><tr><td>epoch</td><td>4</td></tr><tr><td>final_test_accuracy</td><td>0.66587</td></tr><tr><td>final_test_loss</td><td>0.9917</td></tr><tr><td>learning_rate</td><td>0.0005</td></tr><tr><td>train_loss</td><td>0.79134</td></tr><tr><td>val_accuracy</td><td>0.66601</td></tr><tr><td>val_loss</td><td>1.00276</td></tr></table><br/></div></div>"
            ]
          },
          "metadata": {}
        },
        {
          "output_type": "display_data",
          "data": {
            "text/plain": [
              "<IPython.core.display.HTML object>"
            ],
            "text/html": [
              " View run <strong style=\"color:#cdcd00\">GRU_hs256_nl1_bs128_lr0.0005_do0.3</strong> at: <a href='https://wandb.ai/da24s016-indian-institute-of-technology-madras/da6401-assignment3_vanilla/runs/grfoc0su' target=\"_blank\">https://wandb.ai/da24s016-indian-institute-of-technology-madras/da6401-assignment3_vanilla/runs/grfoc0su</a><br> View project at: <a href='https://wandb.ai/da24s016-indian-institute-of-technology-madras/da6401-assignment3_vanilla' target=\"_blank\">https://wandb.ai/da24s016-indian-institute-of-technology-madras/da6401-assignment3_vanilla</a><br>Synced 5 W&B file(s), 0 media file(s), 0 artifact file(s) and 0 other file(s)"
            ]
          },
          "metadata": {}
        },
        {
          "output_type": "display_data",
          "data": {
            "text/plain": [
              "<IPython.core.display.HTML object>"
            ],
            "text/html": [
              "Find logs at: <code>./wandb/run-20250519_142905-grfoc0su/logs</code>"
            ]
          },
          "metadata": {}
        },
        {
          "output_type": "stream",
          "name": "stderr",
          "text": [
            "\u001b[34m\u001b[1mwandb\u001b[0m: Sweep Agent: Waiting for job.\n",
            "\u001b[34m\u001b[1mwandb\u001b[0m: Job received.\n",
            "\u001b[34m\u001b[1mwandb\u001b[0m: Agent Starting Run: kzlrp60u with config:\n",
            "\u001b[34m\u001b[1mwandb\u001b[0m: \tbatch_size: 32\n",
            "\u001b[34m\u001b[1mwandb\u001b[0m: \tcell_type: RNN\n",
            "\u001b[34m\u001b[1mwandb\u001b[0m: \tdropout: 0.3\n",
            "\u001b[34m\u001b[1mwandb\u001b[0m: \tembedding_size: 32\n",
            "\u001b[34m\u001b[1mwandb\u001b[0m: \thidden_size: 64\n",
            "\u001b[34m\u001b[1mwandb\u001b[0m: \tlearning_rate: 0.001\n",
            "\u001b[34m\u001b[1mwandb\u001b[0m: \tnum_epochs: 5\n",
            "\u001b[34m\u001b[1mwandb\u001b[0m: \tnum_layers: 2\n"
          ]
        },
        {
          "output_type": "display_data",
          "data": {
            "text/plain": [
              "<IPython.core.display.HTML object>"
            ],
            "text/html": [
              "Ignoring project 'transliteration-sweep' when running a sweep."
            ]
          },
          "metadata": {}
        },
        {
          "output_type": "display_data",
          "data": {
            "text/plain": [
              "<IPython.core.display.HTML object>"
            ],
            "text/html": [
              "Tracking run with wandb version 0.19.11"
            ]
          },
          "metadata": {}
        },
        {
          "output_type": "display_data",
          "data": {
            "text/plain": [
              "<IPython.core.display.HTML object>"
            ],
            "text/html": [
              "Run data is saved locally in <code>/content/wandb/run-20250519_143144-kzlrp60u</code>"
            ]
          },
          "metadata": {}
        },
        {
          "output_type": "display_data",
          "data": {
            "text/plain": [
              "<IPython.core.display.HTML object>"
            ],
            "text/html": [
              "Syncing run <strong><a href='https://wandb.ai/da24s016-indian-institute-of-technology-madras/da6401-assignment3_vanilla/runs/kzlrp60u' target=\"_blank\">sleek-sweep-2</a></strong> to <a href='https://wandb.ai/da24s016-indian-institute-of-technology-madras/da6401-assignment3_vanilla' target=\"_blank\">Weights & Biases</a> (<a href='https://wandb.me/developer-guide' target=\"_blank\">docs</a>)<br>Sweep page: <a href='https://wandb.ai/da24s016-indian-institute-of-technology-madras/da6401-assignment3_vanilla/sweeps/64v5oiu0' target=\"_blank\">https://wandb.ai/da24s016-indian-institute-of-technology-madras/da6401-assignment3_vanilla/sweeps/64v5oiu0</a>"
            ]
          },
          "metadata": {}
        },
        {
          "output_type": "display_data",
          "data": {
            "text/plain": [
              "<IPython.core.display.HTML object>"
            ],
            "text/html": [
              " View project at <a href='https://wandb.ai/da24s016-indian-institute-of-technology-madras/da6401-assignment3_vanilla' target=\"_blank\">https://wandb.ai/da24s016-indian-institute-of-technology-madras/da6401-assignment3_vanilla</a>"
            ]
          },
          "metadata": {}
        },
        {
          "output_type": "display_data",
          "data": {
            "text/plain": [
              "<IPython.core.display.HTML object>"
            ],
            "text/html": [
              " View sweep at <a href='https://wandb.ai/da24s016-indian-institute-of-technology-madras/da6401-assignment3_vanilla/sweeps/64v5oiu0' target=\"_blank\">https://wandb.ai/da24s016-indian-institute-of-technology-madras/da6401-assignment3_vanilla/sweeps/64v5oiu0</a>"
            ]
          },
          "metadata": {}
        },
        {
          "output_type": "display_data",
          "data": {
            "text/plain": [
              "<IPython.core.display.HTML object>"
            ],
            "text/html": [
              " View run at <a href='https://wandb.ai/da24s016-indian-institute-of-technology-madras/da6401-assignment3_vanilla/runs/kzlrp60u' target=\"_blank\">https://wandb.ai/da24s016-indian-institute-of-technology-madras/da6401-assignment3_vanilla/runs/kzlrp60u</a>"
            ]
          },
          "metadata": {}
        },
        {
          "output_type": "stream",
          "name": "stdout",
          "text": [
            "Using device: cuda\n",
            "Prepared 44204 pairs\n",
            "Input vocabulary size: 66\n",
            "Output vocabulary size: 29\n",
            "Prepared 4358 pairs\n",
            "Input vocabulary size: 66\n",
            "Output vocabulary size: 29\n",
            "Prepared 4502 pairs\n",
            "Input vocabulary size: 66\n",
            "Output vocabulary size: 29\n",
            "\n",
            "Epoch 1/5\n",
            "Train Loss: 2.5631 | Val Loss: 2.6661\n",
            "Val Accuracy: 0.24%\n",
            "\n",
            "Epoch 2/5\n",
            "Train Loss: 2.5179 | Val Loss: 2.6959\n",
            "Val Accuracy: 0.24%\n",
            "\n",
            "Epoch 3/5\n",
            "Train Loss: 2.5077 | Val Loss: 2.6680\n",
            "Val Accuracy: 0.24%\n",
            "\n",
            "Epoch 4/5\n",
            "Train Loss: 2.4994 | Val Loss: 2.6600\n",
            "Val Accuracy: 0.24%\n",
            "\n",
            "Epoch 5/5\n",
            "Train Loss: 2.5001 | Val Loss: 2.6598\n",
            "Val Accuracy: 0.24%\n",
            "\n",
            "Final Test Accuracy: 0.25%\n"
          ]
        },
        {
          "output_type": "display_data",
          "data": {
            "text/plain": [
              "<IPython.core.display.HTML object>"
            ],
            "text/html": []
          },
          "metadata": {}
        },
        {
          "output_type": "display_data",
          "data": {
            "text/plain": [
              "<IPython.core.display.HTML object>"
            ],
            "text/html": [
              "<br>    <style><br>        .wandb-row {<br>            display: flex;<br>            flex-direction: row;<br>            flex-wrap: wrap;<br>            justify-content: flex-start;<br>            width: 100%;<br>        }<br>        .wandb-col {<br>            display: flex;<br>            flex-direction: column;<br>            flex-basis: 100%;<br>            flex: 1;<br>            padding: 10px;<br>        }<br>    </style><br><div class=\"wandb-row\"><div class=\"wandb-col\"><h3>Run history:</h3><br/><table class=\"wandb\"><tr><td>epoch</td><td>▁▃▅▆█</td></tr><tr><td>final_test_accuracy</td><td>▁</td></tr><tr><td>final_test_loss</td><td>▁</td></tr><tr><td>learning_rate</td><td>▁▁▁▁▁</td></tr><tr><td>train_loss</td><td>█▃▂▁▁</td></tr><tr><td>val_accuracy</td><td>█▁█▇█</td></tr><tr><td>val_loss</td><td>▂█▃▁▁</td></tr></table><br/></div><div class=\"wandb-col\"><h3>Run summary:</h3><br/><table class=\"wandb\"><tr><td>epoch</td><td>4</td></tr><tr><td>final_test_accuracy</td><td>0.25137</td></tr><tr><td>final_test_loss</td><td>2.64417</td></tr><tr><td>learning_rate</td><td>0.001</td></tr><tr><td>train_loss</td><td>2.50006</td></tr><tr><td>val_accuracy</td><td>0.24186</td></tr><tr><td>val_loss</td><td>2.65978</td></tr></table><br/></div></div>"
            ]
          },
          "metadata": {}
        },
        {
          "output_type": "display_data",
          "data": {
            "text/plain": [
              "<IPython.core.display.HTML object>"
            ],
            "text/html": [
              " View run <strong style=\"color:#cdcd00\">RNN_hs64_nl2_bs32_lr0.001_do0.3</strong> at: <a href='https://wandb.ai/da24s016-indian-institute-of-technology-madras/da6401-assignment3_vanilla/runs/kzlrp60u' target=\"_blank\">https://wandb.ai/da24s016-indian-institute-of-technology-madras/da6401-assignment3_vanilla/runs/kzlrp60u</a><br> View project at: <a href='https://wandb.ai/da24s016-indian-institute-of-technology-madras/da6401-assignment3_vanilla' target=\"_blank\">https://wandb.ai/da24s016-indian-institute-of-technology-madras/da6401-assignment3_vanilla</a><br>Synced 5 W&B file(s), 0 media file(s), 0 artifact file(s) and 0 other file(s)"
            ]
          },
          "metadata": {}
        },
        {
          "output_type": "display_data",
          "data": {
            "text/plain": [
              "<IPython.core.display.HTML object>"
            ],
            "text/html": [
              "Find logs at: <code>./wandb/run-20250519_143144-kzlrp60u/logs</code>"
            ]
          },
          "metadata": {}
        },
        {
          "output_type": "stream",
          "name": "stderr",
          "text": [
            "\u001b[34m\u001b[1mwandb\u001b[0m: Agent Starting Run: e5oh8dr8 with config:\n",
            "\u001b[34m\u001b[1mwandb\u001b[0m: \tbatch_size: 32\n",
            "\u001b[34m\u001b[1mwandb\u001b[0m: \tcell_type: LSTM\n",
            "\u001b[34m\u001b[1mwandb\u001b[0m: \tdropout: 0.3\n",
            "\u001b[34m\u001b[1mwandb\u001b[0m: \tembedding_size: 32\n",
            "\u001b[34m\u001b[1mwandb\u001b[0m: \thidden_size: 32\n",
            "\u001b[34m\u001b[1mwandb\u001b[0m: \tlearning_rate: 0.0001\n",
            "\u001b[34m\u001b[1mwandb\u001b[0m: \tnum_epochs: 5\n",
            "\u001b[34m\u001b[1mwandb\u001b[0m: \tnum_layers: 2\n"
          ]
        },
        {
          "output_type": "display_data",
          "data": {
            "text/plain": [
              "<IPython.core.display.HTML object>"
            ],
            "text/html": [
              "Ignoring project 'transliteration-sweep' when running a sweep."
            ]
          },
          "metadata": {}
        },
        {
          "output_type": "display_data",
          "data": {
            "text/plain": [
              "<IPython.core.display.HTML object>"
            ],
            "text/html": [
              "Tracking run with wandb version 0.19.11"
            ]
          },
          "metadata": {}
        },
        {
          "output_type": "display_data",
          "data": {
            "text/plain": [
              "<IPython.core.display.HTML object>"
            ],
            "text/html": [
              "Run data is saved locally in <code>/content/wandb/run-20250519_144009-e5oh8dr8</code>"
            ]
          },
          "metadata": {}
        },
        {
          "output_type": "display_data",
          "data": {
            "text/plain": [
              "<IPython.core.display.HTML object>"
            ],
            "text/html": [
              "Syncing run <strong><a href='https://wandb.ai/da24s016-indian-institute-of-technology-madras/da6401-assignment3_vanilla/runs/e5oh8dr8' target=\"_blank\">upbeat-sweep-3</a></strong> to <a href='https://wandb.ai/da24s016-indian-institute-of-technology-madras/da6401-assignment3_vanilla' target=\"_blank\">Weights & Biases</a> (<a href='https://wandb.me/developer-guide' target=\"_blank\">docs</a>)<br>Sweep page: <a href='https://wandb.ai/da24s016-indian-institute-of-technology-madras/da6401-assignment3_vanilla/sweeps/64v5oiu0' target=\"_blank\">https://wandb.ai/da24s016-indian-institute-of-technology-madras/da6401-assignment3_vanilla/sweeps/64v5oiu0</a>"
            ]
          },
          "metadata": {}
        },
        {
          "output_type": "display_data",
          "data": {
            "text/plain": [
              "<IPython.core.display.HTML object>"
            ],
            "text/html": [
              " View project at <a href='https://wandb.ai/da24s016-indian-institute-of-technology-madras/da6401-assignment3_vanilla' target=\"_blank\">https://wandb.ai/da24s016-indian-institute-of-technology-madras/da6401-assignment3_vanilla</a>"
            ]
          },
          "metadata": {}
        },
        {
          "output_type": "display_data",
          "data": {
            "text/plain": [
              "<IPython.core.display.HTML object>"
            ],
            "text/html": [
              " View sweep at <a href='https://wandb.ai/da24s016-indian-institute-of-technology-madras/da6401-assignment3_vanilla/sweeps/64v5oiu0' target=\"_blank\">https://wandb.ai/da24s016-indian-institute-of-technology-madras/da6401-assignment3_vanilla/sweeps/64v5oiu0</a>"
            ]
          },
          "metadata": {}
        },
        {
          "output_type": "display_data",
          "data": {
            "text/plain": [
              "<IPython.core.display.HTML object>"
            ],
            "text/html": [
              " View run at <a href='https://wandb.ai/da24s016-indian-institute-of-technology-madras/da6401-assignment3_vanilla/runs/e5oh8dr8' target=\"_blank\">https://wandb.ai/da24s016-indian-institute-of-technology-madras/da6401-assignment3_vanilla/runs/e5oh8dr8</a>"
            ]
          },
          "metadata": {}
        },
        {
          "output_type": "stream",
          "name": "stdout",
          "text": [
            "Using device: cuda\n",
            "Prepared 44204 pairs\n",
            "Input vocabulary size: 66\n",
            "Output vocabulary size: 29\n",
            "Prepared 4358 pairs\n",
            "Input vocabulary size: 66\n",
            "Output vocabulary size: 29\n",
            "Prepared 4502 pairs\n",
            "Input vocabulary size: 66\n",
            "Output vocabulary size: 29\n",
            "\n",
            "Epoch 1/5\n",
            "Train Loss: 2.8336 | Val Loss: 2.7121\n",
            "Val Accuracy: 0.24%\n",
            "\n",
            "Epoch 2/5\n",
            "Train Loss: 2.6948 | Val Loss: 2.6892\n",
            "Val Accuracy: 0.24%\n",
            "\n",
            "Epoch 3/5\n",
            "Train Loss: 2.6646 | Val Loss: 2.6688\n",
            "Val Accuracy: 0.24%\n",
            "\n",
            "Epoch 4/5\n",
            "Train Loss: 2.6219 | Val Loss: 2.6622\n",
            "Val Accuracy: 0.24%\n",
            "\n",
            "Epoch 5/5\n",
            "Train Loss: 2.5952 | Val Loss: 2.6620\n",
            "Val Accuracy: 0.24%\n",
            "\n",
            "Final Test Accuracy: 0.25%\n"
          ]
        },
        {
          "output_type": "display_data",
          "data": {
            "text/plain": [
              "<IPython.core.display.HTML object>"
            ],
            "text/html": []
          },
          "metadata": {}
        },
        {
          "output_type": "display_data",
          "data": {
            "text/plain": [
              "<IPython.core.display.HTML object>"
            ],
            "text/html": [
              "<br>    <style><br>        .wandb-row {<br>            display: flex;<br>            flex-direction: row;<br>            flex-wrap: wrap;<br>            justify-content: flex-start;<br>            width: 100%;<br>        }<br>        .wandb-col {<br>            display: flex;<br>            flex-direction: column;<br>            flex-basis: 100%;<br>            flex: 1;<br>            padding: 10px;<br>        }<br>    </style><br><div class=\"wandb-row\"><div class=\"wandb-col\"><h3>Run history:</h3><br/><table class=\"wandb\"><tr><td>epoch</td><td>▁▃▅▆█</td></tr><tr><td>final_test_accuracy</td><td>▁</td></tr><tr><td>final_test_loss</td><td>▁</td></tr><tr><td>learning_rate</td><td>▁▁▁▁▁</td></tr><tr><td>train_loss</td><td>█▄▃▂▁</td></tr><tr><td>val_accuracy</td><td>▁▁███</td></tr><tr><td>val_loss</td><td>█▅▂▁▁</td></tr></table><br/></div><div class=\"wandb-col\"><h3>Run summary:</h3><br/><table class=\"wandb\"><tr><td>epoch</td><td>4</td></tr><tr><td>final_test_accuracy</td><td>0.25137</td></tr><tr><td>final_test_loss</td><td>2.64501</td></tr><tr><td>learning_rate</td><td>0.0001</td></tr><tr><td>train_loss</td><td>2.59515</td></tr><tr><td>val_accuracy</td><td>0.24186</td></tr><tr><td>val_loss</td><td>2.662</td></tr></table><br/></div></div>"
            ]
          },
          "metadata": {}
        },
        {
          "output_type": "display_data",
          "data": {
            "text/plain": [
              "<IPython.core.display.HTML object>"
            ],
            "text/html": [
              " View run <strong style=\"color:#cdcd00\">LSTM_hs32_nl2_bs32_lr0.0001_do0.3</strong> at: <a href='https://wandb.ai/da24s016-indian-institute-of-technology-madras/da6401-assignment3_vanilla/runs/e5oh8dr8' target=\"_blank\">https://wandb.ai/da24s016-indian-institute-of-technology-madras/da6401-assignment3_vanilla/runs/e5oh8dr8</a><br> View project at: <a href='https://wandb.ai/da24s016-indian-institute-of-technology-madras/da6401-assignment3_vanilla' target=\"_blank\">https://wandb.ai/da24s016-indian-institute-of-technology-madras/da6401-assignment3_vanilla</a><br>Synced 5 W&B file(s), 0 media file(s), 0 artifact file(s) and 0 other file(s)"
            ]
          },
          "metadata": {}
        },
        {
          "output_type": "display_data",
          "data": {
            "text/plain": [
              "<IPython.core.display.HTML object>"
            ],
            "text/html": [
              "Find logs at: <code>./wandb/run-20250519_144009-e5oh8dr8/logs</code>"
            ]
          },
          "metadata": {}
        },
        {
          "output_type": "stream",
          "name": "stderr",
          "text": [
            "\u001b[34m\u001b[1mwandb\u001b[0m: Agent Starting Run: 3tazntcv with config:\n",
            "\u001b[34m\u001b[1mwandb\u001b[0m: \tbatch_size: 128\n",
            "\u001b[34m\u001b[1mwandb\u001b[0m: \tcell_type: GRU\n",
            "\u001b[34m\u001b[1mwandb\u001b[0m: \tdropout: 0.2\n",
            "\u001b[34m\u001b[1mwandb\u001b[0m: \tembedding_size: 32\n",
            "\u001b[34m\u001b[1mwandb\u001b[0m: \thidden_size: 256\n",
            "\u001b[34m\u001b[1mwandb\u001b[0m: \tlearning_rate: 0.0005\n",
            "\u001b[34m\u001b[1mwandb\u001b[0m: \tnum_epochs: 5\n",
            "\u001b[34m\u001b[1mwandb\u001b[0m: \tnum_layers: 1\n"
          ]
        },
        {
          "output_type": "display_data",
          "data": {
            "text/plain": [
              "<IPython.core.display.HTML object>"
            ],
            "text/html": [
              "Ignoring project 'transliteration-sweep' when running a sweep."
            ]
          },
          "metadata": {}
        },
        {
          "output_type": "display_data",
          "data": {
            "text/plain": [
              "<IPython.core.display.HTML object>"
            ],
            "text/html": [
              "Tracking run with wandb version 0.19.11"
            ]
          },
          "metadata": {}
        },
        {
          "output_type": "display_data",
          "data": {
            "text/plain": [
              "<IPython.core.display.HTML object>"
            ],
            "text/html": [
              "Run data is saved locally in <code>/content/wandb/run-20250519_145127-3tazntcv</code>"
            ]
          },
          "metadata": {}
        },
        {
          "output_type": "display_data",
          "data": {
            "text/plain": [
              "<IPython.core.display.HTML object>"
            ],
            "text/html": [
              "Syncing run <strong><a href='https://wandb.ai/da24s016-indian-institute-of-technology-madras/da6401-assignment3_vanilla/runs/3tazntcv' target=\"_blank\">deft-sweep-4</a></strong> to <a href='https://wandb.ai/da24s016-indian-institute-of-technology-madras/da6401-assignment3_vanilla' target=\"_blank\">Weights & Biases</a> (<a href='https://wandb.me/developer-guide' target=\"_blank\">docs</a>)<br>Sweep page: <a href='https://wandb.ai/da24s016-indian-institute-of-technology-madras/da6401-assignment3_vanilla/sweeps/64v5oiu0' target=\"_blank\">https://wandb.ai/da24s016-indian-institute-of-technology-madras/da6401-assignment3_vanilla/sweeps/64v5oiu0</a>"
            ]
          },
          "metadata": {}
        },
        {
          "output_type": "display_data",
          "data": {
            "text/plain": [
              "<IPython.core.display.HTML object>"
            ],
            "text/html": [
              " View project at <a href='https://wandb.ai/da24s016-indian-institute-of-technology-madras/da6401-assignment3_vanilla' target=\"_blank\">https://wandb.ai/da24s016-indian-institute-of-technology-madras/da6401-assignment3_vanilla</a>"
            ]
          },
          "metadata": {}
        },
        {
          "output_type": "display_data",
          "data": {
            "text/plain": [
              "<IPython.core.display.HTML object>"
            ],
            "text/html": [
              " View sweep at <a href='https://wandb.ai/da24s016-indian-institute-of-technology-madras/da6401-assignment3_vanilla/sweeps/64v5oiu0' target=\"_blank\">https://wandb.ai/da24s016-indian-institute-of-technology-madras/da6401-assignment3_vanilla/sweeps/64v5oiu0</a>"
            ]
          },
          "metadata": {}
        },
        {
          "output_type": "display_data",
          "data": {
            "text/plain": [
              "<IPython.core.display.HTML object>"
            ],
            "text/html": [
              " View run at <a href='https://wandb.ai/da24s016-indian-institute-of-technology-madras/da6401-assignment3_vanilla/runs/3tazntcv' target=\"_blank\">https://wandb.ai/da24s016-indian-institute-of-technology-madras/da6401-assignment3_vanilla/runs/3tazntcv</a>"
            ]
          },
          "metadata": {}
        },
        {
          "output_type": "stream",
          "name": "stdout",
          "text": [
            "Using device: cuda\n",
            "Prepared 44204 pairs\n",
            "Input vocabulary size: 66\n",
            "Output vocabulary size: 29\n",
            "Prepared 4358 pairs\n",
            "Input vocabulary size: 66\n",
            "Output vocabulary size: 29\n",
            "Prepared 4502 pairs\n",
            "Input vocabulary size: 66\n",
            "Output vocabulary size: 29\n",
            "\n",
            "Epoch 1/5\n",
            "Train Loss: 2.4671 | Val Loss: 2.4352\n",
            "Val Accuracy: 0.29%\n",
            "\n",
            "Epoch 2/5\n",
            "Train Loss: 2.0806 | Val Loss: 2.1060\n",
            "Val Accuracy: 0.35%\n",
            "\n",
            "Epoch 3/5\n",
            "Train Loss: 1.7488 | Val Loss: 1.8830\n",
            "Val Accuracy: 0.41%\n",
            "\n",
            "Epoch 4/5\n",
            "Train Loss: 1.5540 | Val Loss: 1.7065\n",
            "Val Accuracy: 0.47%\n",
            "\n",
            "Epoch 5/5\n",
            "Train Loss: 1.3818 | Val Loss: 1.6017\n",
            "Val Accuracy: 0.50%\n",
            "\n",
            "Final Test Accuracy: 0.50%\n"
          ]
        },
        {
          "output_type": "display_data",
          "data": {
            "text/plain": [
              "<IPython.core.display.HTML object>"
            ],
            "text/html": []
          },
          "metadata": {}
        },
        {
          "output_type": "display_data",
          "data": {
            "text/plain": [
              "<IPython.core.display.HTML object>"
            ],
            "text/html": [
              "<br>    <style><br>        .wandb-row {<br>            display: flex;<br>            flex-direction: row;<br>            flex-wrap: wrap;<br>            justify-content: flex-start;<br>            width: 100%;<br>        }<br>        .wandb-col {<br>            display: flex;<br>            flex-direction: column;<br>            flex-basis: 100%;<br>            flex: 1;<br>            padding: 10px;<br>        }<br>    </style><br><div class=\"wandb-row\"><div class=\"wandb-col\"><h3>Run history:</h3><br/><table class=\"wandb\"><tr><td>epoch</td><td>▁▃▅▆█</td></tr><tr><td>final_test_accuracy</td><td>▁</td></tr><tr><td>final_test_loss</td><td>▁</td></tr><tr><td>learning_rate</td><td>▁▁▁▁▁</td></tr><tr><td>train_loss</td><td>█▆▃▂▁</td></tr><tr><td>val_accuracy</td><td>▁▃▅▇█</td></tr><tr><td>val_loss</td><td>█▅▃▂▁</td></tr></table><br/></div><div class=\"wandb-col\"><h3>Run summary:</h3><br/><table class=\"wandb\"><tr><td>epoch</td><td>4</td></tr><tr><td>final_test_accuracy</td><td>0.49609</td></tr><tr><td>final_test_loss</td><td>1.60497</td></tr><tr><td>learning_rate</td><td>0.0005</td></tr><tr><td>train_loss</td><td>1.38182</td></tr><tr><td>val_accuracy</td><td>0.49897</td></tr><tr><td>val_loss</td><td>1.60168</td></tr></table><br/></div></div>"
            ]
          },
          "metadata": {}
        },
        {
          "output_type": "display_data",
          "data": {
            "text/plain": [
              "<IPython.core.display.HTML object>"
            ],
            "text/html": [
              " View run <strong style=\"color:#cdcd00\">GRU_hs256_nl1_bs128_lr0.0005_do0.2</strong> at: <a href='https://wandb.ai/da24s016-indian-institute-of-technology-madras/da6401-assignment3_vanilla/runs/3tazntcv' target=\"_blank\">https://wandb.ai/da24s016-indian-institute-of-technology-madras/da6401-assignment3_vanilla/runs/3tazntcv</a><br> View project at: <a href='https://wandb.ai/da24s016-indian-institute-of-technology-madras/da6401-assignment3_vanilla' target=\"_blank\">https://wandb.ai/da24s016-indian-institute-of-technology-madras/da6401-assignment3_vanilla</a><br>Synced 5 W&B file(s), 0 media file(s), 0 artifact file(s) and 0 other file(s)"
            ]
          },
          "metadata": {}
        },
        {
          "output_type": "display_data",
          "data": {
            "text/plain": [
              "<IPython.core.display.HTML object>"
            ],
            "text/html": [
              "Find logs at: <code>./wandb/run-20250519_145127-3tazntcv/logs</code>"
            ]
          },
          "metadata": {}
        },
        {
          "output_type": "stream",
          "name": "stderr",
          "text": [
            "\u001b[34m\u001b[1mwandb\u001b[0m: Agent Starting Run: wbde3feo with config:\n",
            "\u001b[34m\u001b[1mwandb\u001b[0m: \tbatch_size: 128\n",
            "\u001b[34m\u001b[1mwandb\u001b[0m: \tcell_type: GRU\n",
            "\u001b[34m\u001b[1mwandb\u001b[0m: \tdropout: 0.3\n",
            "\u001b[34m\u001b[1mwandb\u001b[0m: \tembedding_size: 64\n",
            "\u001b[34m\u001b[1mwandb\u001b[0m: \thidden_size: 256\n",
            "\u001b[34m\u001b[1mwandb\u001b[0m: \tlearning_rate: 0.0001\n",
            "\u001b[34m\u001b[1mwandb\u001b[0m: \tnum_epochs: 5\n",
            "\u001b[34m\u001b[1mwandb\u001b[0m: \tnum_layers: 2\n"
          ]
        },
        {
          "output_type": "display_data",
          "data": {
            "text/plain": [
              "<IPython.core.display.HTML object>"
            ],
            "text/html": [
              "Ignoring project 'transliteration-sweep' when running a sweep."
            ]
          },
          "metadata": {}
        },
        {
          "output_type": "display_data",
          "data": {
            "text/plain": [
              "<IPython.core.display.HTML object>"
            ],
            "text/html": [
              "Tracking run with wandb version 0.19.11"
            ]
          },
          "metadata": {}
        },
        {
          "output_type": "display_data",
          "data": {
            "text/plain": [
              "<IPython.core.display.HTML object>"
            ],
            "text/html": [
              "Run data is saved locally in <code>/content/wandb/run-20250519_145354-wbde3feo</code>"
            ]
          },
          "metadata": {}
        },
        {
          "output_type": "display_data",
          "data": {
            "text/plain": [
              "<IPython.core.display.HTML object>"
            ],
            "text/html": [
              "Syncing run <strong><a href='https://wandb.ai/da24s016-indian-institute-of-technology-madras/da6401-assignment3_vanilla/runs/wbde3feo' target=\"_blank\">genial-sweep-5</a></strong> to <a href='https://wandb.ai/da24s016-indian-institute-of-technology-madras/da6401-assignment3_vanilla' target=\"_blank\">Weights & Biases</a> (<a href='https://wandb.me/developer-guide' target=\"_blank\">docs</a>)<br>Sweep page: <a href='https://wandb.ai/da24s016-indian-institute-of-technology-madras/da6401-assignment3_vanilla/sweeps/64v5oiu0' target=\"_blank\">https://wandb.ai/da24s016-indian-institute-of-technology-madras/da6401-assignment3_vanilla/sweeps/64v5oiu0</a>"
            ]
          },
          "metadata": {}
        },
        {
          "output_type": "display_data",
          "data": {
            "text/plain": [
              "<IPython.core.display.HTML object>"
            ],
            "text/html": [
              " View project at <a href='https://wandb.ai/da24s016-indian-institute-of-technology-madras/da6401-assignment3_vanilla' target=\"_blank\">https://wandb.ai/da24s016-indian-institute-of-technology-madras/da6401-assignment3_vanilla</a>"
            ]
          },
          "metadata": {}
        },
        {
          "output_type": "display_data",
          "data": {
            "text/plain": [
              "<IPython.core.display.HTML object>"
            ],
            "text/html": [
              " View sweep at <a href='https://wandb.ai/da24s016-indian-institute-of-technology-madras/da6401-assignment3_vanilla/sweeps/64v5oiu0' target=\"_blank\">https://wandb.ai/da24s016-indian-institute-of-technology-madras/da6401-assignment3_vanilla/sweeps/64v5oiu0</a>"
            ]
          },
          "metadata": {}
        },
        {
          "output_type": "display_data",
          "data": {
            "text/plain": [
              "<IPython.core.display.HTML object>"
            ],
            "text/html": [
              " View run at <a href='https://wandb.ai/da24s016-indian-institute-of-technology-madras/da6401-assignment3_vanilla/runs/wbde3feo' target=\"_blank\">https://wandb.ai/da24s016-indian-institute-of-technology-madras/da6401-assignment3_vanilla/runs/wbde3feo</a>"
            ]
          },
          "metadata": {}
        },
        {
          "output_type": "stream",
          "name": "stdout",
          "text": [
            "Using device: cuda\n",
            "Prepared 44204 pairs\n",
            "Input vocabulary size: 66\n",
            "Output vocabulary size: 29\n",
            "Prepared 4358 pairs\n",
            "Input vocabulary size: 66\n",
            "Output vocabulary size: 29\n",
            "Prepared 4502 pairs\n",
            "Input vocabulary size: 66\n",
            "Output vocabulary size: 29\n",
            "\n",
            "Epoch 1/5\n",
            "Train Loss: 2.6863 | Val Loss: 2.6692\n",
            "Val Accuracy: 0.24%\n",
            "\n",
            "Epoch 2/5\n",
            "Train Loss: 2.4496 | Val Loss: 2.5090\n",
            "Val Accuracy: 0.29%\n",
            "\n",
            "Epoch 3/5\n",
            "Train Loss: 2.3428 | Val Loss: 2.4233\n",
            "Val Accuracy: 0.30%\n",
            "\n",
            "Epoch 4/5\n",
            "Train Loss: 2.1897 | Val Loss: 2.2392\n",
            "Val Accuracy: 0.34%\n",
            "\n",
            "Epoch 5/5\n",
            "Train Loss: 1.9665 | Val Loss: 1.9698\n",
            "Val Accuracy: 0.41%\n",
            "\n",
            "Final Test Accuracy: 0.42%\n"
          ]
        },
        {
          "output_type": "display_data",
          "data": {
            "text/plain": [
              "<IPython.core.display.HTML object>"
            ],
            "text/html": []
          },
          "metadata": {}
        },
        {
          "output_type": "display_data",
          "data": {
            "text/plain": [
              "<IPython.core.display.HTML object>"
            ],
            "text/html": [
              "<br>    <style><br>        .wandb-row {<br>            display: flex;<br>            flex-direction: row;<br>            flex-wrap: wrap;<br>            justify-content: flex-start;<br>            width: 100%;<br>        }<br>        .wandb-col {<br>            display: flex;<br>            flex-direction: column;<br>            flex-basis: 100%;<br>            flex: 1;<br>            padding: 10px;<br>        }<br>    </style><br><div class=\"wandb-row\"><div class=\"wandb-col\"><h3>Run history:</h3><br/><table class=\"wandb\"><tr><td>epoch</td><td>▁▃▅▆█</td></tr><tr><td>final_test_accuracy</td><td>▁</td></tr><tr><td>final_test_loss</td><td>▁</td></tr><tr><td>learning_rate</td><td>▁▁▁▁▁</td></tr><tr><td>train_loss</td><td>█▆▅▃▁</td></tr><tr><td>val_accuracy</td><td>▁▃▄▅█</td></tr><tr><td>val_loss</td><td>█▆▆▄▁</td></tr></table><br/></div><div class=\"wandb-col\"><h3>Run summary:</h3><br/><table class=\"wandb\"><tr><td>epoch</td><td>4</td></tr><tr><td>final_test_accuracy</td><td>0.41555</td></tr><tr><td>final_test_loss</td><td>1.95343</td></tr><tr><td>learning_rate</td><td>0.0001</td></tr><tr><td>train_loss</td><td>1.96655</td></tr><tr><td>val_accuracy</td><td>0.41162</td></tr><tr><td>val_loss</td><td>1.96975</td></tr></table><br/></div></div>"
            ]
          },
          "metadata": {}
        },
        {
          "output_type": "display_data",
          "data": {
            "text/plain": [
              "<IPython.core.display.HTML object>"
            ],
            "text/html": [
              " View run <strong style=\"color:#cdcd00\">GRU_hs256_nl2_bs128_lr0.0001_do0.3</strong> at: <a href='https://wandb.ai/da24s016-indian-institute-of-technology-madras/da6401-assignment3_vanilla/runs/wbde3feo' target=\"_blank\">https://wandb.ai/da24s016-indian-institute-of-technology-madras/da6401-assignment3_vanilla/runs/wbde3feo</a><br> View project at: <a href='https://wandb.ai/da24s016-indian-institute-of-technology-madras/da6401-assignment3_vanilla' target=\"_blank\">https://wandb.ai/da24s016-indian-institute-of-technology-madras/da6401-assignment3_vanilla</a><br>Synced 5 W&B file(s), 0 media file(s), 0 artifact file(s) and 0 other file(s)"
            ]
          },
          "metadata": {}
        },
        {
          "output_type": "display_data",
          "data": {
            "text/plain": [
              "<IPython.core.display.HTML object>"
            ],
            "text/html": [
              "Find logs at: <code>./wandb/run-20250519_145354-wbde3feo/logs</code>"
            ]
          },
          "metadata": {}
        },
        {
          "output_type": "stream",
          "name": "stderr",
          "text": [
            "\u001b[34m\u001b[1mwandb\u001b[0m: Agent Starting Run: dz5pxntx with config:\n",
            "\u001b[34m\u001b[1mwandb\u001b[0m: \tbatch_size: 128\n",
            "\u001b[34m\u001b[1mwandb\u001b[0m: \tcell_type: LSTM\n",
            "\u001b[34m\u001b[1mwandb\u001b[0m: \tdropout: 0.3\n",
            "\u001b[34m\u001b[1mwandb\u001b[0m: \tembedding_size: 32\n",
            "\u001b[34m\u001b[1mwandb\u001b[0m: \thidden_size: 256\n",
            "\u001b[34m\u001b[1mwandb\u001b[0m: \tlearning_rate: 0.0001\n",
            "\u001b[34m\u001b[1mwandb\u001b[0m: \tnum_epochs: 5\n",
            "\u001b[34m\u001b[1mwandb\u001b[0m: \tnum_layers: 1\n"
          ]
        },
        {
          "output_type": "display_data",
          "data": {
            "text/plain": [
              "<IPython.core.display.HTML object>"
            ],
            "text/html": [
              "Ignoring project 'transliteration-sweep' when running a sweep."
            ]
          },
          "metadata": {}
        },
        {
          "output_type": "display_data",
          "data": {
            "text/plain": [
              "<IPython.core.display.HTML object>"
            ],
            "text/html": [
              "Tracking run with wandb version 0.19.11"
            ]
          },
          "metadata": {}
        },
        {
          "output_type": "display_data",
          "data": {
            "text/plain": [
              "<IPython.core.display.HTML object>"
            ],
            "text/html": [
              "Run data is saved locally in <code>/content/wandb/run-20250519_145703-dz5pxntx</code>"
            ]
          },
          "metadata": {}
        },
        {
          "output_type": "display_data",
          "data": {
            "text/plain": [
              "<IPython.core.display.HTML object>"
            ],
            "text/html": [
              "Syncing run <strong><a href='https://wandb.ai/da24s016-indian-institute-of-technology-madras/da6401-assignment3_vanilla/runs/dz5pxntx' target=\"_blank\">different-sweep-6</a></strong> to <a href='https://wandb.ai/da24s016-indian-institute-of-technology-madras/da6401-assignment3_vanilla' target=\"_blank\">Weights & Biases</a> (<a href='https://wandb.me/developer-guide' target=\"_blank\">docs</a>)<br>Sweep page: <a href='https://wandb.ai/da24s016-indian-institute-of-technology-madras/da6401-assignment3_vanilla/sweeps/64v5oiu0' target=\"_blank\">https://wandb.ai/da24s016-indian-institute-of-technology-madras/da6401-assignment3_vanilla/sweeps/64v5oiu0</a>"
            ]
          },
          "metadata": {}
        },
        {
          "output_type": "display_data",
          "data": {
            "text/plain": [
              "<IPython.core.display.HTML object>"
            ],
            "text/html": [
              " View project at <a href='https://wandb.ai/da24s016-indian-institute-of-technology-madras/da6401-assignment3_vanilla' target=\"_blank\">https://wandb.ai/da24s016-indian-institute-of-technology-madras/da6401-assignment3_vanilla</a>"
            ]
          },
          "metadata": {}
        },
        {
          "output_type": "display_data",
          "data": {
            "text/plain": [
              "<IPython.core.display.HTML object>"
            ],
            "text/html": [
              " View sweep at <a href='https://wandb.ai/da24s016-indian-institute-of-technology-madras/da6401-assignment3_vanilla/sweeps/64v5oiu0' target=\"_blank\">https://wandb.ai/da24s016-indian-institute-of-technology-madras/da6401-assignment3_vanilla/sweeps/64v5oiu0</a>"
            ]
          },
          "metadata": {}
        },
        {
          "output_type": "display_data",
          "data": {
            "text/plain": [
              "<IPython.core.display.HTML object>"
            ],
            "text/html": [
              " View run at <a href='https://wandb.ai/da24s016-indian-institute-of-technology-madras/da6401-assignment3_vanilla/runs/dz5pxntx' target=\"_blank\">https://wandb.ai/da24s016-indian-institute-of-technology-madras/da6401-assignment3_vanilla/runs/dz5pxntx</a>"
            ]
          },
          "metadata": {}
        },
        {
          "output_type": "stream",
          "name": "stdout",
          "text": [
            "Using device: cuda\n",
            "Prepared 44204 pairs\n",
            "Input vocabulary size: 66\n",
            "Output vocabulary size: 29\n",
            "Prepared 4358 pairs\n",
            "Input vocabulary size: 66\n",
            "Output vocabulary size: 29\n",
            "Prepared 4502 pairs\n",
            "Input vocabulary size: 66\n",
            "Output vocabulary size: 29\n",
            "\n",
            "Epoch 1/5\n",
            "Train Loss: 2.6808 | Val Loss: 2.6707\n",
            "Val Accuracy: 0.24%\n",
            "\n",
            "Epoch 2/5\n",
            "Train Loss: 2.5351 | Val Loss: 2.6673\n",
            "Val Accuracy: 0.24%\n",
            "\n",
            "Epoch 3/5\n",
            "Train Loss: 2.5111 | Val Loss: 2.6616\n",
            "Val Accuracy: 0.24%\n",
            "\n",
            "Epoch 4/5\n",
            "Train Loss: 2.4923 | Val Loss: 2.6182\n",
            "Val Accuracy: 0.25%\n",
            "\n",
            "Epoch 5/5\n",
            "Train Loss: 2.3574 | Val Loss: 2.4569\n",
            "Val Accuracy: 0.30%\n",
            "\n",
            "Final Test Accuracy: 0.30%\n"
          ]
        },
        {
          "output_type": "display_data",
          "data": {
            "text/plain": [
              "<IPython.core.display.HTML object>"
            ],
            "text/html": []
          },
          "metadata": {}
        },
        {
          "output_type": "display_data",
          "data": {
            "text/plain": [
              "<IPython.core.display.HTML object>"
            ],
            "text/html": [
              "<br>    <style><br>        .wandb-row {<br>            display: flex;<br>            flex-direction: row;<br>            flex-wrap: wrap;<br>            justify-content: flex-start;<br>            width: 100%;<br>        }<br>        .wandb-col {<br>            display: flex;<br>            flex-direction: column;<br>            flex-basis: 100%;<br>            flex: 1;<br>            padding: 10px;<br>        }<br>    </style><br><div class=\"wandb-row\"><div class=\"wandb-col\"><h3>Run history:</h3><br/><table class=\"wandb\"><tr><td>epoch</td><td>▁▃▅▆█</td></tr><tr><td>final_test_accuracy</td><td>▁</td></tr><tr><td>final_test_loss</td><td>▁</td></tr><tr><td>learning_rate</td><td>▁▁▁▁▁</td></tr><tr><td>train_loss</td><td>█▅▄▄▁</td></tr><tr><td>val_accuracy</td><td>▁▁▁▂█</td></tr><tr><td>val_loss</td><td>███▆▁</td></tr></table><br/></div><div class=\"wandb-col\"><h3>Run summary:</h3><br/><table class=\"wandb\"><tr><td>epoch</td><td>4</td></tr><tr><td>final_test_accuracy</td><td>0.3012</td></tr><tr><td>final_test_loss</td><td>2.43981</td></tr><tr><td>learning_rate</td><td>0.0001</td></tr><tr><td>train_loss</td><td>2.35736</td></tr><tr><td>val_accuracy</td><td>0.29536</td></tr><tr><td>val_loss</td><td>2.45691</td></tr></table><br/></div></div>"
            ]
          },
          "metadata": {}
        },
        {
          "output_type": "display_data",
          "data": {
            "text/plain": [
              "<IPython.core.display.HTML object>"
            ],
            "text/html": [
              " View run <strong style=\"color:#cdcd00\">LSTM_hs256_nl1_bs128_lr0.0001_do0.3</strong> at: <a href='https://wandb.ai/da24s016-indian-institute-of-technology-madras/da6401-assignment3_vanilla/runs/dz5pxntx' target=\"_blank\">https://wandb.ai/da24s016-indian-institute-of-technology-madras/da6401-assignment3_vanilla/runs/dz5pxntx</a><br> View project at: <a href='https://wandb.ai/da24s016-indian-institute-of-technology-madras/da6401-assignment3_vanilla' target=\"_blank\">https://wandb.ai/da24s016-indian-institute-of-technology-madras/da6401-assignment3_vanilla</a><br>Synced 5 W&B file(s), 0 media file(s), 0 artifact file(s) and 0 other file(s)"
            ]
          },
          "metadata": {}
        },
        {
          "output_type": "display_data",
          "data": {
            "text/plain": [
              "<IPython.core.display.HTML object>"
            ],
            "text/html": [
              "Find logs at: <code>./wandb/run-20250519_145703-dz5pxntx/logs</code>"
            ]
          },
          "metadata": {}
        },
        {
          "output_type": "stream",
          "name": "stderr",
          "text": [
            "\u001b[34m\u001b[1mwandb\u001b[0m: Agent Starting Run: akrxu4hl with config:\n",
            "\u001b[34m\u001b[1mwandb\u001b[0m: \tbatch_size: 128\n",
            "\u001b[34m\u001b[1mwandb\u001b[0m: \tcell_type: GRU\n",
            "\u001b[34m\u001b[1mwandb\u001b[0m: \tdropout: 0.3\n",
            "\u001b[34m\u001b[1mwandb\u001b[0m: \tembedding_size: 64\n",
            "\u001b[34m\u001b[1mwandb\u001b[0m: \thidden_size: 32\n",
            "\u001b[34m\u001b[1mwandb\u001b[0m: \tlearning_rate: 0.0001\n",
            "\u001b[34m\u001b[1mwandb\u001b[0m: \tnum_epochs: 5\n",
            "\u001b[34m\u001b[1mwandb\u001b[0m: \tnum_layers: 2\n"
          ]
        },
        {
          "output_type": "display_data",
          "data": {
            "text/plain": [
              "<IPython.core.display.HTML object>"
            ],
            "text/html": [
              "Ignoring project 'transliteration-sweep' when running a sweep."
            ]
          },
          "metadata": {}
        },
        {
          "output_type": "display_data",
          "data": {
            "text/plain": [
              "<IPython.core.display.HTML object>"
            ],
            "text/html": [
              "Tracking run with wandb version 0.19.11"
            ]
          },
          "metadata": {}
        },
        {
          "output_type": "display_data",
          "data": {
            "text/plain": [
              "<IPython.core.display.HTML object>"
            ],
            "text/html": [
              "Run data is saved locally in <code>/content/wandb/run-20250519_145940-akrxu4hl</code>"
            ]
          },
          "metadata": {}
        },
        {
          "output_type": "display_data",
          "data": {
            "text/plain": [
              "<IPython.core.display.HTML object>"
            ],
            "text/html": [
              "Syncing run <strong><a href='https://wandb.ai/da24s016-indian-institute-of-technology-madras/da6401-assignment3_vanilla/runs/akrxu4hl' target=\"_blank\">peach-sweep-7</a></strong> to <a href='https://wandb.ai/da24s016-indian-institute-of-technology-madras/da6401-assignment3_vanilla' target=\"_blank\">Weights & Biases</a> (<a href='https://wandb.me/developer-guide' target=\"_blank\">docs</a>)<br>Sweep page: <a href='https://wandb.ai/da24s016-indian-institute-of-technology-madras/da6401-assignment3_vanilla/sweeps/64v5oiu0' target=\"_blank\">https://wandb.ai/da24s016-indian-institute-of-technology-madras/da6401-assignment3_vanilla/sweeps/64v5oiu0</a>"
            ]
          },
          "metadata": {}
        },
        {
          "output_type": "display_data",
          "data": {
            "text/plain": [
              "<IPython.core.display.HTML object>"
            ],
            "text/html": [
              " View project at <a href='https://wandb.ai/da24s016-indian-institute-of-technology-madras/da6401-assignment3_vanilla' target=\"_blank\">https://wandb.ai/da24s016-indian-institute-of-technology-madras/da6401-assignment3_vanilla</a>"
            ]
          },
          "metadata": {}
        },
        {
          "output_type": "display_data",
          "data": {
            "text/plain": [
              "<IPython.core.display.HTML object>"
            ],
            "text/html": [
              " View sweep at <a href='https://wandb.ai/da24s016-indian-institute-of-technology-madras/da6401-assignment3_vanilla/sweeps/64v5oiu0' target=\"_blank\">https://wandb.ai/da24s016-indian-institute-of-technology-madras/da6401-assignment3_vanilla/sweeps/64v5oiu0</a>"
            ]
          },
          "metadata": {}
        },
        {
          "output_type": "display_data",
          "data": {
            "text/plain": [
              "<IPython.core.display.HTML object>"
            ],
            "text/html": [
              " View run at <a href='https://wandb.ai/da24s016-indian-institute-of-technology-madras/da6401-assignment3_vanilla/runs/akrxu4hl' target=\"_blank\">https://wandb.ai/da24s016-indian-institute-of-technology-madras/da6401-assignment3_vanilla/runs/akrxu4hl</a>"
            ]
          },
          "metadata": {}
        },
        {
          "output_type": "stream",
          "name": "stdout",
          "text": [
            "Using device: cuda\n",
            "Prepared 44204 pairs\n",
            "Input vocabulary size: 66\n",
            "Output vocabulary size: 29\n",
            "Prepared 4358 pairs\n",
            "Input vocabulary size: 66\n",
            "Output vocabulary size: 29\n",
            "Prepared 4502 pairs\n",
            "Input vocabulary size: 66\n",
            "Output vocabulary size: 29\n",
            "\n",
            "Epoch 1/5\n",
            "Train Loss: 3.0386 | Val Loss: 2.8196\n",
            "Val Accuracy: 0.23%\n",
            "\n",
            "Epoch 2/5\n",
            "Train Loss: 2.7713 | Val Loss: 2.7461\n",
            "Val Accuracy: 0.24%\n",
            "\n",
            "Epoch 3/5\n",
            "Train Loss: 2.7294 | Val Loss: 2.7243\n",
            "Val Accuracy: 0.24%\n",
            "\n",
            "Epoch 4/5\n",
            "Train Loss: 2.7096 | Val Loss: 2.7085\n",
            "Val Accuracy: 0.24%\n",
            "\n",
            "Epoch 5/5\n",
            "Train Loss: 2.6865 | Val Loss: 2.6672\n",
            "Val Accuracy: 0.26%\n",
            "\n",
            "Final Test Accuracy: 0.27%\n"
          ]
        },
        {
          "output_type": "display_data",
          "data": {
            "text/plain": [
              "<IPython.core.display.HTML object>"
            ],
            "text/html": []
          },
          "metadata": {}
        },
        {
          "output_type": "display_data",
          "data": {
            "text/plain": [
              "<IPython.core.display.HTML object>"
            ],
            "text/html": [
              "<br>    <style><br>        .wandb-row {<br>            display: flex;<br>            flex-direction: row;<br>            flex-wrap: wrap;<br>            justify-content: flex-start;<br>            width: 100%;<br>        }<br>        .wandb-col {<br>            display: flex;<br>            flex-direction: column;<br>            flex-basis: 100%;<br>            flex: 1;<br>            padding: 10px;<br>        }<br>    </style><br><div class=\"wandb-row\"><div class=\"wandb-col\"><h3>Run history:</h3><br/><table class=\"wandb\"><tr><td>epoch</td><td>▁▃▅▆█</td></tr><tr><td>final_test_accuracy</td><td>▁</td></tr><tr><td>final_test_loss</td><td>▁</td></tr><tr><td>learning_rate</td><td>▁▁▁▁▁</td></tr><tr><td>train_loss</td><td>█▃▂▁▁</td></tr><tr><td>val_accuracy</td><td>▁▃▃▃█</td></tr><tr><td>val_loss</td><td>█▅▄▃▁</td></tr></table><br/></div><div class=\"wandb-col\"><h3>Run summary:</h3><br/><table class=\"wandb\"><tr><td>epoch</td><td>4</td></tr><tr><td>final_test_accuracy</td><td>0.26725</td></tr><tr><td>final_test_loss</td><td>2.64952</td></tr><tr><td>learning_rate</td><td>0.0001</td></tr><tr><td>train_loss</td><td>2.68645</td></tr><tr><td>val_accuracy</td><td>0.25841</td></tr><tr><td>val_loss</td><td>2.66721</td></tr></table><br/></div></div>"
            ]
          },
          "metadata": {}
        },
        {
          "output_type": "display_data",
          "data": {
            "text/plain": [
              "<IPython.core.display.HTML object>"
            ],
            "text/html": [
              " View run <strong style=\"color:#cdcd00\">GRU_hs32_nl2_bs128_lr0.0001_do0.3</strong> at: <a href='https://wandb.ai/da24s016-indian-institute-of-technology-madras/da6401-assignment3_vanilla/runs/akrxu4hl' target=\"_blank\">https://wandb.ai/da24s016-indian-institute-of-technology-madras/da6401-assignment3_vanilla/runs/akrxu4hl</a><br> View project at: <a href='https://wandb.ai/da24s016-indian-institute-of-technology-madras/da6401-assignment3_vanilla' target=\"_blank\">https://wandb.ai/da24s016-indian-institute-of-technology-madras/da6401-assignment3_vanilla</a><br>Synced 5 W&B file(s), 0 media file(s), 0 artifact file(s) and 0 other file(s)"
            ]
          },
          "metadata": {}
        },
        {
          "output_type": "display_data",
          "data": {
            "text/plain": [
              "<IPython.core.display.HTML object>"
            ],
            "text/html": [
              "Find logs at: <code>./wandb/run-20250519_145940-akrxu4hl/logs</code>"
            ]
          },
          "metadata": {}
        },
        {
          "output_type": "stream",
          "name": "stderr",
          "text": [
            "\u001b[34m\u001b[1mwandb\u001b[0m: Agent Starting Run: lbibpog1 with config:\n",
            "\u001b[34m\u001b[1mwandb\u001b[0m: \tbatch_size: 128\n",
            "\u001b[34m\u001b[1mwandb\u001b[0m: \tcell_type: GRU\n",
            "\u001b[34m\u001b[1mwandb\u001b[0m: \tdropout: 0.3\n",
            "\u001b[34m\u001b[1mwandb\u001b[0m: \tembedding_size: 64\n",
            "\u001b[34m\u001b[1mwandb\u001b[0m: \thidden_size: 256\n",
            "\u001b[34m\u001b[1mwandb\u001b[0m: \tlearning_rate: 0.0005\n",
            "\u001b[34m\u001b[1mwandb\u001b[0m: \tnum_epochs: 5\n",
            "\u001b[34m\u001b[1mwandb\u001b[0m: \tnum_layers: 2\n"
          ]
        },
        {
          "output_type": "display_data",
          "data": {
            "text/plain": [
              "<IPython.core.display.HTML object>"
            ],
            "text/html": [
              "Ignoring project 'transliteration-sweep' when running a sweep."
            ]
          },
          "metadata": {}
        },
        {
          "output_type": "display_data",
          "data": {
            "text/plain": [
              "<IPython.core.display.HTML object>"
            ],
            "text/html": [
              "Tracking run with wandb version 0.19.11"
            ]
          },
          "metadata": {}
        },
        {
          "output_type": "display_data",
          "data": {
            "text/plain": [
              "<IPython.core.display.HTML object>"
            ],
            "text/html": [
              "Run data is saved locally in <code>/content/wandb/run-20250519_150227-lbibpog1</code>"
            ]
          },
          "metadata": {}
        },
        {
          "output_type": "display_data",
          "data": {
            "text/plain": [
              "<IPython.core.display.HTML object>"
            ],
            "text/html": [
              "Syncing run <strong><a href='https://wandb.ai/da24s016-indian-institute-of-technology-madras/da6401-assignment3_vanilla/runs/lbibpog1' target=\"_blank\">warm-sweep-8</a></strong> to <a href='https://wandb.ai/da24s016-indian-institute-of-technology-madras/da6401-assignment3_vanilla' target=\"_blank\">Weights & Biases</a> (<a href='https://wandb.me/developer-guide' target=\"_blank\">docs</a>)<br>Sweep page: <a href='https://wandb.ai/da24s016-indian-institute-of-technology-madras/da6401-assignment3_vanilla/sweeps/64v5oiu0' target=\"_blank\">https://wandb.ai/da24s016-indian-institute-of-technology-madras/da6401-assignment3_vanilla/sweeps/64v5oiu0</a>"
            ]
          },
          "metadata": {}
        },
        {
          "output_type": "display_data",
          "data": {
            "text/plain": [
              "<IPython.core.display.HTML object>"
            ],
            "text/html": [
              " View project at <a href='https://wandb.ai/da24s016-indian-institute-of-technology-madras/da6401-assignment3_vanilla' target=\"_blank\">https://wandb.ai/da24s016-indian-institute-of-technology-madras/da6401-assignment3_vanilla</a>"
            ]
          },
          "metadata": {}
        },
        {
          "output_type": "display_data",
          "data": {
            "text/plain": [
              "<IPython.core.display.HTML object>"
            ],
            "text/html": [
              " View sweep at <a href='https://wandb.ai/da24s016-indian-institute-of-technology-madras/da6401-assignment3_vanilla/sweeps/64v5oiu0' target=\"_blank\">https://wandb.ai/da24s016-indian-institute-of-technology-madras/da6401-assignment3_vanilla/sweeps/64v5oiu0</a>"
            ]
          },
          "metadata": {}
        },
        {
          "output_type": "display_data",
          "data": {
            "text/plain": [
              "<IPython.core.display.HTML object>"
            ],
            "text/html": [
              " View run at <a href='https://wandb.ai/da24s016-indian-institute-of-technology-madras/da6401-assignment3_vanilla/runs/lbibpog1' target=\"_blank\">https://wandb.ai/da24s016-indian-institute-of-technology-madras/da6401-assignment3_vanilla/runs/lbibpog1</a>"
            ]
          },
          "metadata": {}
        },
        {
          "output_type": "stream",
          "name": "stdout",
          "text": [
            "Using device: cuda\n",
            "Prepared 44204 pairs\n",
            "Input vocabulary size: 66\n",
            "Output vocabulary size: 29\n",
            "Prepared 4358 pairs\n",
            "Input vocabulary size: 66\n",
            "Output vocabulary size: 29\n",
            "Prepared 4502 pairs\n",
            "Input vocabulary size: 66\n",
            "Output vocabulary size: 29\n",
            "\n",
            "Epoch 1/5\n",
            "Train Loss: 2.3556 | Val Loss: 1.8790\n",
            "Val Accuracy: 0.42%\n",
            "\n",
            "Epoch 2/5\n",
            "Train Loss: 1.2933 | Val Loss: 1.1616\n",
            "Val Accuracy: 0.62%\n",
            "\n",
            "Epoch 3/5\n",
            "Train Loss: 0.9157 | Val Loss: 0.9954\n",
            "Val Accuracy: 0.67%\n",
            "\n",
            "Epoch 4/5\n",
            "Train Loss: 0.7781 | Val Loss: 0.9150\n",
            "Val Accuracy: 0.69%\n",
            "\n",
            "Epoch 5/5\n",
            "Train Loss: 0.7061 | Val Loss: 0.8864\n",
            "Val Accuracy: 0.71%\n",
            "\n",
            "Final Test Accuracy: 0.71%\n"
          ]
        },
        {
          "output_type": "display_data",
          "data": {
            "text/plain": [
              "<IPython.core.display.HTML object>"
            ],
            "text/html": []
          },
          "metadata": {}
        },
        {
          "output_type": "display_data",
          "data": {
            "text/plain": [
              "<IPython.core.display.HTML object>"
            ],
            "text/html": [
              "<br>    <style><br>        .wandb-row {<br>            display: flex;<br>            flex-direction: row;<br>            flex-wrap: wrap;<br>            justify-content: flex-start;<br>            width: 100%;<br>        }<br>        .wandb-col {<br>            display: flex;<br>            flex-direction: column;<br>            flex-basis: 100%;<br>            flex: 1;<br>            padding: 10px;<br>        }<br>    </style><br><div class=\"wandb-row\"><div class=\"wandb-col\"><h3>Run history:</h3><br/><table class=\"wandb\"><tr><td>epoch</td><td>▁▃▅▆█</td></tr><tr><td>final_test_accuracy</td><td>▁</td></tr><tr><td>final_test_loss</td><td>▁</td></tr><tr><td>learning_rate</td><td>▁▁▁▁▁</td></tr><tr><td>train_loss</td><td>█▃▂▁▁</td></tr><tr><td>val_accuracy</td><td>▁▆▇██</td></tr><tr><td>val_loss</td><td>█▃▂▁▁</td></tr></table><br/></div><div class=\"wandb-col\"><h3>Run summary:</h3><br/><table class=\"wandb\"><tr><td>epoch</td><td>4</td></tr><tr><td>final_test_accuracy</td><td>0.70743</td></tr><tr><td>final_test_loss</td><td>0.87389</td></tr><tr><td>learning_rate</td><td>0.0005</td></tr><tr><td>train_loss</td><td>0.70612</td></tr><tr><td>val_accuracy</td><td>0.70533</td></tr><tr><td>val_loss</td><td>0.88642</td></tr></table><br/></div></div>"
            ]
          },
          "metadata": {}
        },
        {
          "output_type": "display_data",
          "data": {
            "text/plain": [
              "<IPython.core.display.HTML object>"
            ],
            "text/html": [
              " View run <strong style=\"color:#cdcd00\">GRU_hs256_nl2_bs128_lr0.0005_do0.3</strong> at: <a href='https://wandb.ai/da24s016-indian-institute-of-technology-madras/da6401-assignment3_vanilla/runs/lbibpog1' target=\"_blank\">https://wandb.ai/da24s016-indian-institute-of-technology-madras/da6401-assignment3_vanilla/runs/lbibpog1</a><br> View project at: <a href='https://wandb.ai/da24s016-indian-institute-of-technology-madras/da6401-assignment3_vanilla' target=\"_blank\">https://wandb.ai/da24s016-indian-institute-of-technology-madras/da6401-assignment3_vanilla</a><br>Synced 5 W&B file(s), 0 media file(s), 0 artifact file(s) and 0 other file(s)"
            ]
          },
          "metadata": {}
        },
        {
          "output_type": "display_data",
          "data": {
            "text/plain": [
              "<IPython.core.display.HTML object>"
            ],
            "text/html": [
              "Find logs at: <code>./wandb/run-20250519_150227-lbibpog1/logs</code>"
            ]
          },
          "metadata": {}
        },
        {
          "output_type": "stream",
          "name": "stderr",
          "text": [
            "\u001b[34m\u001b[1mwandb\u001b[0m: Agent Starting Run: 8wgp4x8x with config:\n",
            "\u001b[34m\u001b[1mwandb\u001b[0m: \tbatch_size: 128\n",
            "\u001b[34m\u001b[1mwandb\u001b[0m: \tcell_type: GRU\n",
            "\u001b[34m\u001b[1mwandb\u001b[0m: \tdropout: 0.3\n",
            "\u001b[34m\u001b[1mwandb\u001b[0m: \tembedding_size: 32\n",
            "\u001b[34m\u001b[1mwandb\u001b[0m: \thidden_size: 256\n",
            "\u001b[34m\u001b[1mwandb\u001b[0m: \tlearning_rate: 0.0005\n",
            "\u001b[34m\u001b[1mwandb\u001b[0m: \tnum_epochs: 5\n",
            "\u001b[34m\u001b[1mwandb\u001b[0m: \tnum_layers: 2\n"
          ]
        },
        {
          "output_type": "display_data",
          "data": {
            "text/plain": [
              "<IPython.core.display.HTML object>"
            ],
            "text/html": [
              "Ignoring project 'transliteration-sweep' when running a sweep."
            ]
          },
          "metadata": {}
        },
        {
          "output_type": "display_data",
          "data": {
            "text/plain": [
              "<IPython.core.display.HTML object>"
            ],
            "text/html": [
              "Tracking run with wandb version 0.19.11"
            ]
          },
          "metadata": {}
        },
        {
          "output_type": "display_data",
          "data": {
            "text/plain": [
              "<IPython.core.display.HTML object>"
            ],
            "text/html": [
              "Run data is saved locally in <code>/content/wandb/run-20250519_150530-8wgp4x8x</code>"
            ]
          },
          "metadata": {}
        },
        {
          "output_type": "display_data",
          "data": {
            "text/plain": [
              "<IPython.core.display.HTML object>"
            ],
            "text/html": [
              "Syncing run <strong><a href='https://wandb.ai/da24s016-indian-institute-of-technology-madras/da6401-assignment3_vanilla/runs/8wgp4x8x' target=\"_blank\">charmed-sweep-9</a></strong> to <a href='https://wandb.ai/da24s016-indian-institute-of-technology-madras/da6401-assignment3_vanilla' target=\"_blank\">Weights & Biases</a> (<a href='https://wandb.me/developer-guide' target=\"_blank\">docs</a>)<br>Sweep page: <a href='https://wandb.ai/da24s016-indian-institute-of-technology-madras/da6401-assignment3_vanilla/sweeps/64v5oiu0' target=\"_blank\">https://wandb.ai/da24s016-indian-institute-of-technology-madras/da6401-assignment3_vanilla/sweeps/64v5oiu0</a>"
            ]
          },
          "metadata": {}
        },
        {
          "output_type": "display_data",
          "data": {
            "text/plain": [
              "<IPython.core.display.HTML object>"
            ],
            "text/html": [
              " View project at <a href='https://wandb.ai/da24s016-indian-institute-of-technology-madras/da6401-assignment3_vanilla' target=\"_blank\">https://wandb.ai/da24s016-indian-institute-of-technology-madras/da6401-assignment3_vanilla</a>"
            ]
          },
          "metadata": {}
        },
        {
          "output_type": "display_data",
          "data": {
            "text/plain": [
              "<IPython.core.display.HTML object>"
            ],
            "text/html": [
              " View sweep at <a href='https://wandb.ai/da24s016-indian-institute-of-technology-madras/da6401-assignment3_vanilla/sweeps/64v5oiu0' target=\"_blank\">https://wandb.ai/da24s016-indian-institute-of-technology-madras/da6401-assignment3_vanilla/sweeps/64v5oiu0</a>"
            ]
          },
          "metadata": {}
        },
        {
          "output_type": "display_data",
          "data": {
            "text/plain": [
              "<IPython.core.display.HTML object>"
            ],
            "text/html": [
              " View run at <a href='https://wandb.ai/da24s016-indian-institute-of-technology-madras/da6401-assignment3_vanilla/runs/8wgp4x8x' target=\"_blank\">https://wandb.ai/da24s016-indian-institute-of-technology-madras/da6401-assignment3_vanilla/runs/8wgp4x8x</a>"
            ]
          },
          "metadata": {}
        },
        {
          "output_type": "stream",
          "name": "stdout",
          "text": [
            "Using device: cuda\n",
            "Prepared 44204 pairs\n",
            "Input vocabulary size: 66\n",
            "Output vocabulary size: 29\n",
            "Prepared 4358 pairs\n",
            "Input vocabulary size: 66\n",
            "Output vocabulary size: 29\n",
            "Prepared 4502 pairs\n",
            "Input vocabulary size: 66\n",
            "Output vocabulary size: 29\n",
            "\n",
            "Epoch 1/5\n",
            "Train Loss: 2.2411 | Val Loss: 1.6592\n",
            "Val Accuracy: 0.46%\n",
            "\n",
            "Epoch 2/5\n",
            "Train Loss: 1.1650 | Val Loss: 1.1005\n",
            "Val Accuracy: 0.63%\n",
            "\n",
            "Epoch 3/5\n",
            "Train Loss: 0.8653 | Val Loss: 0.9570\n",
            "Val Accuracy: 0.68%\n",
            "\n",
            "Epoch 4/5\n",
            "Train Loss: 0.7454 | Val Loss: 0.9048\n",
            "Val Accuracy: 0.70%\n",
            "\n",
            "Epoch 5/5\n",
            "Train Loss: 0.6722 | Val Loss: 0.8977\n",
            "Val Accuracy: 0.71%\n",
            "\n",
            "Final Test Accuracy: 0.71%\n"
          ]
        },
        {
          "output_type": "display_data",
          "data": {
            "text/plain": [
              "<IPython.core.display.HTML object>"
            ],
            "text/html": []
          },
          "metadata": {}
        },
        {
          "output_type": "display_data",
          "data": {
            "text/plain": [
              "<IPython.core.display.HTML object>"
            ],
            "text/html": [
              "<br>    <style><br>        .wandb-row {<br>            display: flex;<br>            flex-direction: row;<br>            flex-wrap: wrap;<br>            justify-content: flex-start;<br>            width: 100%;<br>        }<br>        .wandb-col {<br>            display: flex;<br>            flex-direction: column;<br>            flex-basis: 100%;<br>            flex: 1;<br>            padding: 10px;<br>        }<br>    </style><br><div class=\"wandb-row\"><div class=\"wandb-col\"><h3>Run history:</h3><br/><table class=\"wandb\"><tr><td>epoch</td><td>▁▃▅▆█</td></tr><tr><td>final_test_accuracy</td><td>▁</td></tr><tr><td>final_test_loss</td><td>▁</td></tr><tr><td>learning_rate</td><td>▁▁▁▁▁</td></tr><tr><td>train_loss</td><td>█▃▂▁▁</td></tr><tr><td>val_accuracy</td><td>▁▆▇██</td></tr><tr><td>val_loss</td><td>█▃▂▁▁</td></tr></table><br/></div><div class=\"wandb-col\"><h3>Run summary:</h3><br/><table class=\"wandb\"><tr><td>epoch</td><td>4</td></tr><tr><td>final_test_accuracy</td><td>0.71099</td></tr><tr><td>final_test_loss</td><td>0.87698</td></tr><tr><td>learning_rate</td><td>0.0005</td></tr><tr><td>train_loss</td><td>0.67218</td></tr><tr><td>val_accuracy</td><td>0.70661</td></tr><tr><td>val_loss</td><td>0.89765</td></tr></table><br/></div></div>"
            ]
          },
          "metadata": {}
        },
        {
          "output_type": "display_data",
          "data": {
            "text/plain": [
              "<IPython.core.display.HTML object>"
            ],
            "text/html": [
              " View run <strong style=\"color:#cdcd00\">GRU_hs256_nl2_bs128_lr0.0005_do0.3</strong> at: <a href='https://wandb.ai/da24s016-indian-institute-of-technology-madras/da6401-assignment3_vanilla/runs/8wgp4x8x' target=\"_blank\">https://wandb.ai/da24s016-indian-institute-of-technology-madras/da6401-assignment3_vanilla/runs/8wgp4x8x</a><br> View project at: <a href='https://wandb.ai/da24s016-indian-institute-of-technology-madras/da6401-assignment3_vanilla' target=\"_blank\">https://wandb.ai/da24s016-indian-institute-of-technology-madras/da6401-assignment3_vanilla</a><br>Synced 5 W&B file(s), 0 media file(s), 0 artifact file(s) and 0 other file(s)"
            ]
          },
          "metadata": {}
        },
        {
          "output_type": "display_data",
          "data": {
            "text/plain": [
              "<IPython.core.display.HTML object>"
            ],
            "text/html": [
              "Find logs at: <code>./wandb/run-20250519_150530-8wgp4x8x/logs</code>"
            ]
          },
          "metadata": {}
        },
        {
          "output_type": "stream",
          "name": "stderr",
          "text": [
            "\u001b[34m\u001b[1mwandb\u001b[0m: Agent Starting Run: 1ya43w0b with config:\n",
            "\u001b[34m\u001b[1mwandb\u001b[0m: \tbatch_size: 128\n",
            "\u001b[34m\u001b[1mwandb\u001b[0m: \tcell_type: LSTM\n",
            "\u001b[34m\u001b[1mwandb\u001b[0m: \tdropout: 0.3\n",
            "\u001b[34m\u001b[1mwandb\u001b[0m: \tembedding_size: 64\n",
            "\u001b[34m\u001b[1mwandb\u001b[0m: \thidden_size: 256\n",
            "\u001b[34m\u001b[1mwandb\u001b[0m: \tlearning_rate: 0.001\n",
            "\u001b[34m\u001b[1mwandb\u001b[0m: \tnum_epochs: 5\n",
            "\u001b[34m\u001b[1mwandb\u001b[0m: \tnum_layers: 3\n"
          ]
        },
        {
          "output_type": "display_data",
          "data": {
            "text/plain": [
              "<IPython.core.display.HTML object>"
            ],
            "text/html": [
              "Ignoring project 'transliteration-sweep' when running a sweep."
            ]
          },
          "metadata": {}
        },
        {
          "output_type": "display_data",
          "data": {
            "text/plain": [
              "<IPython.core.display.HTML object>"
            ],
            "text/html": [
              "Tracking run with wandb version 0.19.11"
            ]
          },
          "metadata": {}
        },
        {
          "output_type": "display_data",
          "data": {
            "text/plain": [
              "<IPython.core.display.HTML object>"
            ],
            "text/html": [
              "Run data is saved locally in <code>/content/wandb/run-20250519_150843-1ya43w0b</code>"
            ]
          },
          "metadata": {}
        },
        {
          "output_type": "display_data",
          "data": {
            "text/plain": [
              "<IPython.core.display.HTML object>"
            ],
            "text/html": [
              "Syncing run <strong><a href='https://wandb.ai/da24s016-indian-institute-of-technology-madras/da6401-assignment3_vanilla/runs/1ya43w0b' target=\"_blank\">deft-sweep-10</a></strong> to <a href='https://wandb.ai/da24s016-indian-institute-of-technology-madras/da6401-assignment3_vanilla' target=\"_blank\">Weights & Biases</a> (<a href='https://wandb.me/developer-guide' target=\"_blank\">docs</a>)<br>Sweep page: <a href='https://wandb.ai/da24s016-indian-institute-of-technology-madras/da6401-assignment3_vanilla/sweeps/64v5oiu0' target=\"_blank\">https://wandb.ai/da24s016-indian-institute-of-technology-madras/da6401-assignment3_vanilla/sweeps/64v5oiu0</a>"
            ]
          },
          "metadata": {}
        },
        {
          "output_type": "display_data",
          "data": {
            "text/plain": [
              "<IPython.core.display.HTML object>"
            ],
            "text/html": [
              " View project at <a href='https://wandb.ai/da24s016-indian-institute-of-technology-madras/da6401-assignment3_vanilla' target=\"_blank\">https://wandb.ai/da24s016-indian-institute-of-technology-madras/da6401-assignment3_vanilla</a>"
            ]
          },
          "metadata": {}
        },
        {
          "output_type": "display_data",
          "data": {
            "text/plain": [
              "<IPython.core.display.HTML object>"
            ],
            "text/html": [
              " View sweep at <a href='https://wandb.ai/da24s016-indian-institute-of-technology-madras/da6401-assignment3_vanilla/sweeps/64v5oiu0' target=\"_blank\">https://wandb.ai/da24s016-indian-institute-of-technology-madras/da6401-assignment3_vanilla/sweeps/64v5oiu0</a>"
            ]
          },
          "metadata": {}
        },
        {
          "output_type": "display_data",
          "data": {
            "text/plain": [
              "<IPython.core.display.HTML object>"
            ],
            "text/html": [
              " View run at <a href='https://wandb.ai/da24s016-indian-institute-of-technology-madras/da6401-assignment3_vanilla/runs/1ya43w0b' target=\"_blank\">https://wandb.ai/da24s016-indian-institute-of-technology-madras/da6401-assignment3_vanilla/runs/1ya43w0b</a>"
            ]
          },
          "metadata": {}
        },
        {
          "output_type": "stream",
          "name": "stdout",
          "text": [
            "Using device: cuda\n",
            "Prepared 44204 pairs\n",
            "Input vocabulary size: 66\n",
            "Output vocabulary size: 29\n",
            "Prepared 4358 pairs\n",
            "Input vocabulary size: 66\n",
            "Output vocabulary size: 29\n",
            "Prepared 4502 pairs\n",
            "Input vocabulary size: 66\n",
            "Output vocabulary size: 29\n",
            "\n",
            "Epoch 1/5\n",
            "Train Loss: 2.5453 | Val Loss: 2.5163\n",
            "Val Accuracy: 0.29%\n",
            "\n",
            "Epoch 2/5\n",
            "Train Loss: 2.1945 | Val Loss: 2.0169\n",
            "Val Accuracy: 0.38%\n",
            "\n",
            "Epoch 3/5\n",
            "Train Loss: 1.5768 | Val Loss: 1.4432\n",
            "Val Accuracy: 0.53%\n",
            "\n",
            "Epoch 4/5\n",
            "Train Loss: 1.1005 | Val Loss: 1.0911\n",
            "Val Accuracy: 0.65%\n",
            "\n",
            "Epoch 5/5\n",
            "Train Loss: 0.8638 | Val Loss: 0.9866\n",
            "Val Accuracy: 0.69%\n",
            "\n",
            "Final Test Accuracy: 0.68%\n"
          ]
        },
        {
          "output_type": "display_data",
          "data": {
            "text/plain": [
              "<IPython.core.display.HTML object>"
            ],
            "text/html": []
          },
          "metadata": {}
        },
        {
          "output_type": "display_data",
          "data": {
            "text/plain": [
              "<IPython.core.display.HTML object>"
            ],
            "text/html": [
              "<br>    <style><br>        .wandb-row {<br>            display: flex;<br>            flex-direction: row;<br>            flex-wrap: wrap;<br>            justify-content: flex-start;<br>            width: 100%;<br>        }<br>        .wandb-col {<br>            display: flex;<br>            flex-direction: column;<br>            flex-basis: 100%;<br>            flex: 1;<br>            padding: 10px;<br>        }<br>    </style><br><div class=\"wandb-row\"><div class=\"wandb-col\"><h3>Run history:</h3><br/><table class=\"wandb\"><tr><td>epoch</td><td>▁▃▅▆█</td></tr><tr><td>final_test_accuracy</td><td>▁</td></tr><tr><td>final_test_loss</td><td>▁</td></tr><tr><td>learning_rate</td><td>▁▁▁▁▁</td></tr><tr><td>train_loss</td><td>█▇▄▂▁</td></tr><tr><td>val_accuracy</td><td>▁▃▅▇█</td></tr><tr><td>val_loss</td><td>█▆▃▁▁</td></tr></table><br/></div><div class=\"wandb-col\"><h3>Run summary:</h3><br/><table class=\"wandb\"><tr><td>epoch</td><td>4</td></tr><tr><td>final_test_accuracy</td><td>0.68456</td></tr><tr><td>final_test_loss</td><td>0.98071</td></tr><tr><td>learning_rate</td><td>0.001</td></tr><tr><td>train_loss</td><td>0.86382</td></tr><tr><td>val_accuracy</td><td>0.68528</td></tr><tr><td>val_loss</td><td>0.9866</td></tr></table><br/></div></div>"
            ]
          },
          "metadata": {}
        },
        {
          "output_type": "display_data",
          "data": {
            "text/plain": [
              "<IPython.core.display.HTML object>"
            ],
            "text/html": [
              " View run <strong style=\"color:#cdcd00\">LSTM_hs256_nl3_bs128_lr0.001_do0.3</strong> at: <a href='https://wandb.ai/da24s016-indian-institute-of-technology-madras/da6401-assignment3_vanilla/runs/1ya43w0b' target=\"_blank\">https://wandb.ai/da24s016-indian-institute-of-technology-madras/da6401-assignment3_vanilla/runs/1ya43w0b</a><br> View project at: <a href='https://wandb.ai/da24s016-indian-institute-of-technology-madras/da6401-assignment3_vanilla' target=\"_blank\">https://wandb.ai/da24s016-indian-institute-of-technology-madras/da6401-assignment3_vanilla</a><br>Synced 5 W&B file(s), 0 media file(s), 0 artifact file(s) and 0 other file(s)"
            ]
          },
          "metadata": {}
        },
        {
          "output_type": "display_data",
          "data": {
            "text/plain": [
              "<IPython.core.display.HTML object>"
            ],
            "text/html": [
              "Find logs at: <code>./wandb/run-20250519_150843-1ya43w0b/logs</code>"
            ]
          },
          "metadata": {}
        },
        {
          "output_type": "stream",
          "name": "stderr",
          "text": [
            "\u001b[34m\u001b[1mwandb\u001b[0m: Agent Starting Run: tpw87qbq with config:\n",
            "\u001b[34m\u001b[1mwandb\u001b[0m: \tbatch_size: 128\n",
            "\u001b[34m\u001b[1mwandb\u001b[0m: \tcell_type: LSTM\n",
            "\u001b[34m\u001b[1mwandb\u001b[0m: \tdropout: 0.3\n",
            "\u001b[34m\u001b[1mwandb\u001b[0m: \tembedding_size: 64\n",
            "\u001b[34m\u001b[1mwandb\u001b[0m: \thidden_size: 256\n",
            "\u001b[34m\u001b[1mwandb\u001b[0m: \tlearning_rate: 0.001\n",
            "\u001b[34m\u001b[1mwandb\u001b[0m: \tnum_epochs: 5\n",
            "\u001b[34m\u001b[1mwandb\u001b[0m: \tnum_layers: 2\n"
          ]
        },
        {
          "output_type": "display_data",
          "data": {
            "text/plain": [
              "<IPython.core.display.HTML object>"
            ],
            "text/html": [
              "Ignoring project 'transliteration-sweep' when running a sweep."
            ]
          },
          "metadata": {}
        },
        {
          "output_type": "display_data",
          "data": {
            "text/plain": [
              "<IPython.core.display.HTML object>"
            ],
            "text/html": [
              "Tracking run with wandb version 0.19.11"
            ]
          },
          "metadata": {}
        },
        {
          "output_type": "display_data",
          "data": {
            "text/plain": [
              "<IPython.core.display.HTML object>"
            ],
            "text/html": [
              "Run data is saved locally in <code>/content/wandb/run-20250519_151256-tpw87qbq</code>"
            ]
          },
          "metadata": {}
        },
        {
          "output_type": "display_data",
          "data": {
            "text/plain": [
              "<IPython.core.display.HTML object>"
            ],
            "text/html": [
              "Syncing run <strong><a href='https://wandb.ai/da24s016-indian-institute-of-technology-madras/da6401-assignment3_vanilla/runs/tpw87qbq' target=\"_blank\">splendid-sweep-11</a></strong> to <a href='https://wandb.ai/da24s016-indian-institute-of-technology-madras/da6401-assignment3_vanilla' target=\"_blank\">Weights & Biases</a> (<a href='https://wandb.me/developer-guide' target=\"_blank\">docs</a>)<br>Sweep page: <a href='https://wandb.ai/da24s016-indian-institute-of-technology-madras/da6401-assignment3_vanilla/sweeps/64v5oiu0' target=\"_blank\">https://wandb.ai/da24s016-indian-institute-of-technology-madras/da6401-assignment3_vanilla/sweeps/64v5oiu0</a>"
            ]
          },
          "metadata": {}
        },
        {
          "output_type": "display_data",
          "data": {
            "text/plain": [
              "<IPython.core.display.HTML object>"
            ],
            "text/html": [
              " View project at <a href='https://wandb.ai/da24s016-indian-institute-of-technology-madras/da6401-assignment3_vanilla' target=\"_blank\">https://wandb.ai/da24s016-indian-institute-of-technology-madras/da6401-assignment3_vanilla</a>"
            ]
          },
          "metadata": {}
        },
        {
          "output_type": "display_data",
          "data": {
            "text/plain": [
              "<IPython.core.display.HTML object>"
            ],
            "text/html": [
              " View sweep at <a href='https://wandb.ai/da24s016-indian-institute-of-technology-madras/da6401-assignment3_vanilla/sweeps/64v5oiu0' target=\"_blank\">https://wandb.ai/da24s016-indian-institute-of-technology-madras/da6401-assignment3_vanilla/sweeps/64v5oiu0</a>"
            ]
          },
          "metadata": {}
        },
        {
          "output_type": "display_data",
          "data": {
            "text/plain": [
              "<IPython.core.display.HTML object>"
            ],
            "text/html": [
              " View run at <a href='https://wandb.ai/da24s016-indian-institute-of-technology-madras/da6401-assignment3_vanilla/runs/tpw87qbq' target=\"_blank\">https://wandb.ai/da24s016-indian-institute-of-technology-madras/da6401-assignment3_vanilla/runs/tpw87qbq</a>"
            ]
          },
          "metadata": {}
        },
        {
          "output_type": "stream",
          "name": "stdout",
          "text": [
            "Using device: cuda\n",
            "Prepared 44204 pairs\n",
            "Input vocabulary size: 66\n",
            "Output vocabulary size: 29\n",
            "Prepared 4358 pairs\n",
            "Input vocabulary size: 66\n",
            "Output vocabulary size: 29\n",
            "Prepared 4502 pairs\n",
            "Input vocabulary size: 66\n",
            "Output vocabulary size: 29\n",
            "\n",
            "Epoch 1/5\n",
            "Train Loss: 2.5381 | Val Loss: 2.5478\n",
            "Val Accuracy: 0.28%\n",
            "\n",
            "Epoch 2/5\n",
            "Train Loss: 2.2131 | Val Loss: 2.0296\n",
            "Val Accuracy: 0.39%\n",
            "\n",
            "Epoch 3/5\n",
            "Train Loss: 1.4641 | Val Loss: 1.3518\n",
            "Val Accuracy: 0.56%\n",
            "\n",
            "Epoch 4/5\n",
            "Train Loss: 1.0226 | Val Loss: 1.0616\n",
            "Val Accuracy: 0.65%\n",
            "\n",
            "Epoch 5/5\n",
            "Train Loss: 0.8235 | Val Loss: 0.9682\n",
            "Val Accuracy: 0.68%\n",
            "\n",
            "Final Test Accuracy: 0.68%\n"
          ]
        },
        {
          "output_type": "display_data",
          "data": {
            "text/plain": [
              "<IPython.core.display.HTML object>"
            ],
            "text/html": []
          },
          "metadata": {}
        },
        {
          "output_type": "display_data",
          "data": {
            "text/plain": [
              "<IPython.core.display.HTML object>"
            ],
            "text/html": [
              "<br>    <style><br>        .wandb-row {<br>            display: flex;<br>            flex-direction: row;<br>            flex-wrap: wrap;<br>            justify-content: flex-start;<br>            width: 100%;<br>        }<br>        .wandb-col {<br>            display: flex;<br>            flex-direction: column;<br>            flex-basis: 100%;<br>            flex: 1;<br>            padding: 10px;<br>        }<br>    </style><br><div class=\"wandb-row\"><div class=\"wandb-col\"><h3>Run history:</h3><br/><table class=\"wandb\"><tr><td>epoch</td><td>▁▃▅▆█</td></tr><tr><td>final_test_accuracy</td><td>▁</td></tr><tr><td>final_test_loss</td><td>▁</td></tr><tr><td>learning_rate</td><td>▁▁▁▁▁</td></tr><tr><td>train_loss</td><td>█▇▄▂▁</td></tr><tr><td>val_accuracy</td><td>▁▃▆██</td></tr><tr><td>val_loss</td><td>█▆▃▁▁</td></tr></table><br/></div><div class=\"wandb-col\"><h3>Run summary:</h3><br/><table class=\"wandb\"><tr><td>epoch</td><td>4</td></tr><tr><td>final_test_accuracy</td><td>0.68016</td></tr><tr><td>final_test_loss</td><td>0.9594</td></tr><tr><td>learning_rate</td><td>0.001</td></tr><tr><td>train_loss</td><td>0.82345</td></tr><tr><td>val_accuracy</td><td>0.67811</td></tr><tr><td>val_loss</td><td>0.96817</td></tr></table><br/></div></div>"
            ]
          },
          "metadata": {}
        },
        {
          "output_type": "display_data",
          "data": {
            "text/plain": [
              "<IPython.core.display.HTML object>"
            ],
            "text/html": [
              " View run <strong style=\"color:#cdcd00\">LSTM_hs256_nl2_bs128_lr0.001_do0.3</strong> at: <a href='https://wandb.ai/da24s016-indian-institute-of-technology-madras/da6401-assignment3_vanilla/runs/tpw87qbq' target=\"_blank\">https://wandb.ai/da24s016-indian-institute-of-technology-madras/da6401-assignment3_vanilla/runs/tpw87qbq</a><br> View project at: <a href='https://wandb.ai/da24s016-indian-institute-of-technology-madras/da6401-assignment3_vanilla' target=\"_blank\">https://wandb.ai/da24s016-indian-institute-of-technology-madras/da6401-assignment3_vanilla</a><br>Synced 5 W&B file(s), 0 media file(s), 0 artifact file(s) and 0 other file(s)"
            ]
          },
          "metadata": {}
        },
        {
          "output_type": "display_data",
          "data": {
            "text/plain": [
              "<IPython.core.display.HTML object>"
            ],
            "text/html": [
              "Find logs at: <code>./wandb/run-20250519_151256-tpw87qbq/logs</code>"
            ]
          },
          "metadata": {}
        },
        {
          "output_type": "stream",
          "name": "stderr",
          "text": [
            "\u001b[34m\u001b[1mwandb\u001b[0m: Agent Starting Run: kitj43nj with config:\n",
            "\u001b[34m\u001b[1mwandb\u001b[0m: \tbatch_size: 128\n",
            "\u001b[34m\u001b[1mwandb\u001b[0m: \tcell_type: LSTM\n",
            "\u001b[34m\u001b[1mwandb\u001b[0m: \tdropout: 0.3\n",
            "\u001b[34m\u001b[1mwandb\u001b[0m: \tembedding_size: 32\n",
            "\u001b[34m\u001b[1mwandb\u001b[0m: \thidden_size: 256\n",
            "\u001b[34m\u001b[1mwandb\u001b[0m: \tlearning_rate: 0.001\n",
            "\u001b[34m\u001b[1mwandb\u001b[0m: \tnum_epochs: 5\n",
            "\u001b[34m\u001b[1mwandb\u001b[0m: \tnum_layers: 3\n"
          ]
        },
        {
          "output_type": "display_data",
          "data": {
            "text/plain": [
              "<IPython.core.display.HTML object>"
            ],
            "text/html": [
              "Ignoring project 'transliteration-sweep' when running a sweep."
            ]
          },
          "metadata": {}
        },
        {
          "output_type": "display_data",
          "data": {
            "text/plain": [
              "<IPython.core.display.HTML object>"
            ],
            "text/html": [
              "Tracking run with wandb version 0.19.11"
            ]
          },
          "metadata": {}
        },
        {
          "output_type": "display_data",
          "data": {
            "text/plain": [
              "<IPython.core.display.HTML object>"
            ],
            "text/html": [
              "Run data is saved locally in <code>/content/wandb/run-20250519_151629-kitj43nj</code>"
            ]
          },
          "metadata": {}
        },
        {
          "output_type": "display_data",
          "data": {
            "text/plain": [
              "<IPython.core.display.HTML object>"
            ],
            "text/html": [
              "Syncing run <strong><a href='https://wandb.ai/da24s016-indian-institute-of-technology-madras/da6401-assignment3_vanilla/runs/kitj43nj' target=\"_blank\">sparkling-sweep-12</a></strong> to <a href='https://wandb.ai/da24s016-indian-institute-of-technology-madras/da6401-assignment3_vanilla' target=\"_blank\">Weights & Biases</a> (<a href='https://wandb.me/developer-guide' target=\"_blank\">docs</a>)<br>Sweep page: <a href='https://wandb.ai/da24s016-indian-institute-of-technology-madras/da6401-assignment3_vanilla/sweeps/64v5oiu0' target=\"_blank\">https://wandb.ai/da24s016-indian-institute-of-technology-madras/da6401-assignment3_vanilla/sweeps/64v5oiu0</a>"
            ]
          },
          "metadata": {}
        },
        {
          "output_type": "display_data",
          "data": {
            "text/plain": [
              "<IPython.core.display.HTML object>"
            ],
            "text/html": [
              " View project at <a href='https://wandb.ai/da24s016-indian-institute-of-technology-madras/da6401-assignment3_vanilla' target=\"_blank\">https://wandb.ai/da24s016-indian-institute-of-technology-madras/da6401-assignment3_vanilla</a>"
            ]
          },
          "metadata": {}
        },
        {
          "output_type": "display_data",
          "data": {
            "text/plain": [
              "<IPython.core.display.HTML object>"
            ],
            "text/html": [
              " View sweep at <a href='https://wandb.ai/da24s016-indian-institute-of-technology-madras/da6401-assignment3_vanilla/sweeps/64v5oiu0' target=\"_blank\">https://wandb.ai/da24s016-indian-institute-of-technology-madras/da6401-assignment3_vanilla/sweeps/64v5oiu0</a>"
            ]
          },
          "metadata": {}
        },
        {
          "output_type": "display_data",
          "data": {
            "text/plain": [
              "<IPython.core.display.HTML object>"
            ],
            "text/html": [
              " View run at <a href='https://wandb.ai/da24s016-indian-institute-of-technology-madras/da6401-assignment3_vanilla/runs/kitj43nj' target=\"_blank\">https://wandb.ai/da24s016-indian-institute-of-technology-madras/da6401-assignment3_vanilla/runs/kitj43nj</a>"
            ]
          },
          "metadata": {}
        },
        {
          "output_type": "stream",
          "name": "stdout",
          "text": [
            "Using device: cuda\n",
            "Prepared 44204 pairs\n",
            "Input vocabulary size: 66\n",
            "Output vocabulary size: 29\n",
            "Prepared 4358 pairs\n",
            "Input vocabulary size: 66\n",
            "Output vocabulary size: 29\n",
            "Prepared 4502 pairs\n",
            "Input vocabulary size: 66\n",
            "Output vocabulary size: 29\n",
            "\n",
            "Epoch 1/5\n",
            "Train Loss: 2.5467 | Val Loss: 2.5247\n",
            "Val Accuracy: 0.28%\n",
            "\n",
            "Epoch 2/5\n",
            "Train Loss: 2.3497 | Val Loss: 2.4256\n",
            "Val Accuracy: 0.29%\n",
            "\n",
            "Epoch 3/5\n",
            "Train Loss: 2.0554 | Val Loss: 1.8428\n",
            "Val Accuracy: 0.43%\n",
            "\n",
            "Epoch 4/5\n",
            "Train Loss: 1.4067 | Val Loss: 1.2745\n",
            "Val Accuracy: 0.59%\n",
            "\n",
            "Epoch 5/5\n",
            "Train Loss: 1.0226 | Val Loss: 1.0404\n",
            "Val Accuracy: 0.66%\n",
            "\n",
            "Final Test Accuracy: 0.66%\n"
          ]
        },
        {
          "output_type": "display_data",
          "data": {
            "text/plain": [
              "<IPython.core.display.HTML object>"
            ],
            "text/html": []
          },
          "metadata": {}
        },
        {
          "output_type": "display_data",
          "data": {
            "text/plain": [
              "<IPython.core.display.HTML object>"
            ],
            "text/html": [
              "<br>    <style><br>        .wandb-row {<br>            display: flex;<br>            flex-direction: row;<br>            flex-wrap: wrap;<br>            justify-content: flex-start;<br>            width: 100%;<br>        }<br>        .wandb-col {<br>            display: flex;<br>            flex-direction: column;<br>            flex-basis: 100%;<br>            flex: 1;<br>            padding: 10px;<br>        }<br>    </style><br><div class=\"wandb-row\"><div class=\"wandb-col\"><h3>Run history:</h3><br/><table class=\"wandb\"><tr><td>epoch</td><td>▁▃▅▆█</td></tr><tr><td>final_test_accuracy</td><td>▁</td></tr><tr><td>final_test_loss</td><td>▁</td></tr><tr><td>learning_rate</td><td>▁▁▁▁▁</td></tr><tr><td>train_loss</td><td>█▇▆▃▁</td></tr><tr><td>val_accuracy</td><td>▁▁▄▇█</td></tr><tr><td>val_loss</td><td>██▅▂▁</td></tr></table><br/></div><div class=\"wandb-col\"><h3>Run summary:</h3><br/><table class=\"wandb\"><tr><td>epoch</td><td>4</td></tr><tr><td>final_test_accuracy</td><td>0.65769</td></tr><tr><td>final_test_loss</td><td>1.0309</td></tr><tr><td>learning_rate</td><td>0.001</td></tr><tr><td>train_loss</td><td>1.02259</td></tr><tr><td>val_accuracy</td><td>0.65912</td></tr><tr><td>val_loss</td><td>1.04041</td></tr></table><br/></div></div>"
            ]
          },
          "metadata": {}
        },
        {
          "output_type": "display_data",
          "data": {
            "text/plain": [
              "<IPython.core.display.HTML object>"
            ],
            "text/html": [
              " View run <strong style=\"color:#cdcd00\">LSTM_hs256_nl3_bs128_lr0.001_do0.3</strong> at: <a href='https://wandb.ai/da24s016-indian-institute-of-technology-madras/da6401-assignment3_vanilla/runs/kitj43nj' target=\"_blank\">https://wandb.ai/da24s016-indian-institute-of-technology-madras/da6401-assignment3_vanilla/runs/kitj43nj</a><br> View project at: <a href='https://wandb.ai/da24s016-indian-institute-of-technology-madras/da6401-assignment3_vanilla' target=\"_blank\">https://wandb.ai/da24s016-indian-institute-of-technology-madras/da6401-assignment3_vanilla</a><br>Synced 5 W&B file(s), 0 media file(s), 0 artifact file(s) and 0 other file(s)"
            ]
          },
          "metadata": {}
        },
        {
          "output_type": "display_data",
          "data": {
            "text/plain": [
              "<IPython.core.display.HTML object>"
            ],
            "text/html": [
              "Find logs at: <code>./wandb/run-20250519_151629-kitj43nj/logs</code>"
            ]
          },
          "metadata": {}
        },
        {
          "output_type": "stream",
          "name": "stderr",
          "text": [
            "\u001b[34m\u001b[1mwandb\u001b[0m: Agent Starting Run: zmywuppv with config:\n",
            "\u001b[34m\u001b[1mwandb\u001b[0m: \tbatch_size: 128\n",
            "\u001b[34m\u001b[1mwandb\u001b[0m: \tcell_type: GRU\n",
            "\u001b[34m\u001b[1mwandb\u001b[0m: \tdropout: 0.3\n",
            "\u001b[34m\u001b[1mwandb\u001b[0m: \tembedding_size: 64\n",
            "\u001b[34m\u001b[1mwandb\u001b[0m: \thidden_size: 256\n",
            "\u001b[34m\u001b[1mwandb\u001b[0m: \tlearning_rate: 0.001\n",
            "\u001b[34m\u001b[1mwandb\u001b[0m: \tnum_epochs: 5\n",
            "\u001b[34m\u001b[1mwandb\u001b[0m: \tnum_layers: 3\n"
          ]
        },
        {
          "output_type": "display_data",
          "data": {
            "text/plain": [
              "<IPython.core.display.HTML object>"
            ],
            "text/html": [
              "Ignoring project 'transliteration-sweep' when running a sweep."
            ]
          },
          "metadata": {}
        },
        {
          "output_type": "display_data",
          "data": {
            "text/plain": [
              "<IPython.core.display.HTML object>"
            ],
            "text/html": [
              "Tracking run with wandb version 0.19.11"
            ]
          },
          "metadata": {}
        },
        {
          "output_type": "display_data",
          "data": {
            "text/plain": [
              "<IPython.core.display.HTML object>"
            ],
            "text/html": [
              "Run data is saved locally in <code>/content/wandb/run-20250519_152044-zmywuppv</code>"
            ]
          },
          "metadata": {}
        },
        {
          "output_type": "display_data",
          "data": {
            "text/plain": [
              "<IPython.core.display.HTML object>"
            ],
            "text/html": [
              "Syncing run <strong><a href='https://wandb.ai/da24s016-indian-institute-of-technology-madras/da6401-assignment3_vanilla/runs/zmywuppv' target=\"_blank\">different-sweep-13</a></strong> to <a href='https://wandb.ai/da24s016-indian-institute-of-technology-madras/da6401-assignment3_vanilla' target=\"_blank\">Weights & Biases</a> (<a href='https://wandb.me/developer-guide' target=\"_blank\">docs</a>)<br>Sweep page: <a href='https://wandb.ai/da24s016-indian-institute-of-technology-madras/da6401-assignment3_vanilla/sweeps/64v5oiu0' target=\"_blank\">https://wandb.ai/da24s016-indian-institute-of-technology-madras/da6401-assignment3_vanilla/sweeps/64v5oiu0</a>"
            ]
          },
          "metadata": {}
        },
        {
          "output_type": "display_data",
          "data": {
            "text/plain": [
              "<IPython.core.display.HTML object>"
            ],
            "text/html": [
              " View project at <a href='https://wandb.ai/da24s016-indian-institute-of-technology-madras/da6401-assignment3_vanilla' target=\"_blank\">https://wandb.ai/da24s016-indian-institute-of-technology-madras/da6401-assignment3_vanilla</a>"
            ]
          },
          "metadata": {}
        },
        {
          "output_type": "display_data",
          "data": {
            "text/plain": [
              "<IPython.core.display.HTML object>"
            ],
            "text/html": [
              " View sweep at <a href='https://wandb.ai/da24s016-indian-institute-of-technology-madras/da6401-assignment3_vanilla/sweeps/64v5oiu0' target=\"_blank\">https://wandb.ai/da24s016-indian-institute-of-technology-madras/da6401-assignment3_vanilla/sweeps/64v5oiu0</a>"
            ]
          },
          "metadata": {}
        },
        {
          "output_type": "display_data",
          "data": {
            "text/plain": [
              "<IPython.core.display.HTML object>"
            ],
            "text/html": [
              " View run at <a href='https://wandb.ai/da24s016-indian-institute-of-technology-madras/da6401-assignment3_vanilla/runs/zmywuppv' target=\"_blank\">https://wandb.ai/da24s016-indian-institute-of-technology-madras/da6401-assignment3_vanilla/runs/zmywuppv</a>"
            ]
          },
          "metadata": {}
        },
        {
          "output_type": "stream",
          "name": "stdout",
          "text": [
            "Using device: cuda\n",
            "Prepared 44204 pairs\n",
            "Input vocabulary size: 66\n",
            "Output vocabulary size: 29\n",
            "Prepared 4358 pairs\n",
            "Input vocabulary size: 66\n",
            "Output vocabulary size: 29\n",
            "Prepared 4502 pairs\n",
            "Input vocabulary size: 66\n",
            "Output vocabulary size: 29\n",
            "\n",
            "Epoch 1/5\n",
            "Train Loss: 1.9051 | Val Loss: 1.2199\n",
            "Val Accuracy: 0.60%\n",
            "\n",
            "Epoch 2/5\n",
            "Train Loss: 0.9096 | Val Loss: 0.9605\n",
            "Val Accuracy: 0.69%\n",
            "\n",
            "Epoch 3/5\n",
            "Train Loss: 0.7370 | Val Loss: 0.8912\n",
            "Val Accuracy: 0.71%\n",
            "\n",
            "Epoch 4/5\n",
            "Train Loss: 0.6581 | Val Loss: 0.8839\n",
            "Val Accuracy: 0.71%\n",
            "\n",
            "Epoch 5/5\n",
            "Train Loss: 0.6100 | Val Loss: 0.8220\n",
            "Val Accuracy: 0.73%\n",
            "\n",
            "Final Test Accuracy: 0.73%\n"
          ]
        },
        {
          "output_type": "display_data",
          "data": {
            "text/plain": [
              "<IPython.core.display.HTML object>"
            ],
            "text/html": []
          },
          "metadata": {}
        },
        {
          "output_type": "display_data",
          "data": {
            "text/plain": [
              "<IPython.core.display.HTML object>"
            ],
            "text/html": [
              "<br>    <style><br>        .wandb-row {<br>            display: flex;<br>            flex-direction: row;<br>            flex-wrap: wrap;<br>            justify-content: flex-start;<br>            width: 100%;<br>        }<br>        .wandb-col {<br>            display: flex;<br>            flex-direction: column;<br>            flex-basis: 100%;<br>            flex: 1;<br>            padding: 10px;<br>        }<br>    </style><br><div class=\"wandb-row\"><div class=\"wandb-col\"><h3>Run history:</h3><br/><table class=\"wandb\"><tr><td>epoch</td><td>▁▃▅▆█</td></tr><tr><td>final_test_accuracy</td><td>▁</td></tr><tr><td>final_test_loss</td><td>▁</td></tr><tr><td>learning_rate</td><td>▁▁▁▁▁</td></tr><tr><td>train_loss</td><td>█▃▂▁▁</td></tr><tr><td>val_accuracy</td><td>▁▆▇▇█</td></tr><tr><td>val_loss</td><td>█▃▂▂▁</td></tr></table><br/></div><div class=\"wandb-col\"><h3>Run summary:</h3><br/><table class=\"wandb\"><tr><td>epoch</td><td>4</td></tr><tr><td>final_test_accuracy</td><td>0.72732</td></tr><tr><td>final_test_loss</td><td>0.8309</td></tr><tr><td>learning_rate</td><td>0.001</td></tr><tr><td>train_loss</td><td>0.61001</td></tr><tr><td>val_accuracy</td><td>0.72874</td></tr><tr><td>val_loss</td><td>0.82195</td></tr></table><br/></div></div>"
            ]
          },
          "metadata": {}
        },
        {
          "output_type": "display_data",
          "data": {
            "text/plain": [
              "<IPython.core.display.HTML object>"
            ],
            "text/html": [
              " View run <strong style=\"color:#cdcd00\">GRU_hs256_nl3_bs128_lr0.001_do0.3</strong> at: <a href='https://wandb.ai/da24s016-indian-institute-of-technology-madras/da6401-assignment3_vanilla/runs/zmywuppv' target=\"_blank\">https://wandb.ai/da24s016-indian-institute-of-technology-madras/da6401-assignment3_vanilla/runs/zmywuppv</a><br> View project at: <a href='https://wandb.ai/da24s016-indian-institute-of-technology-madras/da6401-assignment3_vanilla' target=\"_blank\">https://wandb.ai/da24s016-indian-institute-of-technology-madras/da6401-assignment3_vanilla</a><br>Synced 5 W&B file(s), 0 media file(s), 0 artifact file(s) and 0 other file(s)"
            ]
          },
          "metadata": {}
        },
        {
          "output_type": "display_data",
          "data": {
            "text/plain": [
              "<IPython.core.display.HTML object>"
            ],
            "text/html": [
              "Find logs at: <code>./wandb/run-20250519_152044-zmywuppv/logs</code>"
            ]
          },
          "metadata": {}
        },
        {
          "output_type": "stream",
          "name": "stderr",
          "text": [
            "\u001b[34m\u001b[1mwandb\u001b[0m: Agent Starting Run: txzkbl0d with config:\n",
            "\u001b[34m\u001b[1mwandb\u001b[0m: \tbatch_size: 128\n",
            "\u001b[34m\u001b[1mwandb\u001b[0m: \tcell_type: LSTM\n",
            "\u001b[34m\u001b[1mwandb\u001b[0m: \tdropout: 0.3\n",
            "\u001b[34m\u001b[1mwandb\u001b[0m: \tembedding_size: 64\n",
            "\u001b[34m\u001b[1mwandb\u001b[0m: \thidden_size: 256\n",
            "\u001b[34m\u001b[1mwandb\u001b[0m: \tlearning_rate: 0.001\n",
            "\u001b[34m\u001b[1mwandb\u001b[0m: \tnum_epochs: 5\n",
            "\u001b[34m\u001b[1mwandb\u001b[0m: \tnum_layers: 2\n"
          ]
        },
        {
          "output_type": "display_data",
          "data": {
            "text/plain": [
              "<IPython.core.display.HTML object>"
            ],
            "text/html": [
              "Ignoring project 'transliteration-sweep' when running a sweep."
            ]
          },
          "metadata": {}
        },
        {
          "output_type": "display_data",
          "data": {
            "text/plain": [
              "<IPython.core.display.HTML object>"
            ],
            "text/html": [
              "Tracking run with wandb version 0.19.11"
            ]
          },
          "metadata": {}
        },
        {
          "output_type": "display_data",
          "data": {
            "text/plain": [
              "<IPython.core.display.HTML object>"
            ],
            "text/html": [
              "Run data is saved locally in <code>/content/wandb/run-20250519_152426-txzkbl0d</code>"
            ]
          },
          "metadata": {}
        },
        {
          "output_type": "display_data",
          "data": {
            "text/plain": [
              "<IPython.core.display.HTML object>"
            ],
            "text/html": [
              "Syncing run <strong><a href='https://wandb.ai/da24s016-indian-institute-of-technology-madras/da6401-assignment3_vanilla/runs/txzkbl0d' target=\"_blank\">celestial-sweep-14</a></strong> to <a href='https://wandb.ai/da24s016-indian-institute-of-technology-madras/da6401-assignment3_vanilla' target=\"_blank\">Weights & Biases</a> (<a href='https://wandb.me/developer-guide' target=\"_blank\">docs</a>)<br>Sweep page: <a href='https://wandb.ai/da24s016-indian-institute-of-technology-madras/da6401-assignment3_vanilla/sweeps/64v5oiu0' target=\"_blank\">https://wandb.ai/da24s016-indian-institute-of-technology-madras/da6401-assignment3_vanilla/sweeps/64v5oiu0</a>"
            ]
          },
          "metadata": {}
        },
        {
          "output_type": "display_data",
          "data": {
            "text/plain": [
              "<IPython.core.display.HTML object>"
            ],
            "text/html": [
              " View project at <a href='https://wandb.ai/da24s016-indian-institute-of-technology-madras/da6401-assignment3_vanilla' target=\"_blank\">https://wandb.ai/da24s016-indian-institute-of-technology-madras/da6401-assignment3_vanilla</a>"
            ]
          },
          "metadata": {}
        },
        {
          "output_type": "display_data",
          "data": {
            "text/plain": [
              "<IPython.core.display.HTML object>"
            ],
            "text/html": [
              " View sweep at <a href='https://wandb.ai/da24s016-indian-institute-of-technology-madras/da6401-assignment3_vanilla/sweeps/64v5oiu0' target=\"_blank\">https://wandb.ai/da24s016-indian-institute-of-technology-madras/da6401-assignment3_vanilla/sweeps/64v5oiu0</a>"
            ]
          },
          "metadata": {}
        },
        {
          "output_type": "display_data",
          "data": {
            "text/plain": [
              "<IPython.core.display.HTML object>"
            ],
            "text/html": [
              " View run at <a href='https://wandb.ai/da24s016-indian-institute-of-technology-madras/da6401-assignment3_vanilla/runs/txzkbl0d' target=\"_blank\">https://wandb.ai/da24s016-indian-institute-of-technology-madras/da6401-assignment3_vanilla/runs/txzkbl0d</a>"
            ]
          },
          "metadata": {}
        },
        {
          "output_type": "stream",
          "name": "stdout",
          "text": [
            "Using device: cuda\n",
            "Prepared 44204 pairs\n",
            "Input vocabulary size: 66\n",
            "Output vocabulary size: 29\n",
            "Prepared 4358 pairs\n",
            "Input vocabulary size: 66\n",
            "Output vocabulary size: 29\n",
            "Prepared 4502 pairs\n",
            "Input vocabulary size: 66\n",
            "Output vocabulary size: 29\n",
            "\n",
            "Epoch 1/5\n",
            "Train Loss: 2.5346 | Val Loss: 2.5561\n",
            "Val Accuracy: 0.27%\n",
            "\n",
            "Epoch 2/5\n",
            "Train Loss: 2.1119 | Val Loss: 1.8588\n",
            "Val Accuracy: 0.41%\n",
            "\n",
            "Epoch 3/5\n",
            "Train Loss: 1.2345 | Val Loss: 1.1245\n",
            "Val Accuracy: 0.63%\n",
            "\n",
            "Epoch 4/5\n",
            "Train Loss: 0.8611 | Val Loss: 0.9634\n",
            "Val Accuracy: 0.68%\n",
            "\n",
            "Epoch 5/5\n",
            "Train Loss: 0.7319 | Val Loss: 0.9006\n",
            "Val Accuracy: 0.70%\n",
            "\n",
            "Final Test Accuracy: 0.71%\n"
          ]
        },
        {
          "output_type": "display_data",
          "data": {
            "text/plain": [
              "<IPython.core.display.HTML object>"
            ],
            "text/html": []
          },
          "metadata": {}
        },
        {
          "output_type": "display_data",
          "data": {
            "text/plain": [
              "<IPython.core.display.HTML object>"
            ],
            "text/html": [
              "<br>    <style><br>        .wandb-row {<br>            display: flex;<br>            flex-direction: row;<br>            flex-wrap: wrap;<br>            justify-content: flex-start;<br>            width: 100%;<br>        }<br>        .wandb-col {<br>            display: flex;<br>            flex-direction: column;<br>            flex-basis: 100%;<br>            flex: 1;<br>            padding: 10px;<br>        }<br>    </style><br><div class=\"wandb-row\"><div class=\"wandb-col\"><h3>Run history:</h3><br/><table class=\"wandb\"><tr><td>epoch</td><td>▁▃▅▆█</td></tr><tr><td>final_test_accuracy</td><td>▁</td></tr><tr><td>final_test_loss</td><td>▁</td></tr><tr><td>learning_rate</td><td>▁▁▁▁▁</td></tr><tr><td>train_loss</td><td>█▆▃▂▁</td></tr><tr><td>val_accuracy</td><td>▁▃▇██</td></tr><tr><td>val_loss</td><td>█▅▂▁▁</td></tr></table><br/></div><div class=\"wandb-col\"><h3>Run summary:</h3><br/><table class=\"wandb\"><tr><td>epoch</td><td>4</td></tr><tr><td>final_test_accuracy</td><td>0.70516</td></tr><tr><td>final_test_loss</td><td>0.88748</td></tr><tr><td>learning_rate</td><td>0.001</td></tr><tr><td>train_loss</td><td>0.73191</td></tr><tr><td>val_accuracy</td><td>0.69894</td></tr><tr><td>val_loss</td><td>0.90064</td></tr></table><br/></div></div>"
            ]
          },
          "metadata": {}
        },
        {
          "output_type": "display_data",
          "data": {
            "text/plain": [
              "<IPython.core.display.HTML object>"
            ],
            "text/html": [
              " View run <strong style=\"color:#cdcd00\">LSTM_hs256_nl2_bs128_lr0.001_do0.3</strong> at: <a href='https://wandb.ai/da24s016-indian-institute-of-technology-madras/da6401-assignment3_vanilla/runs/txzkbl0d' target=\"_blank\">https://wandb.ai/da24s016-indian-institute-of-technology-madras/da6401-assignment3_vanilla/runs/txzkbl0d</a><br> View project at: <a href='https://wandb.ai/da24s016-indian-institute-of-technology-madras/da6401-assignment3_vanilla' target=\"_blank\">https://wandb.ai/da24s016-indian-institute-of-technology-madras/da6401-assignment3_vanilla</a><br>Synced 5 W&B file(s), 0 media file(s), 0 artifact file(s) and 0 other file(s)"
            ]
          },
          "metadata": {}
        },
        {
          "output_type": "display_data",
          "data": {
            "text/plain": [
              "<IPython.core.display.HTML object>"
            ],
            "text/html": [
              "Find logs at: <code>./wandb/run-20250519_152426-txzkbl0d/logs</code>"
            ]
          },
          "metadata": {}
        },
        {
          "output_type": "stream",
          "name": "stderr",
          "text": [
            "\u001b[34m\u001b[1mwandb\u001b[0m: Agent Starting Run: ni7ofroy with config:\n",
            "\u001b[34m\u001b[1mwandb\u001b[0m: \tbatch_size: 128\n",
            "\u001b[34m\u001b[1mwandb\u001b[0m: \tcell_type: GRU\n",
            "\u001b[34m\u001b[1mwandb\u001b[0m: \tdropout: 0.3\n",
            "\u001b[34m\u001b[1mwandb\u001b[0m: \tembedding_size: 256\n",
            "\u001b[34m\u001b[1mwandb\u001b[0m: \thidden_size: 256\n",
            "\u001b[34m\u001b[1mwandb\u001b[0m: \tlearning_rate: 0.001\n",
            "\u001b[34m\u001b[1mwandb\u001b[0m: \tnum_epochs: 5\n",
            "\u001b[34m\u001b[1mwandb\u001b[0m: \tnum_layers: 3\n"
          ]
        },
        {
          "output_type": "display_data",
          "data": {
            "text/plain": [
              "<IPython.core.display.HTML object>"
            ],
            "text/html": [
              "Ignoring project 'transliteration-sweep' when running a sweep."
            ]
          },
          "metadata": {}
        },
        {
          "output_type": "display_data",
          "data": {
            "text/plain": [
              "<IPython.core.display.HTML object>"
            ],
            "text/html": [
              "Tracking run with wandb version 0.19.11"
            ]
          },
          "metadata": {}
        },
        {
          "output_type": "display_data",
          "data": {
            "text/plain": [
              "<IPython.core.display.HTML object>"
            ],
            "text/html": [
              "Run data is saved locally in <code>/content/wandb/run-20250519_152750-ni7ofroy</code>"
            ]
          },
          "metadata": {}
        },
        {
          "output_type": "display_data",
          "data": {
            "text/plain": [
              "<IPython.core.display.HTML object>"
            ],
            "text/html": [
              "Syncing run <strong><a href='https://wandb.ai/da24s016-indian-institute-of-technology-madras/da6401-assignment3_vanilla/runs/ni7ofroy' target=\"_blank\">driven-sweep-15</a></strong> to <a href='https://wandb.ai/da24s016-indian-institute-of-technology-madras/da6401-assignment3_vanilla' target=\"_blank\">Weights & Biases</a> (<a href='https://wandb.me/developer-guide' target=\"_blank\">docs</a>)<br>Sweep page: <a href='https://wandb.ai/da24s016-indian-institute-of-technology-madras/da6401-assignment3_vanilla/sweeps/64v5oiu0' target=\"_blank\">https://wandb.ai/da24s016-indian-institute-of-technology-madras/da6401-assignment3_vanilla/sweeps/64v5oiu0</a>"
            ]
          },
          "metadata": {}
        },
        {
          "output_type": "display_data",
          "data": {
            "text/plain": [
              "<IPython.core.display.HTML object>"
            ],
            "text/html": [
              " View project at <a href='https://wandb.ai/da24s016-indian-institute-of-technology-madras/da6401-assignment3_vanilla' target=\"_blank\">https://wandb.ai/da24s016-indian-institute-of-technology-madras/da6401-assignment3_vanilla</a>"
            ]
          },
          "metadata": {}
        },
        {
          "output_type": "display_data",
          "data": {
            "text/plain": [
              "<IPython.core.display.HTML object>"
            ],
            "text/html": [
              " View sweep at <a href='https://wandb.ai/da24s016-indian-institute-of-technology-madras/da6401-assignment3_vanilla/sweeps/64v5oiu0' target=\"_blank\">https://wandb.ai/da24s016-indian-institute-of-technology-madras/da6401-assignment3_vanilla/sweeps/64v5oiu0</a>"
            ]
          },
          "metadata": {}
        },
        {
          "output_type": "display_data",
          "data": {
            "text/plain": [
              "<IPython.core.display.HTML object>"
            ],
            "text/html": [
              " View run at <a href='https://wandb.ai/da24s016-indian-institute-of-technology-madras/da6401-assignment3_vanilla/runs/ni7ofroy' target=\"_blank\">https://wandb.ai/da24s016-indian-institute-of-technology-madras/da6401-assignment3_vanilla/runs/ni7ofroy</a>"
            ]
          },
          "metadata": {}
        },
        {
          "output_type": "stream",
          "name": "stdout",
          "text": [
            "Using device: cuda\n",
            "Prepared 44204 pairs\n",
            "Input vocabulary size: 66\n",
            "Output vocabulary size: 29\n",
            "Prepared 4358 pairs\n",
            "Input vocabulary size: 66\n",
            "Output vocabulary size: 29\n",
            "Prepared 4502 pairs\n",
            "Input vocabulary size: 66\n",
            "Output vocabulary size: 29\n",
            "\n",
            "Epoch 1/5\n",
            "Train Loss: 1.8190 | Val Loss: 1.1149\n",
            "Val Accuracy: 0.63%\n",
            "\n",
            "Epoch 2/5\n",
            "Train Loss: 0.8674 | Val Loss: 0.9642\n",
            "Val Accuracy: 0.70%\n",
            "\n",
            "Epoch 3/5\n",
            "Train Loss: 0.7157 | Val Loss: 0.8832\n",
            "Val Accuracy: 0.71%\n",
            "\n",
            "Epoch 4/5\n",
            "Train Loss: 0.6360 | Val Loss: 0.8274\n",
            "Val Accuracy: 0.73%\n",
            "\n",
            "Epoch 5/5\n",
            "Train Loss: 0.5912 | Val Loss: 0.8334\n",
            "Val Accuracy: 0.73%\n",
            "\n",
            "Final Test Accuracy: 0.73%\n"
          ]
        },
        {
          "output_type": "display_data",
          "data": {
            "text/plain": [
              "<IPython.core.display.HTML object>"
            ],
            "text/html": []
          },
          "metadata": {}
        },
        {
          "output_type": "display_data",
          "data": {
            "text/plain": [
              "<IPython.core.display.HTML object>"
            ],
            "text/html": [
              "<br>    <style><br>        .wandb-row {<br>            display: flex;<br>            flex-direction: row;<br>            flex-wrap: wrap;<br>            justify-content: flex-start;<br>            width: 100%;<br>        }<br>        .wandb-col {<br>            display: flex;<br>            flex-direction: column;<br>            flex-basis: 100%;<br>            flex: 1;<br>            padding: 10px;<br>        }<br>    </style><br><div class=\"wandb-row\"><div class=\"wandb-col\"><h3>Run history:</h3><br/><table class=\"wandb\"><tr><td>epoch</td><td>▁▃▅▆█</td></tr><tr><td>final_test_accuracy</td><td>▁</td></tr><tr><td>final_test_loss</td><td>▁</td></tr><tr><td>learning_rate</td><td>▁▁▁▁▁</td></tr><tr><td>train_loss</td><td>█▃▂▁▁</td></tr><tr><td>val_accuracy</td><td>▁▆▇██</td></tr><tr><td>val_loss</td><td>█▄▂▁▁</td></tr></table><br/></div><div class=\"wandb-col\"><h3>Run summary:</h3><br/><table class=\"wandb\"><tr><td>epoch</td><td>4</td></tr><tr><td>final_test_accuracy</td><td>0.7334</td></tr><tr><td>final_test_loss</td><td>0.82499</td></tr><tr><td>learning_rate</td><td>0.001</td></tr><tr><td>train_loss</td><td>0.59123</td></tr><tr><td>val_accuracy</td><td>0.73302</td></tr><tr><td>val_loss</td><td>0.83336</td></tr></table><br/></div></div>"
            ]
          },
          "metadata": {}
        },
        {
          "output_type": "display_data",
          "data": {
            "text/plain": [
              "<IPython.core.display.HTML object>"
            ],
            "text/html": [
              " View run <strong style=\"color:#cdcd00\">GRU_hs256_nl3_bs128_lr0.001_do0.3</strong> at: <a href='https://wandb.ai/da24s016-indian-institute-of-technology-madras/da6401-assignment3_vanilla/runs/ni7ofroy' target=\"_blank\">https://wandb.ai/da24s016-indian-institute-of-technology-madras/da6401-assignment3_vanilla/runs/ni7ofroy</a><br> View project at: <a href='https://wandb.ai/da24s016-indian-institute-of-technology-madras/da6401-assignment3_vanilla' target=\"_blank\">https://wandb.ai/da24s016-indian-institute-of-technology-madras/da6401-assignment3_vanilla</a><br>Synced 5 W&B file(s), 0 media file(s), 0 artifact file(s) and 0 other file(s)"
            ]
          },
          "metadata": {}
        },
        {
          "output_type": "display_data",
          "data": {
            "text/plain": [
              "<IPython.core.display.HTML object>"
            ],
            "text/html": [
              "Find logs at: <code>./wandb/run-20250519_152750-ni7ofroy/logs</code>"
            ]
          },
          "metadata": {}
        },
        {
          "output_type": "stream",
          "name": "stderr",
          "text": [
            "\u001b[34m\u001b[1mwandb\u001b[0m: Agent Starting Run: 0m3pkpwt with config:\n",
            "\u001b[34m\u001b[1mwandb\u001b[0m: \tbatch_size: 128\n",
            "\u001b[34m\u001b[1mwandb\u001b[0m: \tcell_type: GRU\n",
            "\u001b[34m\u001b[1mwandb\u001b[0m: \tdropout: 0.3\n",
            "\u001b[34m\u001b[1mwandb\u001b[0m: \tembedding_size: 256\n",
            "\u001b[34m\u001b[1mwandb\u001b[0m: \thidden_size: 256\n",
            "\u001b[34m\u001b[1mwandb\u001b[0m: \tlearning_rate: 0.001\n",
            "\u001b[34m\u001b[1mwandb\u001b[0m: \tnum_epochs: 5\n",
            "\u001b[34m\u001b[1mwandb\u001b[0m: \tnum_layers: 2\n"
          ]
        },
        {
          "output_type": "display_data",
          "data": {
            "text/plain": [
              "<IPython.core.display.HTML object>"
            ],
            "text/html": [
              "Ignoring project 'transliteration-sweep' when running a sweep."
            ]
          },
          "metadata": {}
        },
        {
          "output_type": "display_data",
          "data": {
            "text/plain": [
              "<IPython.core.display.HTML object>"
            ],
            "text/html": [
              "Tracking run with wandb version 0.19.11"
            ]
          },
          "metadata": {}
        },
        {
          "output_type": "display_data",
          "data": {
            "text/plain": [
              "<IPython.core.display.HTML object>"
            ],
            "text/html": [
              "Run data is saved locally in <code>/content/wandb/run-20250519_153138-0m3pkpwt</code>"
            ]
          },
          "metadata": {}
        },
        {
          "output_type": "display_data",
          "data": {
            "text/plain": [
              "<IPython.core.display.HTML object>"
            ],
            "text/html": [
              "Syncing run <strong><a href='https://wandb.ai/da24s016-indian-institute-of-technology-madras/da6401-assignment3_vanilla/runs/0m3pkpwt' target=\"_blank\">rosy-sweep-16</a></strong> to <a href='https://wandb.ai/da24s016-indian-institute-of-technology-madras/da6401-assignment3_vanilla' target=\"_blank\">Weights & Biases</a> (<a href='https://wandb.me/developer-guide' target=\"_blank\">docs</a>)<br>Sweep page: <a href='https://wandb.ai/da24s016-indian-institute-of-technology-madras/da6401-assignment3_vanilla/sweeps/64v5oiu0' target=\"_blank\">https://wandb.ai/da24s016-indian-institute-of-technology-madras/da6401-assignment3_vanilla/sweeps/64v5oiu0</a>"
            ]
          },
          "metadata": {}
        },
        {
          "output_type": "display_data",
          "data": {
            "text/plain": [
              "<IPython.core.display.HTML object>"
            ],
            "text/html": [
              " View project at <a href='https://wandb.ai/da24s016-indian-institute-of-technology-madras/da6401-assignment3_vanilla' target=\"_blank\">https://wandb.ai/da24s016-indian-institute-of-technology-madras/da6401-assignment3_vanilla</a>"
            ]
          },
          "metadata": {}
        },
        {
          "output_type": "display_data",
          "data": {
            "text/plain": [
              "<IPython.core.display.HTML object>"
            ],
            "text/html": [
              " View sweep at <a href='https://wandb.ai/da24s016-indian-institute-of-technology-madras/da6401-assignment3_vanilla/sweeps/64v5oiu0' target=\"_blank\">https://wandb.ai/da24s016-indian-institute-of-technology-madras/da6401-assignment3_vanilla/sweeps/64v5oiu0</a>"
            ]
          },
          "metadata": {}
        },
        {
          "output_type": "display_data",
          "data": {
            "text/plain": [
              "<IPython.core.display.HTML object>"
            ],
            "text/html": [
              " View run at <a href='https://wandb.ai/da24s016-indian-institute-of-technology-madras/da6401-assignment3_vanilla/runs/0m3pkpwt' target=\"_blank\">https://wandb.ai/da24s016-indian-institute-of-technology-madras/da6401-assignment3_vanilla/runs/0m3pkpwt</a>"
            ]
          },
          "metadata": {}
        },
        {
          "output_type": "stream",
          "name": "stdout",
          "text": [
            "Using device: cuda\n",
            "Prepared 44204 pairs\n",
            "Input vocabulary size: 66\n",
            "Output vocabulary size: 29\n",
            "Prepared 4358 pairs\n",
            "Input vocabulary size: 66\n",
            "Output vocabulary size: 29\n",
            "Prepared 4502 pairs\n",
            "Input vocabulary size: 66\n",
            "Output vocabulary size: 29\n",
            "\n",
            "Epoch 1/5\n",
            "Train Loss: 1.9017 | Val Loss: 1.2907\n",
            "Val Accuracy: 0.58%\n",
            "\n",
            "Epoch 2/5\n",
            "Train Loss: 0.9509 | Val Loss: 0.9923\n",
            "Val Accuracy: 0.67%\n",
            "\n",
            "Epoch 3/5\n",
            "Train Loss: 0.7614 | Val Loss: 0.9212\n",
            "Val Accuracy: 0.69%\n",
            "\n",
            "Epoch 4/5\n",
            "Train Loss: 0.6787 | Val Loss: 0.8705\n",
            "Val Accuracy: 0.71%\n",
            "\n",
            "Epoch 5/5\n",
            "Train Loss: 0.6251 | Val Loss: 0.8662\n",
            "Val Accuracy: 0.72%\n",
            "\n",
            "Final Test Accuracy: 0.72%\n"
          ]
        },
        {
          "output_type": "display_data",
          "data": {
            "text/plain": [
              "<IPython.core.display.HTML object>"
            ],
            "text/html": []
          },
          "metadata": {}
        },
        {
          "output_type": "display_data",
          "data": {
            "text/plain": [
              "<IPython.core.display.HTML object>"
            ],
            "text/html": [
              "<br>    <style><br>        .wandb-row {<br>            display: flex;<br>            flex-direction: row;<br>            flex-wrap: wrap;<br>            justify-content: flex-start;<br>            width: 100%;<br>        }<br>        .wandb-col {<br>            display: flex;<br>            flex-direction: column;<br>            flex-basis: 100%;<br>            flex: 1;<br>            padding: 10px;<br>        }<br>    </style><br><div class=\"wandb-row\"><div class=\"wandb-col\"><h3>Run history:</h3><br/><table class=\"wandb\"><tr><td>epoch</td><td>▁▃▅▆█</td></tr><tr><td>final_test_accuracy</td><td>▁</td></tr><tr><td>final_test_loss</td><td>▁</td></tr><tr><td>learning_rate</td><td>▁▁▁▁▁</td></tr><tr><td>train_loss</td><td>█▃▂▁▁</td></tr><tr><td>val_accuracy</td><td>▁▆▇██</td></tr><tr><td>val_loss</td><td>█▃▂▁▁</td></tr></table><br/></div><div class=\"wandb-col\"><h3>Run summary:</h3><br/><table class=\"wandb\"><tr><td>epoch</td><td>4</td></tr><tr><td>final_test_accuracy</td><td>0.72065</td></tr><tr><td>final_test_loss</td><td>0.84973</td></tr><tr><td>learning_rate</td><td>0.001</td></tr><tr><td>train_loss</td><td>0.62513</td></tr><tr><td>val_accuracy</td><td>0.7156</td></tr><tr><td>val_loss</td><td>0.86616</td></tr></table><br/></div></div>"
            ]
          },
          "metadata": {}
        },
        {
          "output_type": "display_data",
          "data": {
            "text/plain": [
              "<IPython.core.display.HTML object>"
            ],
            "text/html": [
              " View run <strong style=\"color:#cdcd00\">GRU_hs256_nl2_bs128_lr0.001_do0.3</strong> at: <a href='https://wandb.ai/da24s016-indian-institute-of-technology-madras/da6401-assignment3_vanilla/runs/0m3pkpwt' target=\"_blank\">https://wandb.ai/da24s016-indian-institute-of-technology-madras/da6401-assignment3_vanilla/runs/0m3pkpwt</a><br> View project at: <a href='https://wandb.ai/da24s016-indian-institute-of-technology-madras/da6401-assignment3_vanilla' target=\"_blank\">https://wandb.ai/da24s016-indian-institute-of-technology-madras/da6401-assignment3_vanilla</a><br>Synced 5 W&B file(s), 0 media file(s), 0 artifact file(s) and 0 other file(s)"
            ]
          },
          "metadata": {}
        },
        {
          "output_type": "display_data",
          "data": {
            "text/plain": [
              "<IPython.core.display.HTML object>"
            ],
            "text/html": [
              "Find logs at: <code>./wandb/run-20250519_153138-0m3pkpwt/logs</code>"
            ]
          },
          "metadata": {}
        },
        {
          "output_type": "stream",
          "name": "stderr",
          "text": [
            "\u001b[34m\u001b[1mwandb\u001b[0m: Agent Starting Run: t83zyej8 with config:\n",
            "\u001b[34m\u001b[1mwandb\u001b[0m: \tbatch_size: 128\n",
            "\u001b[34m\u001b[1mwandb\u001b[0m: \tcell_type: GRU\n",
            "\u001b[34m\u001b[1mwandb\u001b[0m: \tdropout: 0.3\n",
            "\u001b[34m\u001b[1mwandb\u001b[0m: \tembedding_size: 64\n",
            "\u001b[34m\u001b[1mwandb\u001b[0m: \thidden_size: 256\n",
            "\u001b[34m\u001b[1mwandb\u001b[0m: \tlearning_rate: 0.001\n",
            "\u001b[34m\u001b[1mwandb\u001b[0m: \tnum_epochs: 5\n",
            "\u001b[34m\u001b[1mwandb\u001b[0m: \tnum_layers: 1\n"
          ]
        },
        {
          "output_type": "display_data",
          "data": {
            "text/plain": [
              "<IPython.core.display.HTML object>"
            ],
            "text/html": [
              "Ignoring project 'transliteration-sweep' when running a sweep."
            ]
          },
          "metadata": {}
        },
        {
          "output_type": "display_data",
          "data": {
            "text/plain": [
              "<IPython.core.display.HTML object>"
            ],
            "text/html": [
              "Tracking run with wandb version 0.19.11"
            ]
          },
          "metadata": {}
        },
        {
          "output_type": "display_data",
          "data": {
            "text/plain": [
              "<IPython.core.display.HTML object>"
            ],
            "text/html": [
              "Run data is saved locally in <code>/content/wandb/run-20250519_153440-t83zyej8</code>"
            ]
          },
          "metadata": {}
        },
        {
          "output_type": "display_data",
          "data": {
            "text/plain": [
              "<IPython.core.display.HTML object>"
            ],
            "text/html": [
              "Syncing run <strong><a href='https://wandb.ai/da24s016-indian-institute-of-technology-madras/da6401-assignment3_vanilla/runs/t83zyej8' target=\"_blank\">laced-sweep-17</a></strong> to <a href='https://wandb.ai/da24s016-indian-institute-of-technology-madras/da6401-assignment3_vanilla' target=\"_blank\">Weights & Biases</a> (<a href='https://wandb.me/developer-guide' target=\"_blank\">docs</a>)<br>Sweep page: <a href='https://wandb.ai/da24s016-indian-institute-of-technology-madras/da6401-assignment3_vanilla/sweeps/64v5oiu0' target=\"_blank\">https://wandb.ai/da24s016-indian-institute-of-technology-madras/da6401-assignment3_vanilla/sweeps/64v5oiu0</a>"
            ]
          },
          "metadata": {}
        },
        {
          "output_type": "display_data",
          "data": {
            "text/plain": [
              "<IPython.core.display.HTML object>"
            ],
            "text/html": [
              " View project at <a href='https://wandb.ai/da24s016-indian-institute-of-technology-madras/da6401-assignment3_vanilla' target=\"_blank\">https://wandb.ai/da24s016-indian-institute-of-technology-madras/da6401-assignment3_vanilla</a>"
            ]
          },
          "metadata": {}
        },
        {
          "output_type": "display_data",
          "data": {
            "text/plain": [
              "<IPython.core.display.HTML object>"
            ],
            "text/html": [
              " View sweep at <a href='https://wandb.ai/da24s016-indian-institute-of-technology-madras/da6401-assignment3_vanilla/sweeps/64v5oiu0' target=\"_blank\">https://wandb.ai/da24s016-indian-institute-of-technology-madras/da6401-assignment3_vanilla/sweeps/64v5oiu0</a>"
            ]
          },
          "metadata": {}
        },
        {
          "output_type": "display_data",
          "data": {
            "text/plain": [
              "<IPython.core.display.HTML object>"
            ],
            "text/html": [
              " View run at <a href='https://wandb.ai/da24s016-indian-institute-of-technology-madras/da6401-assignment3_vanilla/runs/t83zyej8' target=\"_blank\">https://wandb.ai/da24s016-indian-institute-of-technology-madras/da6401-assignment3_vanilla/runs/t83zyej8</a>"
            ]
          },
          "metadata": {}
        },
        {
          "output_type": "stream",
          "name": "stdout",
          "text": [
            "Using device: cuda\n",
            "Prepared 44204 pairs\n",
            "Input vocabulary size: 66\n",
            "Output vocabulary size: 29\n",
            "Prepared 4358 pairs\n",
            "Input vocabulary size: 66\n",
            "Output vocabulary size: 29\n",
            "Prepared 4502 pairs\n",
            "Input vocabulary size: 66\n",
            "Output vocabulary size: 29\n",
            "\n",
            "Epoch 1/5\n",
            "Train Loss: 2.3556 | Val Loss: 2.2703\n",
            "Val Accuracy: 0.31%\n"
          ]
        }
      ]
    },
    {
      "cell_type": "code",
      "source": [],
      "metadata": {
        "id": "MShf0HSDb45o"
      },
      "execution_count": null,
      "outputs": []
    }
  ]
}